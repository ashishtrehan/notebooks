{
 "cells": [
  {
   "cell_type": "code",
   "execution_count": 1,
   "metadata": {
    "collapsed": true
   },
   "outputs": [],
   "source": [
    "import pandas as pd"
   ]
  },
  {
   "cell_type": "code",
   "execution_count": 4,
   "metadata": {
    "collapsed": false
   },
   "outputs": [],
   "source": [
    "location='/home/ds/notebooks/Data/superbowl.csv'\n",
    "df=pd.read_csv(location)"
   ]
  },
  {
   "cell_type": "code",
   "execution_count": 6,
   "metadata": {
    "collapsed": false
   },
   "outputs": [
    {
     "data": {
      "text/plain": [
       "['shift_id',\n",
       " 'handle',\n",
       " 'answered_survey_id',\n",
       " 'retailer',\n",
       " 'store',\n",
       " 'street_address',\n",
       " 'completed_at',\n",
       " 'market',\n",
       " 'city',\n",
       " 'state',\n",
       " 'zip',\n",
       " 'TDLinx Number',\n",
       " '_store _number',\n",
       " '_owning _company',\n",
       " '_tdlinx',\n",
       " 'Please search the store for Coke on display. \\r\\rA display is any secondary location of the item, outside of the home shelf/aisle. Exception: please do not count the coolers in the checkout lanes as displays.\\r\\rThere must be Coca-Cola Classic on the display. \\r\\rDid you find a Coke display?\\r',\n",
       " 'What type of display is the Coke display?\\r',\n",
       " 'What location best describes where you found the Coke display?\\r',\n",
       " 'Please search the store for a second Coke display. \\r\\rA display is any secondary location of the item, outside of the home shelf/aisle. Exception: please do not count the coolers in the checkout lanes as displays.\\r\\rThere must be Coca-Cola Classic on the display. \\r\\rDid you find a second Coke display?\\r',\n",
       " 'What type of display is the second Coke display?\\r',\n",
       " 'What location best describes where you found the second Coke display?\\r',\n",
       " 'Please search the store for a third Coke display. \\r\\rA display is any secondary location of the item, outside of the home shelf/aisle. Exception: please do not count the coolers in the checkout lanes as displays.\\r\\rThere must be Coca-Cola Classic on the display. \\r\\rDid you find a third Coke display?\\r',\n",
       " 'What type of display is the third Coke display?\\r',\n",
       " 'What location best describes where you found the third Coke display?\\r',\n",
       " 'Please search the store for a fourth Coke display. \\r\\rA display is any secondary location of the item, outside of the home shelf/aisle. Exception: please do not count the coolers in the checkout lanes as displays.\\r\\rThere must be Coca-Cola Classic on the display. \\r\\rDid you find a fourth Coke display?\\r',\n",
       " 'What type of display is the fourth Coke display?\\r',\n",
       " 'What location best describes where you found the fourth Coke display?\\r',\n",
       " 'Please search the store for Pepsi on display. \\r\\rA display is any secondary location of the item, outside of the home shelf/aisle. Exception: please do not count the coolers in the checkout lanes as displays.\\r\\rThere must be Pepsi Original on the display. \\r\\rDid you find a Pepsi display?\\r',\n",
       " 'What type of display is the Pepsi display?\\r',\n",
       " 'What location best describes where you found the Pepsi display?\\r',\n",
       " 'Please search the store for a second Pepsi display. \\r\\rA display is any secondary location of the item, outside of the home shelf/aisle. Exception: please do not count the coolers in the checkout lanes as displays.\\r\\rThere must be Pepsi Original on the display. \\r\\rDid you find a second Pepsi display?\\r',\n",
       " 'What type of display is the second Pepsi display?\\r',\n",
       " 'What location best describes where you found the second Pepsi display?\\r',\n",
       " 'Please search the store for a third Pepsi display. \\r\\rA display is any secondary location of the item, outside of the home shelf/aisle. Exception: please do not count the coolers in the checkout lanes as displays.\\r\\rThere must be Pepsi Original on the display. \\r\\rDid you find a third Pepsi display?\\r',\n",
       " 'What type of display is the third Pepsi display?\\r',\n",
       " 'What location best describes where you found the third Pepsi display?\\r',\n",
       " 'Please search the store for a fourth Pepsi display. \\r\\rA display is any secondary location of the item, outside of the home shelf/aisle. Exception: please do not count the coolers in the checkout lanes as displays.\\r\\rThere must be Pepsi Original on the display. \\r\\rDid you find a fourth Pepsi display?\\r',\n",
       " 'What type of display is the fourth Pepsi display?\\r',\n",
       " 'What location best describes where you found the fourth Pepsi display?\\r',\n",
       " 'Please search the store for Mtn Dew on display. \\r\\rA display is any secondary location of the item, outside of the home shelf/aisle. Exception: please do not count the coolers in the checkout lanes as displays.\\r\\rThere must be Mtn Dew Original on the display. \\r\\rDid you find a Mtn Dew display?\\r',\n",
       " 'What type of display is the Mtn Dew display?\\r',\n",
       " 'What location best describes where you found the Mtn Dew display?\\r',\n",
       " 'Please search the store for a second Mtn Dew display. \\r\\rA display is any secondary location of the item, outside of the home shelf/aisle. Exception: please do not count the coolers in the checkout lanes as displays.\\r\\rThere must be Mtn Dew Original on the display. \\r\\rDid you find a second Mtn Dew display?\\r',\n",
       " 'What type of display is the second Mtn Dew display?\\r',\n",
       " 'What location best describes where you found the second Mtn Dew display?\\r',\n",
       " 'Please search the store for a third Mtn Dew display. \\r\\rA display is any secondary location of the item, outside of the home shelf/aisle. Exception: please do not count the coolers in the checkout lanes as displays.\\r\\rThere must be Mtn Dew Original on the display. \\r\\rDid you find a third Mtn Dew display?\\r',\n",
       " 'What type of display is the third Mtn Dew display?\\r',\n",
       " 'What location best describes where you found the third Mtn Dew display?\\r',\n",
       " 'Please search the store for a fourth Mtn Dew display. \\r\\rA display is any secondary location of the item, outside of the home shelf/aisle. Exception: please do not count the coolers in the checkout lanes as displays.\\r\\rThere must be Mtn Dew Original on the display. \\r\\rDid you find a fourth Mtn Dew display?\\r',\n",
       " 'What type of display is the fourth Mtn Dew display?\\r',\n",
       " 'What location best describes where you found the fourth Mtn Dew display?\\r',\n",
       " 'Please search the store for Bud Light on display. \\r\\rA display is any secondary location of the item, outside of the home shelf/aisle.\\r\\rDid you find a Bud Light display?\\r',\n",
       " 'What type of display is the Bud Light display?\\r',\n",
       " 'What location best describes where you found the Bud Light display?\\r',\n",
       " 'Please search the store for a second Bud Light display. \\r\\rA display is any secondary location of the item, outside of the home shelf/aisle.\\r\\rDid you find a second Bud Light display?\\r',\n",
       " 'What type of display is the second Bud Light display?\\r',\n",
       " 'What location best describes where you found the second Bud Light display?\\r',\n",
       " 'Please search the store for a third Bud Light display. \\r\\rA display is any secondary location of the item, outside of the home shelf/aisle.\\r\\rDid you find a third Bud Light display?\\r',\n",
       " 'What type of display is the third Bud Light display?\\r',\n",
       " 'What location best describes where you found the third Bud Light display?\\r',\n",
       " 'Please search the store for a fourth Bud Light display. \\r\\rA display is any secondary location of the item, outside of the home shelf/aisle.\\r\\rDid you find a fourth Bud Light display?\\r',\n",
       " 'What type of display is the fourth Bud Light display?\\r',\n",
       " 'What location best describes where you found the fourth Bud Light display?\\r',\n",
       " 'Please search the store for Michelob Ultra on display. \\r\\rA display is any secondary location of the item, outside of the home shelf/aisle.\\r\\rDid you find a Michelob Ultra display?\\r',\n",
       " 'What type of display is the Michelob Ultra display?\\r',\n",
       " 'What location best describes where you found the Michelob Ultra display?\\r',\n",
       " 'Please search the store for a second Michelob Ultra display. \\r\\rA display is any secondary location of the item, outside of the home shelf/aisle.\\r\\rDid you find a second Michelob Ultra display?\\r',\n",
       " 'What type of display is the second Michelob Ultra display?\\r',\n",
       " 'What location best describes where you found the second Michelob Ultra display?\\r',\n",
       " 'Please search the store for a third Michelob Ultra display. \\r\\rA display is any secondary location of the item, outside of the home shelf/aisle.\\r\\rDid you find a third Michelob Ultra display?\\r',\n",
       " 'What type of display is the third Michelob Ultra display?\\r',\n",
       " 'What location best describes where you found the third Michelob Ultra display?\\r',\n",
       " 'Please search the store for a fourth Michelob Ultra display. \\r\\rA display is any secondary location of the item, outside of the home shelf/aisle.\\r\\rDid you find a fourth Michelob Ultra display?\\r',\n",
       " 'What type of display is the fourth Michelob Ultra display?\\r',\n",
       " 'What location best describes where you found the fourth Michelob Ultra display?\\r',\n",
       " \"Please search the store for Skittles on display that is NOT a Valentine's Day display.\\r\\rA display is any secondary location of the item, outside of the home shelf/aisle. Exception: please do not count the candy in the checkout lanes as displays.\\r\\rDid you find a (non-Valentine's Day) Skittles display?\\r\",\n",
       " 'What location best describes where you found the Skittles display?\\r',\n",
       " \"Please search the store for a second (non-Valentine's Day) Skittles display. \\r\\rA display is any secondary location of the item, outside of the home shelf/aisle. Exception: please do not count the candy in the checkout lanes as displays.\\r\\rDid you find a second Skittles display?\\r\",\n",
       " 'What type of display is the second Skittles display?\\r',\n",
       " 'What location best describes where you found the second Skittles display?\\r',\n",
       " \"Please search the store for a third  (non-Valentine's Day) Skittles display. \\r\\rA display is any secondary location of the item, outside of the home shelf/aisle. Exception: please do not count the candy in the checkout lanes as displays.\\r\\rDid you find a third Skittles display?\\r\",\n",
       " 'What type of display is the third Skittles display?\\r',\n",
       " 'What location best describes where you found the third \\rSkittles display?\\r',\n",
       " \"Please search the store for a fourth (non-Valentine's Day) Skittles display. \\r\\rA display is any secondary location of the item, outside of the home shelf/aisle. Exception: please do not count the candy in the checkout lanes as displays.\\r\\rDid you find a fourth Skittles display?\\r\",\n",
       " 'What type of display is the fourth Skittles display?\\r',\n",
       " 'What location best describes where you found the fourth Skittles display?\\r',\n",
       " \"Please search the store for Snickers on display that is NOT a Valentine's Day display. \\r\\rA display is any secondary location of the item, outside of the home shelf/aisle. Exception: please do not count the candy in the checkout lanes as displays.\\r\\rDid you find a (non-Valentine's Day) Snickers display?\\r\",\n",
       " 'What type of display is the Snickers display?\\r',\n",
       " 'What location best describes where you found the Snickers display?\\r',\n",
       " \"Please search the store for a second (non-Valentine's Day)  Snickers display. \\r\\rA display is any secondary location of the item, outside of the home shelf/aisle. Exception: please do not count the candy in the checkout lanes as displays.\\r\\rDid you find a second Snickers display?\\r\",\n",
       " 'What type of display is the second Snickers display?\\r',\n",
       " 'What location best describes where you found the second Snickers display?\\r',\n",
       " \"Please search the store for a third  (non-Valentine's Day) Snickers display. \\r\\rA display is any secondary location of the item, outside of the home shelf/aisle. Exception: please do not count the candy in the checkout lanes as displays.\\r\\rDid you find a third Snickers display?\\r\",\n",
       " 'What type of display is the third Snickers display?\\r',\n",
       " 'What location best describes where you found the third \\rSnickers display?\\r',\n",
       " \"Please search the store for a fourth  (non-Valentine's Day) Snickers display. \\r\\rA display is any secondary location of the item, outside of the home shelf/aisle. Exception: please do not count the candy in the checkout lanes as displays.\\r\\rDid you find a fourth Snickers display?\\r\",\n",
       " 'What type of display is the fourth Snickers display?\\r',\n",
       " 'What location best describes where you found the fourth Snickers display?\\r',\n",
       " 'Please search the store for Doritos on display. \\r\\rA display is any secondary location of the item, outside of the home shelf/aisle.\\r\\rDid you find a Doritos display?\\r',\n",
       " 'What type of display is the Doritos display?\\r',\n",
       " 'What location best describes where you found the Doritos display?\\r',\n",
       " 'Please search the store for a second Doritos display. \\r\\rA display is any secondary location of the item, outside of the home shelf/aisle.\\r\\rDid you find a second Doritos display?\\r',\n",
       " 'What type of display is the second Doritos display?\\r',\n",
       " 'What location best describes where you found the second Doritos display?\\r',\n",
       " 'Please search the store for a third Doritos display. \\r\\rA display is any secondary location of the item, outside of the home shelf/aisle.\\r\\rDid you find a third Doritos display?\\r',\n",
       " 'What type of display is the third Doritos display?\\r',\n",
       " 'What location best describes where you found the third \\rDoritos display?\\r',\n",
       " 'Please search the store for a fourth Doritos display. \\r\\rA display is any secondary location of the item, outside of the home shelf/aisle.\\r\\rDid you find a fourth Doritos display?\\r',\n",
       " 'What type of display is the fourth Doritos display?\\r',\n",
       " 'What location best describes where you found the fourth Doritos display?\\r',\n",
       " 'Please search the store for Tostitos on display. \\r\\rA display is any secondary location of the item, outside of the home shelf/aisle.\\r\\rDid you find a Tostitos display?\\r',\n",
       " 'What type of display is the Tostitos display?\\r',\n",
       " 'What location best describes where you found the Tostitos display?\\r',\n",
       " 'Please search the store for a second Tostitos display. \\r\\rA display is any secondary location of the item, outside of the home shelf/aisle.\\r\\rDid you find a second Tostitos display?\\r',\n",
       " 'What type of display is the second Tostitos display?\\r',\n",
       " 'What location best describes where you found the second Tostitos display?\\r',\n",
       " 'Please search the store for a third Tostitos display. \\r\\rA display is any secondary location of the item, outside of the home shelf/aisle.\\r\\rDid you find a third Tostitos display?\\r',\n",
       " 'What type of display is the third Tostitos display?\\r',\n",
       " 'What location best describes where you found the third \\rTostitos display?\\r',\n",
       " 'Please search the store for a fourth Tostitos display. \\r\\rA display is any secondary location of the item, outside of the home shelf/aisle.\\r\\rDid you find a fourth Tostitos display?\\r',\n",
       " 'What type of display is the fourth Tostitos display?\\r',\n",
       " 'What location best describes where you found the fourth Tostitos display?\\r',\n",
       " 'accepted_at']"
      ]
     },
     "execution_count": 6,
     "metadata": {},
     "output_type": "execute_result"
    }
   ],
   "source": [
    "df.columns.tolist()"
   ]
  },
  {
   "cell_type": "code",
   "execution_count": null,
   "metadata": {
    "collapsed": true
   },
   "outputs": [],
   "source": []
  }
 ],
 "metadata": {
  "kernelspec": {
   "display_name": "Python 2",
   "language": "python",
   "name": "python2"
  },
  "language_info": {
   "codemirror_mode": {
    "name": "ipython",
    "version": 2
   },
   "file_extension": ".py",
   "mimetype": "text/x-python",
   "name": "python",
   "nbconvert_exporter": "python",
   "pygments_lexer": "ipython2",
   "version": "2.7.6"
  }
 },
 "nbformat": 4,
 "nbformat_minor": 0
}
