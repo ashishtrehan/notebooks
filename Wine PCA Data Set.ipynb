{
 "cells": [
  {
   "cell_type": "code",
   "execution_count": 1,
   "metadata": {
    "collapsed": true
   },
   "outputs": [],
   "source": [
    "import pandas as pd\n",
    "import numpy as np\n",
    "from bokeh.io import output_notebook "
   ]
  },
  {
   "cell_type": "code",
   "execution_count": 2,
   "metadata": {
    "collapsed": false
   },
   "outputs": [
    {
     "data": {
      "text/html": [
       "<div>\n",
       "<table border=\"1\" class=\"dataframe\">\n",
       "  <thead>\n",
       "    <tr style=\"text-align: right;\">\n",
       "      <th></th>\n",
       "      <th>Unnamed: 0</th>\n",
       "      <th>fixed.acidity</th>\n",
       "      <th>volatile.acidity</th>\n",
       "      <th>citric.acid</th>\n",
       "      <th>residual.sugar</th>\n",
       "      <th>chlorides</th>\n",
       "      <th>free.sulfur.dioxide</th>\n",
       "      <th>total.sulfur.dioxide</th>\n",
       "      <th>density</th>\n",
       "      <th>pH</th>\n",
       "      <th>sulphates</th>\n",
       "      <th>alcohol</th>\n",
       "      <th>quality</th>\n",
       "      <th>rt.sulfur.dioxide</th>\n",
       "    </tr>\n",
       "  </thead>\n",
       "  <tbody>\n",
       "    <tr>\n",
       "      <th>0</th>\n",
       "      <td>2083</td>\n",
       "      <td>7.5</td>\n",
       "      <td>0.33</td>\n",
       "      <td>0.32</td>\n",
       "      <td>11.1</td>\n",
       "      <td>0.036</td>\n",
       "      <td>25</td>\n",
       "      <td>119</td>\n",
       "      <td>0.99620</td>\n",
       "      <td>3.15</td>\n",
       "      <td>0.34</td>\n",
       "      <td>10.5</td>\n",
       "      <td>6</td>\n",
       "      <td>5.000000</td>\n",
       "    </tr>\n",
       "    <tr>\n",
       "      <th>1</th>\n",
       "      <td>3040</td>\n",
       "      <td>6.3</td>\n",
       "      <td>0.27</td>\n",
       "      <td>0.29</td>\n",
       "      <td>12.2</td>\n",
       "      <td>0.044</td>\n",
       "      <td>59</td>\n",
       "      <td>196</td>\n",
       "      <td>0.99782</td>\n",
       "      <td>3.14</td>\n",
       "      <td>0.40</td>\n",
       "      <td>8.8</td>\n",
       "      <td>6</td>\n",
       "      <td>7.681146</td>\n",
       "    </tr>\n",
       "    <tr>\n",
       "      <th>2</th>\n",
       "      <td>551</td>\n",
       "      <td>7.0</td>\n",
       "      <td>0.30</td>\n",
       "      <td>0.51</td>\n",
       "      <td>13.6</td>\n",
       "      <td>0.050</td>\n",
       "      <td>40</td>\n",
       "      <td>168</td>\n",
       "      <td>0.99760</td>\n",
       "      <td>3.07</td>\n",
       "      <td>0.52</td>\n",
       "      <td>9.6</td>\n",
       "      <td>7</td>\n",
       "      <td>6.324555</td>\n",
       "    </tr>\n",
       "    <tr>\n",
       "      <th>3</th>\n",
       "      <td>745</td>\n",
       "      <td>7.4</td>\n",
       "      <td>0.38</td>\n",
       "      <td>0.27</td>\n",
       "      <td>7.5</td>\n",
       "      <td>0.041</td>\n",
       "      <td>24</td>\n",
       "      <td>160</td>\n",
       "      <td>0.99535</td>\n",
       "      <td>3.17</td>\n",
       "      <td>0.43</td>\n",
       "      <td>10.0</td>\n",
       "      <td>5</td>\n",
       "      <td>4.898979</td>\n",
       "    </tr>\n",
       "    <tr>\n",
       "      <th>4</th>\n",
       "      <td>2957</td>\n",
       "      <td>8.1</td>\n",
       "      <td>0.12</td>\n",
       "      <td>0.38</td>\n",
       "      <td>0.9</td>\n",
       "      <td>0.034</td>\n",
       "      <td>36</td>\n",
       "      <td>86</td>\n",
       "      <td>0.99026</td>\n",
       "      <td>2.80</td>\n",
       "      <td>0.55</td>\n",
       "      <td>12.0</td>\n",
       "      <td>6</td>\n",
       "      <td>6.000000</td>\n",
       "    </tr>\n",
       "  </tbody>\n",
       "</table>\n",
       "</div>"
      ],
      "text/plain": [
       "   Unnamed: 0  fixed.acidity  volatile.acidity  citric.acid  residual.sugar  \\\n",
       "0        2083            7.5              0.33         0.32            11.1   \n",
       "1        3040            6.3              0.27         0.29            12.2   \n",
       "2         551            7.0              0.30         0.51            13.6   \n",
       "3         745            7.4              0.38         0.27             7.5   \n",
       "4        2957            8.1              0.12         0.38             0.9   \n",
       "\n",
       "   chlorides  free.sulfur.dioxide  total.sulfur.dioxide  density    pH  \\\n",
       "0      0.036                   25                   119  0.99620  3.15   \n",
       "1      0.044                   59                   196  0.99782  3.14   \n",
       "2      0.050                   40                   168  0.99760  3.07   \n",
       "3      0.041                   24                   160  0.99535  3.17   \n",
       "4      0.034                   36                    86  0.99026  2.80   \n",
       "\n",
       "   sulphates  alcohol  quality  rt.sulfur.dioxide  \n",
       "0       0.34     10.5        6           5.000000  \n",
       "1       0.40      8.8        6           7.681146  \n",
       "2       0.52      9.6        7           6.324555  \n",
       "3       0.43     10.0        5           4.898979  \n",
       "4       0.55     12.0        6           6.000000  "
      ]
     },
     "execution_count": 2,
     "metadata": {},
     "output_type": "execute_result"
    }
   ],
   "source": [
    "location='/home/ds/notebooks/Data/Training50_winedata.csv'\n",
    "df=pd.read_csv(location)\n",
    "df.head()"
   ]
  },
  {
   "cell_type": "code",
   "execution_count": 3,
   "metadata": {
    "collapsed": false
   },
   "outputs": [
    {
     "name": "stdout",
     "output_type": "stream",
     "text": [
      "There are 14 columns with 2037 observations\n"
     ]
    }
   ],
   "source": [
    "x,y=df.shape\n",
    "print \"There are {0} columns with {1} observations\".format(y,x)"
   ]
  },
  {
   "cell_type": "code",
   "execution_count": 4,
   "metadata": {
    "collapsed": true
   },
   "outputs": [],
   "source": [
    "# remove duplicate columns\n",
    "colsToRemove = []\n",
    "columns = df.columns\n",
    "for i in range(len(columns)-1):\n",
    "    v = df[columns[i]].values\n",
    "    for j in range(i+1,len(columns)):\n",
    "        if np.array_equal(v,df[columns[j]].values):\n",
    "            colsToRemove.append(columns[j])\n",
    "df.drop(colsToRemove, axis=1, inplace=True)\n",
    "#remove constant columns\n",
    "colsToRemove = []\n",
    "for col in df.columns:\n",
    "    if df[col].std() == 0:\n",
    "        colsToRemove.append(col)\n",
    "df.drop(colsToRemove, axis=1, inplace=True)"
   ]
  },
  {
   "cell_type": "code",
   "execution_count": 5,
   "metadata": {
    "collapsed": false
   },
   "outputs": [
    {
     "data": {
      "text/html": [
       "<div>\n",
       "<table border=\"1\" class=\"dataframe\">\n",
       "  <thead>\n",
       "    <tr style=\"text-align: right;\">\n",
       "      <th></th>\n",
       "      <th>Unnamed: 0</th>\n",
       "      <th>fixed.acidity</th>\n",
       "      <th>volatile.acidity</th>\n",
       "      <th>citric.acid</th>\n",
       "      <th>residual.sugar</th>\n",
       "      <th>chlorides</th>\n",
       "      <th>free.sulfur.dioxide</th>\n",
       "      <th>total.sulfur.dioxide</th>\n",
       "      <th>density</th>\n",
       "      <th>pH</th>\n",
       "      <th>sulphates</th>\n",
       "      <th>alcohol</th>\n",
       "      <th>quality</th>\n",
       "      <th>rt.sulfur.dioxide</th>\n",
       "    </tr>\n",
       "  </thead>\n",
       "  <tbody>\n",
       "    <tr>\n",
       "      <th>count</th>\n",
       "      <td>2037.000000</td>\n",
       "      <td>2037.000000</td>\n",
       "      <td>2037.000000</td>\n",
       "      <td>2037.000000</td>\n",
       "      <td>2037.000000</td>\n",
       "      <td>2037.000000</td>\n",
       "      <td>2037.000000</td>\n",
       "      <td>2037.000000</td>\n",
       "      <td>2037.000000</td>\n",
       "      <td>2037.000000</td>\n",
       "      <td>2037.000000</td>\n",
       "      <td>2037.000000</td>\n",
       "      <td>2037.000000</td>\n",
       "      <td>2037.000000</td>\n",
       "    </tr>\n",
       "    <tr>\n",
       "      <th>mean</th>\n",
       "      <td>2530.610702</td>\n",
       "      <td>6.825626</td>\n",
       "      <td>0.266568</td>\n",
       "      <td>0.323201</td>\n",
       "      <td>6.277590</td>\n",
       "      <td>0.042211</td>\n",
       "      <td>34.718949</td>\n",
       "      <td>136.945508</td>\n",
       "      <td>0.993813</td>\n",
       "      <td>3.186348</td>\n",
       "      <td>0.481055</td>\n",
       "      <td>10.598771</td>\n",
       "      <td>5.929799</td>\n",
       "      <td>5.733111</td>\n",
       "    </tr>\n",
       "    <tr>\n",
       "      <th>std</th>\n",
       "      <td>1411.751450</td>\n",
       "      <td>0.753302</td>\n",
       "      <td>0.076738</td>\n",
       "      <td>0.094378</td>\n",
       "      <td>4.867284</td>\n",
       "      <td>0.009973</td>\n",
       "      <td>15.215444</td>\n",
       "      <td>41.424123</td>\n",
       "      <td>0.002862</td>\n",
       "      <td>0.138701</td>\n",
       "      <td>0.098560</td>\n",
       "      <td>1.222840</td>\n",
       "      <td>0.845931</td>\n",
       "      <td>1.360625</td>\n",
       "    </tr>\n",
       "    <tr>\n",
       "      <th>min</th>\n",
       "      <td>1.000000</td>\n",
       "      <td>4.400000</td>\n",
       "      <td>0.080000</td>\n",
       "      <td>0.000000</td>\n",
       "      <td>0.700000</td>\n",
       "      <td>0.012000</td>\n",
       "      <td>3.000000</td>\n",
       "      <td>21.000000</td>\n",
       "      <td>0.987110</td>\n",
       "      <td>2.790000</td>\n",
       "      <td>0.220000</td>\n",
       "      <td>8.400000</td>\n",
       "      <td>3.000000</td>\n",
       "      <td>1.732051</td>\n",
       "    </tr>\n",
       "    <tr>\n",
       "      <th>25%</th>\n",
       "      <td>1306.000000</td>\n",
       "      <td>6.300000</td>\n",
       "      <td>0.210000</td>\n",
       "      <td>0.270000</td>\n",
       "      <td>1.700000</td>\n",
       "      <td>0.035000</td>\n",
       "      <td>24.000000</td>\n",
       "      <td>107.000000</td>\n",
       "      <td>0.991520</td>\n",
       "      <td>3.090000</td>\n",
       "      <td>0.410000</td>\n",
       "      <td>9.500000</td>\n",
       "      <td>5.000000</td>\n",
       "      <td>4.898979</td>\n",
       "    </tr>\n",
       "    <tr>\n",
       "      <th>50%</th>\n",
       "      <td>2585.000000</td>\n",
       "      <td>6.800000</td>\n",
       "      <td>0.260000</td>\n",
       "      <td>0.310000</td>\n",
       "      <td>5.300000</td>\n",
       "      <td>0.042000</td>\n",
       "      <td>34.000000</td>\n",
       "      <td>133.000000</td>\n",
       "      <td>0.993500</td>\n",
       "      <td>3.180000</td>\n",
       "      <td>0.470000</td>\n",
       "      <td>10.500000</td>\n",
       "      <td>6.000000</td>\n",
       "      <td>5.830952</td>\n",
       "    </tr>\n",
       "    <tr>\n",
       "      <th>75%</th>\n",
       "      <td>3733.000000</td>\n",
       "      <td>7.300000</td>\n",
       "      <td>0.310000</td>\n",
       "      <td>0.380000</td>\n",
       "      <td>9.400000</td>\n",
       "      <td>0.049000</td>\n",
       "      <td>45.000000</td>\n",
       "      <td>166.000000</td>\n",
       "      <td>0.995800</td>\n",
       "      <td>3.280000</td>\n",
       "      <td>0.540000</td>\n",
       "      <td>11.450000</td>\n",
       "      <td>6.000000</td>\n",
       "      <td>6.708204</td>\n",
       "    </tr>\n",
       "    <tr>\n",
       "      <th>max</th>\n",
       "      <td>4897.000000</td>\n",
       "      <td>8.800000</td>\n",
       "      <td>0.485000</td>\n",
       "      <td>0.570000</td>\n",
       "      <td>20.800000</td>\n",
       "      <td>0.071000</td>\n",
       "      <td>78.000000</td>\n",
       "      <td>253.000000</td>\n",
       "      <td>1.001960</td>\n",
       "      <td>3.560000</td>\n",
       "      <td>0.760000</td>\n",
       "      <td>14.200000</td>\n",
       "      <td>9.000000</td>\n",
       "      <td>8.831761</td>\n",
       "    </tr>\n",
       "  </tbody>\n",
       "</table>\n",
       "</div>"
      ],
      "text/plain": [
       "        Unnamed: 0  fixed.acidity  volatile.acidity  citric.acid  \\\n",
       "count  2037.000000    2037.000000       2037.000000  2037.000000   \n",
       "mean   2530.610702       6.825626          0.266568     0.323201   \n",
       "std    1411.751450       0.753302          0.076738     0.094378   \n",
       "min       1.000000       4.400000          0.080000     0.000000   \n",
       "25%    1306.000000       6.300000          0.210000     0.270000   \n",
       "50%    2585.000000       6.800000          0.260000     0.310000   \n",
       "75%    3733.000000       7.300000          0.310000     0.380000   \n",
       "max    4897.000000       8.800000          0.485000     0.570000   \n",
       "\n",
       "       residual.sugar    chlorides  free.sulfur.dioxide  total.sulfur.dioxide  \\\n",
       "count     2037.000000  2037.000000          2037.000000           2037.000000   \n",
       "mean         6.277590     0.042211            34.718949            136.945508   \n",
       "std          4.867284     0.009973            15.215444             41.424123   \n",
       "min          0.700000     0.012000             3.000000             21.000000   \n",
       "25%          1.700000     0.035000            24.000000            107.000000   \n",
       "50%          5.300000     0.042000            34.000000            133.000000   \n",
       "75%          9.400000     0.049000            45.000000            166.000000   \n",
       "max         20.800000     0.071000            78.000000            253.000000   \n",
       "\n",
       "           density           pH    sulphates      alcohol      quality  \\\n",
       "count  2037.000000  2037.000000  2037.000000  2037.000000  2037.000000   \n",
       "mean      0.993813     3.186348     0.481055    10.598771     5.929799   \n",
       "std       0.002862     0.138701     0.098560     1.222840     0.845931   \n",
       "min       0.987110     2.790000     0.220000     8.400000     3.000000   \n",
       "25%       0.991520     3.090000     0.410000     9.500000     5.000000   \n",
       "50%       0.993500     3.180000     0.470000    10.500000     6.000000   \n",
       "75%       0.995800     3.280000     0.540000    11.450000     6.000000   \n",
       "max       1.001960     3.560000     0.760000    14.200000     9.000000   \n",
       "\n",
       "       rt.sulfur.dioxide  \n",
       "count        2037.000000  \n",
       "mean            5.733111  \n",
       "std             1.360625  \n",
       "min             1.732051  \n",
       "25%             4.898979  \n",
       "50%             5.830952  \n",
       "75%             6.708204  \n",
       "max             8.831761  "
      ]
     },
     "execution_count": 5,
     "metadata": {},
     "output_type": "execute_result"
    }
   ],
   "source": [
    "df.describe()"
   ]
  },
  {
   "cell_type": "code",
   "execution_count": 6,
   "metadata": {
    "collapsed": true
   },
   "outputs": [],
   "source": [
    "trainLabels = df['quality']\n",
    "trainFeatures = df.drop(['Unnamed: 0','quality'], axis=1)"
   ]
  },
  {
   "cell_type": "code",
   "execution_count": 7,
   "metadata": {
    "collapsed": true
   },
   "outputs": [],
   "source": [
    "from sklearn.decomposition import PCA, FactorAnalysis\n",
    "pca = PCA(whiten=True)\n",
    "pca_1=pca.fit(trainFeatures)"
   ]
  },
  {
   "cell_type": "code",
   "execution_count": 8,
   "metadata": {
    "collapsed": false
   },
   "outputs": [
    {
     "name": "stdout",
     "output_type": "stream",
     "text": [
      "[  9.23114096e-01   6.62317666e-02   9.82594485e-03   5.03184085e-04\n",
      "   2.83130838e-04   2.25458647e-05   7.84944115e-06   4.74478320e-06\n",
      "   4.17699402e-06   2.52735981e-06   3.30399431e-08   8.65061757e-11]\n",
      "First conponment explains 0.923114096095 of the variance\n"
     ]
    }
   ],
   "source": [
    "print(pca_1.explained_variance_ratio_) \n",
    "print \"First conponment explains {0} of the variance\".format(pca_1.explained_variance_ratio_[0])"
   ]
  },
  {
   "cell_type": "code",
   "execution_count": 9,
   "metadata": {
    "collapsed": true
   },
   "outputs": [],
   "source": [
    "from sklearn.preprocessing import StandardScaler"
   ]
  },
  {
   "cell_type": "code",
   "execution_count": 10,
   "metadata": {
    "collapsed": true
   },
   "outputs": [],
   "source": [
    "X = StandardScaler().fit_transform(trainFeatures)"
   ]
  },
  {
   "cell_type": "code",
   "execution_count": 11,
   "metadata": {
    "collapsed": false
   },
   "outputs": [
    {
     "name": "stdout",
     "output_type": "stream",
     "text": [
      "[ 0.32313486  0.14278067  0.11761224  0.09680227  0.08264668  0.06678514\n",
      "  0.06295004  0.04821556  0.03130429  0.02574372  0.00104026  0.00098427]\n",
      "First conponment explains 32.0% of the variance after standardizing the features\n"
     ]
    }
   ],
   "source": [
    "pca = PCA(whiten=True)\n",
    "pca_2=pca.fit(X)\n",
    "print(pca_2.explained_variance_ratio_)  \n",
    "print \"First conponment explains {0}% of the variance after standardizing the features\".\\\n",
    "format(round(pca_2.explained_variance_ratio_[0],2)*100)"
   ]
  },
  {
   "cell_type": "code",
   "execution_count": 12,
   "metadata": {
    "collapsed": true
   },
   "outputs": [],
   "source": [
    "df2=pd.DataFrame(pca_2.components_,columns=trainFeatures.columns)"
   ]
  },
  {
   "cell_type": "code",
   "execution_count": 13,
   "metadata": {
    "collapsed": false
   },
   "outputs": [
    {
     "data": {
      "text/html": [
       "<div>\n",
       "<table border=\"1\" class=\"dataframe\">\n",
       "  <thead>\n",
       "    <tr style=\"text-align: right;\">\n",
       "      <th></th>\n",
       "      <th>fixed.acidity</th>\n",
       "      <th>volatile.acidity</th>\n",
       "      <th>citric.acid</th>\n",
       "      <th>residual.sugar</th>\n",
       "      <th>chlorides</th>\n",
       "      <th>free.sulfur.dioxide</th>\n",
       "      <th>total.sulfur.dioxide</th>\n",
       "      <th>density</th>\n",
       "      <th>pH</th>\n",
       "      <th>sulphates</th>\n",
       "      <th>alcohol</th>\n",
       "      <th>rt.sulfur.dioxide</th>\n",
       "    </tr>\n",
       "  </thead>\n",
       "  <tbody>\n",
       "    <tr>\n",
       "      <th>0</th>\n",
       "      <td>-0.076504</td>\n",
       "      <td>0.009361</td>\n",
       "      <td>-0.066408</td>\n",
       "      <td>-0.369281</td>\n",
       "      <td>-0.283607</td>\n",
       "      <td>-0.363017</td>\n",
       "      <td>-0.405851</td>\n",
       "      <td>-0.440266</td>\n",
       "      <td>0.074819</td>\n",
       "      <td>-0.051087</td>\n",
       "      <td>0.382334</td>\n",
       "      <td>-0.357954</td>\n",
       "    </tr>\n",
       "    <tr>\n",
       "      <th>1</th>\n",
       "      <td>0.461970</td>\n",
       "      <td>-0.053894</td>\n",
       "      <td>0.161736</td>\n",
       "      <td>0.153830</td>\n",
       "      <td>0.204496</td>\n",
       "      <td>-0.435252</td>\n",
       "      <td>-0.176710</td>\n",
       "      <td>0.250260</td>\n",
       "      <td>-0.393486</td>\n",
       "      <td>-0.046776</td>\n",
       "      <td>-0.234866</td>\n",
       "      <td>-0.443348</td>\n",
       "    </tr>\n",
       "  </tbody>\n",
       "</table>\n",
       "</div>"
      ],
      "text/plain": [
       "   fixed.acidity  volatile.acidity  citric.acid  residual.sugar  chlorides  \\\n",
       "0      -0.076504          0.009361    -0.066408       -0.369281  -0.283607   \n",
       "1       0.461970         -0.053894     0.161736        0.153830   0.204496   \n",
       "\n",
       "   free.sulfur.dioxide  total.sulfur.dioxide   density        pH  sulphates  \\\n",
       "0            -0.363017             -0.405851 -0.440266  0.074819  -0.051087   \n",
       "1            -0.435252             -0.176710  0.250260 -0.393486  -0.046776   \n",
       "\n",
       "    alcohol  rt.sulfur.dioxide  \n",
       "0  0.382334          -0.357954  \n",
       "1 -0.234866          -0.443348  "
      ]
     },
     "execution_count": 13,
     "metadata": {},
     "output_type": "execute_result"
    }
   ],
   "source": [
    "df2[:2]"
   ]
  },
  {
   "cell_type": "code",
   "execution_count": 14,
   "metadata": {
    "collapsed": false
   },
   "outputs": [
    {
     "name": "stdout",
     "output_type": "stream",
     "text": [
      "13\n"
     ]
    },
    {
     "data": {
      "text/html": [
       "<div>\n",
       "<table border=\"1\" class=\"dataframe\">\n",
       "  <thead>\n",
       "    <tr style=\"text-align: right;\">\n",
       "      <th></th>\n",
       "      <th>pc1</th>\n",
       "      <th>pc2</th>\n",
       "      <th>pc3</th>\n",
       "      <th>pc4</th>\n",
       "      <th>pc5</th>\n",
       "      <th>pc6</th>\n",
       "      <th>pc7</th>\n",
       "      <th>pc8</th>\n",
       "      <th>pc9</th>\n",
       "      <th>pc10</th>\n",
       "      <th>pc11</th>\n",
       "      <th>pc12</th>\n",
       "      <th>y</th>\n",
       "    </tr>\n",
       "  </thead>\n",
       "  <tbody>\n",
       "    <tr>\n",
       "      <th>0</th>\n",
       "      <td>0.008285</td>\n",
       "      <td>1.380110</td>\n",
       "      <td>0.021479</td>\n",
       "      <td>-1.693716</td>\n",
       "      <td>-0.242967</td>\n",
       "      <td>0.878550</td>\n",
       "      <td>-0.446381</td>\n",
       "      <td>-0.843978</td>\n",
       "      <td>-0.063589</td>\n",
       "      <td>-0.163554</td>\n",
       "      <td>-0.071852</td>\n",
       "      <td>-0.105878</td>\n",
       "      <td>6</td>\n",
       "    </tr>\n",
       "    <tr>\n",
       "      <th>1</th>\n",
       "      <td>-3.255996</td>\n",
       "      <td>-0.873454</td>\n",
       "      <td>0.173859</td>\n",
       "      <td>-1.015746</td>\n",
       "      <td>-0.801098</td>\n",
       "      <td>0.047015</td>\n",
       "      <td>-0.237325</td>\n",
       "      <td>0.280306</td>\n",
       "      <td>-0.657749</td>\n",
       "      <td>-0.122534</td>\n",
       "      <td>-0.124873</td>\n",
       "      <td>0.064642</td>\n",
       "      <td>6</td>\n",
       "    </tr>\n",
       "    <tr>\n",
       "      <th>2</th>\n",
       "      <td>-2.486343</td>\n",
       "      <td>1.153284</td>\n",
       "      <td>-0.595358</td>\n",
       "      <td>0.214890</td>\n",
       "      <td>0.745800</td>\n",
       "      <td>1.363525</td>\n",
       "      <td>-0.183800</td>\n",
       "      <td>0.882376</td>\n",
       "      <td>0.194505</td>\n",
       "      <td>-0.031681</td>\n",
       "      <td>0.035941</td>\n",
       "      <td>-0.090297</td>\n",
       "      <td>7</td>\n",
       "    </tr>\n",
       "    <tr>\n",
       "      <th>3</th>\n",
       "      <td>-0.222084</td>\n",
       "      <td>0.995513</td>\n",
       "      <td>0.769141</td>\n",
       "      <td>-1.270248</td>\n",
       "      <td>0.827241</td>\n",
       "      <td>0.147514</td>\n",
       "      <td>0.277777</td>\n",
       "      <td>-0.805113</td>\n",
       "      <td>-0.672987</td>\n",
       "      <td>0.139175</td>\n",
       "      <td>0.044393</td>\n",
       "      <td>-0.073920</td>\n",
       "      <td>5</td>\n",
       "    </tr>\n",
       "    <tr>\n",
       "      <th>4</th>\n",
       "      <td>1.593567</td>\n",
       "      <td>1.220968</td>\n",
       "      <td>-3.415741</td>\n",
       "      <td>0.682988</td>\n",
       "      <td>-0.174153</td>\n",
       "      <td>-2.012143</td>\n",
       "      <td>-0.567365</td>\n",
       "      <td>0.825013</td>\n",
       "      <td>0.405338</td>\n",
       "      <td>-0.081238</td>\n",
       "      <td>-0.124144</td>\n",
       "      <td>-0.100832</td>\n",
       "      <td>6</td>\n",
       "    </tr>\n",
       "  </tbody>\n",
       "</table>\n",
       "</div>"
      ],
      "text/plain": [
       "        pc1       pc2       pc3       pc4       pc5       pc6       pc7  \\\n",
       "0  0.008285  1.380110  0.021479 -1.693716 -0.242967  0.878550 -0.446381   \n",
       "1 -3.255996 -0.873454  0.173859 -1.015746 -0.801098  0.047015 -0.237325   \n",
       "2 -2.486343  1.153284 -0.595358  0.214890  0.745800  1.363525 -0.183800   \n",
       "3 -0.222084  0.995513  0.769141 -1.270248  0.827241  0.147514  0.277777   \n",
       "4  1.593567  1.220968 -3.415741  0.682988 -0.174153 -2.012143 -0.567365   \n",
       "\n",
       "        pc8       pc9      pc10      pc11      pc12  y  \n",
       "0 -0.843978 -0.063589 -0.163554 -0.071852 -0.105878  6  \n",
       "1  0.280306 -0.657749 -0.122534 -0.124873  0.064642  6  \n",
       "2  0.882376  0.194505 -0.031681  0.035941 -0.090297  7  \n",
       "3 -0.805113 -0.672987  0.139175  0.044393 -0.073920  5  \n",
       "4  0.825013  0.405338 -0.081238 -0.124144 -0.100832  6  "
      ]
     },
     "execution_count": 14,
     "metadata": {},
     "output_type": "execute_result"
    }
   ],
   "source": [
    "n = len(trainFeatures.columns) # set the number\n",
    "pca = PCA(n_components = n)\n",
    "X_pca = pca.fit(X).transform(X)\n",
    "\n",
    "df_pca = pd.DataFrame(X_pca)\n",
    "df_pca['y'] = trainLabels\n",
    "print len(df_pca.columns)\n",
    "df_pca.columns = [['pc1', 'pc2', 'pc3', 'pc4','pc5','pc6','pc7','pc8','pc9','pc10','pc11','pc12','y']]\n",
    "df_pca.head()"
   ]
  },
  {
   "cell_type": "code",
   "execution_count": 15,
   "metadata": {
    "collapsed": false
   },
   "outputs": [
    {
     "name": "stderr",
     "output_type": "stream",
     "text": [
      "/opt/ds/local/lib/python2.7/site-packages/matplotlib/__init__.py:872: UserWarning: axes.color_cycle is deprecated and replaced with axes.prop_cycle; please use the latter.\n",
      "  warnings.warn(self.msg_depr % (key, alt_key))\n",
      "/opt/ds/local/lib/python2.7/site-packages/matplotlib/__init__.py:892: UserWarning: axes.color_cycle is deprecated and replaced with axes.prop_cycle; please use the latter.\n",
      "  warnings.warn(self.msg_depr % (key, alt_key))\n"
     ]
    },
    {
     "data": {
      "text/plain": [
       "<matplotlib.text.Text at 0x7f3e8047f910>"
      ]
     },
     "execution_count": 15,
     "metadata": {},
     "output_type": "execute_result"
    },
    {
     "data": {
      "image/png": "[encoded data removed]",
      "text/plain": [
       "<matplotlib.figure.Figure at 0x7f3e8048b550>"
      ]
     },
     "metadata": {},
     "output_type": "display_data"
    }
   ],
   "source": [
    "import seaborn as sns\n",
    "import matplotlib.pyplot as plt\n",
    "%matplotlib inline\n",
    "sns.lmplot('pc1', 'pc2', data=df_pca, fit_reg = False, hue = 'y', size = 9, scatter_kws={\"s\": 10})\n",
    " \n",
    "# set the maximum variance of the first two PCs\n",
    "# this will be the end point of the arrow of each **original features**\n",
    "xvector = pca.components_[0]\n",
    "yvector = pca.components_[1]\n",
    " \n",
    "# value of the first two PCs, set the x, y axis boundary\n",
    "xs = pca.transform(X)[:,0]\n",
    "ys = pca.transform(X)[:,1]\n",
    "for i in range(len(xvector)):\n",
    "    # arrows project features (ie columns from csv) as vectors onto PC axes\n",
    "    # we can adjust length and the size of the arrow\n",
    "    plt.arrow(0, 0, xvector[i]*max(xs), yvector[i]*max(ys),\n",
    "              color='r', width=0.005, head_width=0.05)\n",
    "    plt.text(xvector[i]*max(xs)*1.1, yvector[i]*max(ys)*1.1,\n",
    "             list(df.columns.values)[i], color='r')\n",
    "#for i in range(len(xs)):\n",
    "    #plt.text(xs[i]*1, ys[i]*1, list(trainFeatures.index)[i], color='b') # index number of each observations\n",
    "plt.title('PCA Plot of first PCs')"
   ]
  },
  {
   "cell_type": "code",
   "execution_count": 45,
   "metadata": {
    "collapsed": false
   },
   "outputs": [
    {
     "data": {
      "text/plain": [
       "array([-0.07650383,  0.00936123, -0.06640837, -0.36928132, -0.28360673,\n",
       "       -0.36301679, -0.40585072, -0.44026559,  0.07481939, -0.05108672,\n",
       "        0.38233429, -0.35795376])"
      ]
     },
     "execution_count": 45,
     "metadata": {},
     "output_type": "execute_result"
    }
   ],
   "source": [
    "df2.as_matrix()[0]"
   ]
  },
  {
   "cell_type": "code",
   "execution_count": 16,
   "metadata": {
    "collapsed": true
   },
   "outputs": [],
   "source": [
    "def varimax(Phi, gamma = 1, q = 20, tol = 1e-6):\n",
    "    from numpy import eye, asarray, dot, sum\n",
    "    from numpy.linalg import svd\n",
    "    p,k = Phi.shape\n",
    "    R = eye(k)\n",
    "    d=0\n",
    "    for i in xrange(q):\n",
    "        d_old = d\n",
    "        Lambda = dot(Phi, R)\n",
    "        u,s,vh = svd(dot(Phi.T,asarray(Lambda)**3 - (gamma/p) * dot(Lambda, np.diag(np.diag(dot(Lambda.T,Lambda))))))\n",
    "        R = dot(u,vh)\n",
    "        d = sum(s)\n",
    "        if d/d_old < tol: break\n",
    "    return dot(Phi, R)"
   ]
  },
  {
   "cell_type": "code",
   "execution_count": 17,
   "metadata": {
    "collapsed": false
   },
   "outputs": [
    {
     "data": {
      "text/html": [
       "<div>\n",
       "<table border=\"1\" class=\"dataframe\">\n",
       "  <thead>\n",
       "    <tr style=\"text-align: right;\">\n",
       "      <th></th>\n",
       "      <th>fixed.acidity</th>\n",
       "      <th>volatile.acidity</th>\n",
       "      <th>citric.acid</th>\n",
       "      <th>residual.sugar</th>\n",
       "      <th>chlorides</th>\n",
       "      <th>free.sulfur.dioxide</th>\n",
       "      <th>total.sulfur.dioxide</th>\n",
       "      <th>density</th>\n",
       "      <th>pH</th>\n",
       "      <th>sulphates</th>\n",
       "      <th>alcohol</th>\n",
       "      <th>rt.sulfur.dioxide</th>\n",
       "    </tr>\n",
       "  </thead>\n",
       "  <tbody>\n",
       "    <tr>\n",
       "      <th>0</th>\n",
       "      <td>-8.326673e-17</td>\n",
       "      <td>5.551115e-17</td>\n",
       "      <td>0.000000e+00</td>\n",
       "      <td>2.775558e-17</td>\n",
       "      <td>-1.647987e-17</td>\n",
       "      <td>1.387779e-17</td>\n",
       "      <td>5.551115e-17</td>\n",
       "      <td>-1.000000e+00</td>\n",
       "      <td>-4.163336e-17</td>\n",
       "      <td>-1.353084e-16</td>\n",
       "      <td>2.775558e-17</td>\n",
       "      <td>3.469447e-18</td>\n",
       "    </tr>\n",
       "    <tr>\n",
       "      <th>1</th>\n",
       "      <td>1.000000e+00</td>\n",
       "      <td>2.775558e-17</td>\n",
       "      <td>1.110223e-16</td>\n",
       "      <td>2.775558e-17</td>\n",
       "      <td>1.387779e-17</td>\n",
       "      <td>1.387779e-17</td>\n",
       "      <td>8.326673e-17</td>\n",
       "      <td>5.551115e-17</td>\n",
       "      <td>-2.081668e-17</td>\n",
       "      <td>-6.938894e-18</td>\n",
       "      <td>5.551115e-17</td>\n",
       "      <td>3.122502e-17</td>\n",
       "    </tr>\n",
       "  </tbody>\n",
       "</table>\n",
       "</div>"
      ],
      "text/plain": [
       "   fixed.acidity  volatile.acidity   citric.acid  residual.sugar  \\\n",
       "0  -8.326673e-17      5.551115e-17  0.000000e+00    2.775558e-17   \n",
       "1   1.000000e+00      2.775558e-17  1.110223e-16    2.775558e-17   \n",
       "\n",
       "      chlorides  free.sulfur.dioxide  total.sulfur.dioxide       density  \\\n",
       "0 -1.647987e-17         1.387779e-17          5.551115e-17 -1.000000e+00   \n",
       "1  1.387779e-17         1.387779e-17          8.326673e-17  5.551115e-17   \n",
       "\n",
       "             pH     sulphates       alcohol  rt.sulfur.dioxide  \n",
       "0 -4.163336e-17 -1.353084e-16  2.775558e-17       3.469447e-18  \n",
       "1 -2.081668e-17 -6.938894e-18  5.551115e-17       3.122502e-17  "
      ]
     },
     "execution_count": 17,
     "metadata": {},
     "output_type": "execute_result"
    }
   ],
   "source": [
    "df3=pd.DataFrame(varimax(pca.components_[:2]),columns=df2.columns)\n",
    "df3.head()"
   ]
  },
  {
   "cell_type": "code",
   "execution_count": null,
   "metadata": {
    "collapsed": true
   },
   "outputs": [],
   "source": [
    "sns.lmplot(\"x\", \"y\", data=df, hue='dataset', fit_reg=False)"
   ]
  },
  {
   "cell_type": "code",
   "execution_count": 18,
   "metadata": {
    "collapsed": true
   },
   "outputs": [],
   "source": [
    "import pylab as pl"
   ]
  },
  {
   "cell_type": "code",
   "execution_count": 29,
   "metadata": {
    "collapsed": false
   },
   "outputs": [
    {
     "data": {
      "text/plain": [
       "array([[ 0.46197019, -0.05389449,  0.16173579,  0.1538299 ,  0.20449581,\n",
       "        -0.43525158, -0.17670962,  0.25025951, -0.3934856 , -0.04677609,\n",
       "        -0.2348663 , -0.44334765]])"
      ]
     },
     "execution_count": 29,
     "metadata": {},
     "output_type": "execute_result"
    }
   ],
   "source": [
    "varimax(pca.components_[1:2])"
   ]
  },
  {
   "cell_type": "code",
   "execution_count": 33,
   "metadata": {
    "collapsed": false
   },
   "outputs": [
    {
     "data": {
      "text/plain": [
       "<matplotlib.collections.PathCollection at 0x7f3e7e5b6b90>"
      ]
     },
     "execution_count": 33,
     "metadata": {},
     "output_type": "execute_result"
    },
    {
     "data": {
      "image/png": "[encoded data removed]",
      "text/plain": [
       "<matplotlib.figure.Figure at 0x7f3e80102950>"
      ]
     },
     "metadata": {},
     "output_type": "display_data"
    }
   ],
   "source": [
    "pl.scatter(varimax(pca.components_[:1]),varimax(pca.components_[1:2]),c='black')"
   ]
  },
  {
   "cell_type": "code",
   "execution_count": null,
   "metadata": {
    "collapsed": true
   },
   "outputs": [],
   "source": []
  }
 ],
 "metadata": {
  "kernelspec": {
   "display_name": "Python 2",
   "language": "python",
   "name": "python2"
  },
  "language_info": {
   "codemirror_mode": {
    "name": "ipython",
    "version": 2
   },
   "file_extension": ".py",
   "mimetype": "text/x-python",
   "name": "python",
   "nbconvert_exporter": "python",
   "pygments_lexer": "ipython2",
   "version": "2.7.6"
  }
 },
 "nbformat": 4,
 "nbformat_minor": 0
}
