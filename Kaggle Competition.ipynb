{
 "cells": [
  {
   "cell_type": "code",
   "execution_count": 1,
   "metadata": {
    "collapsed": true
   },
   "outputs": [],
   "source": [
    "import pandas as pd\n",
    "import numpy as np\n",
    "import sklearn\n",
    "import dask.dataframe as dd\n",
    "import os\n",
    "from subprocess import call\n",
    "%matplotlib inline"
   ]
  },
  {
   "cell_type": "code",
   "execution_count": 2,
   "metadata": {
    "collapsed": false
   },
   "outputs": [],
   "source": [
    "location='/home/ds/notebooks/Data/train.csv'\n",
    "#df=pd.read_csv(location)"
   ]
  },
  {
   "cell_type": "code",
   "execution_count": 3,
   "metadata": {
    "collapsed": false
   },
   "outputs": [
    {
     "data": {
      "text/plain": [
       "'-rw-r--r-- 1 root root 3.8G Apr 15 22:51 Data/train.csv\\n'"
      ]
     },
     "execution_count": 3,
     "metadata": {},
     "output_type": "execute_result"
    }
   ],
   "source": [
    "os.popen(\"ls -lh Data/train.csv\").read()"
   ]
  },
  {
   "cell_type": "code",
   "execution_count": 8,
   "metadata": {
    "collapsed": false
   },
   "outputs": [],
   "source": [
    "df = dd.read_csv(location,usecols=['hotel_cluster'])"
   ]
  },
  {
   "cell_type": "code",
   "execution_count": 9,
   "metadata": {
    "collapsed": true
   },
   "outputs": [],
   "source": [
    "df_sample=df.sample(frac=0.1)"
   ]
  },
  {
   "cell_type": "code",
   "execution_count": 10,
   "metadata": {
    "collapsed": false
   },
   "outputs": [],
   "source": [
    "df_cluster=pd.DataFrame(df_sample.hotel_cluster.value_counts().head(10))"
   ]
  },
  {
   "cell_type": "code",
   "execution_count": 11,
   "metadata": {
    "collapsed": false
   },
   "outputs": [],
   "source": [
    "df_cluster=df_cluster.reset_index()"
   ]
  },
  {
   "cell_type": "code",
   "execution_count": 12,
   "metadata": {
    "collapsed": false
   },
   "outputs": [
    {
     "name": "stderr",
     "output_type": "stream",
     "text": [
      "/opt/ds/local/lib/python2.7/site-packages/matplotlib/__init__.py:872: UserWarning: axes.color_cycle is deprecated and replaced with axes.prop_cycle; please use the latter.\n",
      "  warnings.warn(self.msg_depr % (key, alt_key))\n",
      "/opt/ds/local/lib/python2.7/site-packages/matplotlib/__init__.py:892: UserWarning: axes.color_cycle is deprecated and replaced with axes.prop_cycle; please use the latter.\n",
      "  warnings.warn(self.msg_depr % (key, alt_key))\n"
     ]
    },
    {
     "data": {
      "text/plain": [
       "<matplotlib.axes._subplots.AxesSubplot at 0x7f9467ba5190>"
      ]
     },
     "execution_count": 12,
     "metadata": {},
     "output_type": "execute_result"
    },
    {
     "data": {
      "image/png": "[encoded data removed]",
      "text/plain": [
       "<matplotlib.figure.Figure at 0x7f9467b88a10>"
      ]
     },
     "metadata": {},
     "output_type": "display_data"
    }
   ],
   "source": [
    "import seaborn as sns\n",
    "import matplotlib.pyplot as plt\n",
    "# preferred continent destinations\n",
    "sns.barplot(x=\"index\",y=\"hotel_cluster\", data=df_cluster)"
   ]
  },
  {
   "cell_type": "code",
   "execution_count": 13,
   "metadata": {
    "collapsed": false
   },
   "outputs": [
    {
     "name": "stdout",
     "output_type": "stream",
     "text": [
      "<class 'pandas.core.frame.DataFrame'>\n",
      "Int64Index: 100000 entries, 0 to 99999\n",
      "Data columns (total 24 columns):\n",
      "date_time                    100000 non-null datetime64[ns]\n",
      "site_name                    100000 non-null int64\n",
      "posa_continent               100000 non-null int64\n",
      "user_location_country        100000 non-null int64\n",
      "user_location_region         100000 non-null int64\n",
      "user_location_city           100000 non-null int64\n",
      "orig_destination_distance    63078 non-null float64\n",
      "user_id                      100000 non-null int64\n",
      "is_mobile                    100000 non-null int64\n",
      "is_package                   100000 non-null int64\n",
      "channel                      100000 non-null int64\n",
      "srch_ci                      99929 non-null datetime64[ns]\n",
      "srch_co                      99929 non-null datetime64[ns]\n",
      "srch_adults_cnt              100000 non-null int64\n",
      "srch_children_cnt            100000 non-null int64\n",
      "srch_rm_cnt                  100000 non-null int64\n",
      "srch_destination_id          100000 non-null int64\n",
      "srch_destination_type_id     100000 non-null int64\n",
      "is_booking                   100000 non-null int64\n",
      "cnt                          100000 non-null int64\n",
      "hotel_continent              100000 non-null int64\n",
      "hotel_country                100000 non-null int64\n",
      "hotel_market                 100000 non-null int64\n",
      "hotel_cluster                100000 non-null int64\n",
      "dtypes: datetime64[ns](3), float64(1), int64(20)\n",
      "memory usage: 19.1 MB\n"
     ]
    }
   ],
   "source": [
    "train = pd.read_csv(location, parse_dates=['date_time', 'srch_ci', 'srch_co'], nrows=100000)\n",
    "train.info()"
   ]
  },
  {
   "cell_type": "code",
   "execution_count": 14,
   "metadata": {
    "collapsed": false
   },
   "outputs": [],
   "source": [
    "import seaborn as sns\n",
    "import matplotlib.pyplot as plt\n",
    "# preferred continent destinations\n",
    "train_cluster=train.hotel_cluster.value_counts().head(10)\n",
    "#sns.countplot(y=\"hotel_cluster\", data=train_cluster)"
   ]
  },
  {
   "cell_type": "code",
   "execution_count": 15,
   "metadata": {
    "collapsed": false
   },
   "outputs": [
    {
     "name": "stderr",
     "output_type": "stream",
     "text": [
      "/opt/ds/lib/python2.7/site-packages/ipykernel/__main__.py:1: FutureWarning: sort(columns=....) is deprecated, use sort_values(by=.....)\n",
      "  if __name__ == '__main__':\n"
     ]
    },
    {
     "data": {
      "text/html": [
       "<div>\n",
       "<table border=\"1\" class=\"dataframe\">\n",
       "  <thead>\n",
       "    <tr style=\"text-align: right;\">\n",
       "      <th></th>\n",
       "      <th>hotel_cluster</th>\n",
       "    </tr>\n",
       "    <tr>\n",
       "      <th>hotel_cluster</th>\n",
       "      <th></th>\n",
       "    </tr>\n",
       "  </thead>\n",
       "  <tbody>\n",
       "    <tr>\n",
       "      <th>91</th>\n",
       "      <td>2777</td>\n",
       "    </tr>\n",
       "    <tr>\n",
       "      <th>41</th>\n",
       "      <td>2176</td>\n",
       "    </tr>\n",
       "    <tr>\n",
       "      <th>48</th>\n",
       "      <td>2077</td>\n",
       "    </tr>\n",
       "    <tr>\n",
       "      <th>64</th>\n",
       "      <td>1984</td>\n",
       "    </tr>\n",
       "    <tr>\n",
       "      <th>65</th>\n",
       "      <td>1633</td>\n",
       "    </tr>\n",
       "    <tr>\n",
       "      <th>5</th>\n",
       "      <td>1563</td>\n",
       "    </tr>\n",
       "    <tr>\n",
       "      <th>42</th>\n",
       "      <td>1557</td>\n",
       "    </tr>\n",
       "    <tr>\n",
       "      <th>98</th>\n",
       "      <td>1526</td>\n",
       "    </tr>\n",
       "    <tr>\n",
       "      <th>59</th>\n",
       "      <td>1474</td>\n",
       "    </tr>\n",
       "    <tr>\n",
       "      <th>95</th>\n",
       "      <td>1474</td>\n",
       "    </tr>\n",
       "  </tbody>\n",
       "</table>\n",
       "</div>"
      ],
      "text/plain": [
       "               hotel_cluster\n",
       "hotel_cluster               \n",
       "91                      2777\n",
       "41                      2176\n",
       "48                      2077\n",
       "64                      1984\n",
       "65                      1633\n",
       "5                       1563\n",
       "42                      1557\n",
       "98                      1526\n",
       "59                      1474\n",
       "95                      1474"
      ]
     },
     "execution_count": 15,
     "metadata": {},
     "output_type": "execute_result"
    }
   ],
   "source": [
    "train.groupby(['hotel_cluster']).agg({'hotel_cluster':'size'}).sort('hotel_cluster').nlargest(10,'hotel_cluster')"
   ]
  },
  {
   "cell_type": "code",
   "execution_count": 92,
   "metadata": {
    "collapsed": false
   },
   "outputs": [
    {
     "data": {
      "text/plain": [
       "<matplotlib.text.Text at 0x7f627cdd2e10>"
      ]
     },
     "execution_count": 92,
     "metadata": {},
     "output_type": "execute_result"
    },
    {
     "data": {
      "image/png": "[encoded data removed]",
      "text/plain": [
       "<matplotlib.figure.Figure at 0x7f627d5309d0>"
      ]
     },
     "metadata": {},
     "output_type": "display_data"
    }
   ],
   "source": [
    "import seaborn as sns\n",
    "import matplotlib.pyplot as plt\n",
    "sns.countplot(y='hotel_continent', data=train)\n",
    "sns.plt.title('Continent destination')"
   ]
  },
  {
   "cell_type": "code",
   "execution_count": 107,
   "metadata": {
    "collapsed": false
   },
   "outputs": [
    {
     "data": {
      "text/plain": [
       "<matplotlib.axes._subplots.AxesSubplot at 0x7f627d1ff350>"
      ]
     },
     "execution_count": 107,
     "metadata": {},
     "output_type": "execute_result"
    },
    {
     "data": {
      "image/png": "[encoded data removed]",
      "text/plain": [
       "<matplotlib.figure.Figure at 0x7f627d452150>"
      ]
     },
     "metadata": {},
     "output_type": "display_data"
    }
   ],
   "source": [
    "sns.countplot(y='posa_continent', data=train)"
   ]
  },
  {
   "cell_type": "code",
   "execution_count": 108,
   "metadata": {
    "collapsed": false
   },
   "outputs": [
    {
     "data": {
      "text/plain": [
       "<matplotlib.axes._subplots.AxesSubplot at 0x7f6286b24210>"
      ]
     },
     "execution_count": 108,
     "metadata": {},
     "output_type": "execute_result"
    },
    {
     "data": {
      "image/png": "[encoded data removed]",
      "text/plain": [
       "<matplotlib.figure.Figure at 0x7f627d465390>"
      ]
     },
     "metadata": {},
     "output_type": "display_data"
    }
   ],
   "source": [
    "sns.countplot(y='hotel_continent', hue='posa_continent', data=train)"
   ]
  },
  {
   "cell_type": "code",
   "execution_count": 109,
   "metadata": {
    "collapsed": false
   },
   "outputs": [
    {
     "data": {
      "text/plain": [
       "<matplotlib.axes._subplots.AxesSubplot at 0x7f62868c7190>"
      ]
     },
     "execution_count": 109,
     "metadata": {},
     "output_type": "execute_result"
    },
    {
     "data": {
      "image/png": "[encoded data removed]",
      "text/plain": [
       "<matplotlib.figure.Figure at 0x7f6286bb57d0>"
      ]
     },
     "metadata": {},
     "output_type": "display_data"
    }
   ],
   "source": [
    "# how many people by continent are booking from mobile\n",
    "sns.countplot(y='posa_continent', hue='is_mobile', data = train)"
   ]
  },
  {
   "cell_type": "code",
   "execution_count": 111,
   "metadata": {
    "collapsed": false
   },
   "outputs": [
    {
     "data": {
      "text/plain": [
       "<matplotlib.legend.Legend at 0x7f6286986e90>"
      ]
     },
     "execution_count": 111,
     "metadata": {},
     "output_type": "execute_result"
    },
    {
     "data": {
      "image/png": "[encoded data removed]",
      "text/plain": [
       "<matplotlib.figure.Figure at 0x7f628670f410>"
      ]
     },
     "metadata": {},
     "output_type": "display_data"
    }
   ],
   "source": [
    "# Difference between user and destination country\n",
    "sns.distplot(train['user_location_country'], label=\"User country\")\n",
    "sns.distplot(train['hotel_country'], label=\"Hotel country\")\n",
    "plt.legend()"
   ]
  },
  {
   "cell_type": "code",
   "execution_count": 16,
   "metadata": {
    "collapsed": false
   },
   "outputs": [
    {
     "data": {
      "text/plain": [
       "is_booking\n",
       "0    91730\n",
       "1     8270\n",
       "dtype: int64"
      ]
     },
     "execution_count": 16,
     "metadata": {},
     "output_type": "execute_result"
    }
   ],
   "source": [
    "train.groupby('is_booking').size()"
   ]
  },
  {
   "cell_type": "code",
   "execution_count": 17,
   "metadata": {
    "collapsed": false
   },
   "outputs": [
    {
     "name": "stdout",
     "output_type": "stream",
     "text": [
      "date_time\n",
      "99840\n",
      "*******************************************************************************\n",
      "site_name\n",
      "38\n",
      "*******************************************************************************\n",
      "posa_continent\n",
      "5\n",
      "*******************************************************************************\n",
      "user_location_country\n",
      "123\n",
      "*******************************************************************************\n",
      "user_location_region\n",
      "510\n",
      "*******************************************************************************\n",
      "user_location_city\n",
      "3751\n",
      "*******************************************************************************\n",
      "orig_destination_distance\n",
      "79943\n",
      "*******************************************************************************\n",
      "user_id\n",
      "3478\n",
      "*******************************************************************************\n",
      "is_mobile\n",
      "2\n",
      "*******************************************************************************\n",
      "is_package\n",
      "2\n",
      "*******************************************************************************\n",
      "channel\n",
      "11\n",
      "*******************************************************************************\n",
      "srch_ci\n",
      "1030\n",
      "*******************************************************************************\n",
      "srch_co\n",
      "1035\n",
      "*******************************************************************************\n",
      "srch_adults_cnt\n",
      "10\n",
      "*******************************************************************************\n",
      "srch_children_cnt\n",
      "10\n",
      "*******************************************************************************\n",
      "srch_rm_cnt\n",
      "9\n",
      "*******************************************************************************\n",
      "srch_destination_id\n",
      "5296\n",
      "*******************************************************************************\n",
      "srch_destination_type_id\n",
      "8\n",
      "*******************************************************************************\n",
      "is_booking\n",
      "2\n",
      "*******************************************************************************\n",
      "cnt\n",
      "30\n",
      "*******************************************************************************\n",
      "hotel_continent\n",
      "6\n",
      "*******************************************************************************\n",
      "hotel_country\n",
      "152\n",
      "*******************************************************************************\n",
      "hotel_market\n",
      "1531\n",
      "*******************************************************************************\n",
      "hotel_cluster\n",
      "100\n",
      "*******************************************************************************\n"
     ]
    }
   ],
   "source": [
    "columns = train.columns\n",
    "# Analyze features size (if categorical or not)\n",
    "for col in columns:\n",
    "    print(col)\n",
    "    print(len(set(train[col])))\n",
    "    print(79*'*')"
   ]
  },
  {
   "cell_type": "code",
   "execution_count": null,
   "metadata": {
    "collapsed": true
   },
   "outputs": [],
   "source": []
  }
 ],
 "metadata": {
  "kernelspec": {
   "display_name": "Python 2",
   "language": "python",
   "name": "python2"
  },
  "language_info": {
   "codemirror_mode": {
    "name": "ipython",
    "version": 2
   },
   "file_extension": ".py",
   "mimetype": "text/x-python",
   "name": "python",
   "nbconvert_exporter": "python",
   "pygments_lexer": "ipython2",
   "version": "2.7.6"
  }
 },
 "nbformat": 4,
 "nbformat_minor": 0
}
