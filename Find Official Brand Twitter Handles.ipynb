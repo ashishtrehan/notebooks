{
 "cells": [
  {
   "cell_type": "code",
   "execution_count": 101,
   "metadata": {
    "collapsed": true
   },
   "outputs": [],
   "source": [
    "list_brands=[\"abbvie\",\"accenture\",\"agricultural bank of china\",\"Aguila\",\"aldi\",\n",
    "      \"alibaba\",\"allergan\",\"allianz\",\"amazon\",\"amgen\",\"anz\",\"applebee's\",\n",
    "      \"astra zeneca\",\"asus\",\"axa\",\"Azteca\",\"B&G Foods\",\"baidu\",\"banana republic\",\n",
    "      \"Banco de Bogotá\",\"Banco de Chile\",\"Banco do Brasil\",\"Banco Occidente\",\"Bancolombia\",\n",
    "      \"bank of america\",\"bank of china\",\"banorte\",\"barclays\",\"bayer\",\"BCP\",\"best buy\",\n",
    "      \"best buy co.\",\"boeing\",\"boost\",\"boostmobile\",\"bose\",\"Boston Beer Co.\",\"Bradesco\",\n",
    "      \"british telcom\",\"british telecom\",\"burberry\",\"burger king\",\"campbell soup\",\n",
    "      \"capital one financial corp.\",\"capitol one\",\"catepillar\",\"Celulosa Arauco y Constitución\",\n",
    "      \"Cemex\",\"Cencosud\",\"Chick-Fil-A\",\"china construction bank\",\"china life\",\"china mobile\",\n",
    "      \"china telecom\",\"cisco\",\"citibank citigroup\",\"Claro\",\"clorox co.\",\"Coffee Brand\",\n",
    "      \"colgate palmolive\",\"Comcel\",\"costco\",\"credit suisse\",\"D.G.Yuengling & Son\",\"Davivienda\",\n",
    "      \"dell\",\"dhl\",\"Diageo Guinness\",\"discover financial services\",\"docomo\",\"dodge\",\"donone\",\n",
    "      \"dunkin' donuts\",\"ebay\",\"Ecopetrol\",\"eli lilly\",\"Empresas Copec\",\"ericsson\",\"espn\",\"exxonmobil\",\n",
    "      \"facebook\",\"Falabella\",\"farmers insurance\",\"fedex\",\"fidelity investments\",\"fox\",\"fuji\",\"fujitsu\",\n",
    "      \"geico\",\"general electric\",\"general mills\",\"gillette\",\"goldman sachs\",\"google\",\"Grupo Banco Popular\",\n",
    "      \"Grupo Bimbo\",\"Grupo Financiero Banamex\",\"Grupo LATAM Airlines\",\"Grupo Sanborns\",\"gucci\",\"h&m\",\"Hanes\",\n",
    "      \"harman kardon\",\"hdfc bank\",\"Heineken\",\"heinz\",\"hermès\",\"hershey co.\",\"hewlett-packard\",\"home depot\",\n",
    "      \"HSBC\",\"huawei\",\"ibm\",\"icbc\",\"ikea\",\"Inbursa\",\"intel\",\"Itaú\",\"j.c.penney co.\",\"j&j\",\"john deere\",\n",
    "      \"kellog co.\",\"kfc\",\"kia\",\"kohls corp\",\"liberty mututal\",\"linkedin\",\"Lojas Americanas\",\"louis vitton\",\n",
    "      \"lowes co.\",\"macys\",\"Mall Plaza\",\"marinela\",\"Mark Anthony Group\",\"marlboro\",\"mars\",\"mastercard\",\n",
    "      \"MillerCoors SAB Miller\",\"mitsubishi\",\"mondelez\",\"movistar\",\"mtv\",\"national herald\",\"nationwide\",\n",
    "      \"Natura\",\"nintendo\",\"North American Breweries\",\"optifast\",\"oracle\",\"otsuka\",\"Pabst Brewing Co.\",\n",
    "      \"panasonic\",\"paypal\",\"pepsico\",\"Petrobras\",\"petrochina\",\"peugeot\",\"pfizer\",\"philips\",\"pingan\",\n",
    "      \"pizza hut\",\"polk audio\",\"prada\",\"progressive\",\"Puma\",\"ralph lauren\",\"rbc\",\"red bull\",\"Reebok\",\n",
    "      \"renault\",\"revlon\",\"Ripley\",\"Sadia\",\"samsung\",\"santander\",\"sap\",\"scotiabank\",\"shell\",\"siemens\",\n",
    "      \"sinodec\",\"softbank corp\",\"sony\",\"Soriana\",\"sprint corp\",\"starbucks\",\"state farm\",\"subaru\",\"subway\",\n",
    "      \"suzuki\",\"t-mobile usa\",\"taco bell\",\"target corp\",\"tata motors\",\"Telmex\",\"telstra\",\"tencent\",\"tesla\",\n",
    "      \"thomson reuters\",\"toshiba\",\"twitter\",\"u.s. bancorp\",\"Ultra\",\"unilever\",\"unitedhealthcare\",\"ups\",\n",
    "      \"us bank\",\"usaa\",\"Vale\",\"verizon\",\"visa\",\"vodafone\",\"volkswagen\",\"Walmart\",\n",
    "      \"wells fargo & co.\",\"wendys\",\"westpac\",\"woolworths\",\"YPF\",\"zara\"]"
   ]
  },
  {
   "cell_type": "code",
   "execution_count": 103,
   "metadata": {
    "collapsed": false
   },
   "outputs": [],
   "source": [
    "list1=[]\n",
    "brands=[]\n",
    "y='https://twitter.com/search?f=users&vertical=default&q={0}&src=typd'\n",
    "for x in list_brands:\n",
    "    x=replace_all(x,rep)\n",
    "    url=y.format(x)\n",
    "    if urllib.urlopen(str(url)).getcode() == 200:\n",
    "        brands.append(url)\n",
    "                #print url\n",
    "    else:\n",
    "        print \"no website\"\n",
    "            #print url"
   ]
  },
  {
   "cell_type": "code",
   "execution_count": 4,
   "metadata": {
    "collapsed": true
   },
   "outputs": [],
   "source": [
    "import urllib"
   ]
  },
  {
   "cell_type": "code",
   "execution_count": null,
   "metadata": {
    "collapsed": false
   },
   "outputs": [],
   "source": [
    "set(brands)-set(list1)"
   ]
  },
  {
   "cell_type": "code",
   "execution_count": 25,
   "metadata": {
    "collapsed": false
   },
   "outputs": [
    {
     "name": "stdout",
     "output_type": "stream",
     "text": [
      "219\n",
      "320\n"
     ]
    }
   ],
   "source": [
    "print len(list1)\n",
    "print len(brands)"
   ]
  },
  {
   "cell_type": "code",
   "execution_count": 97,
   "metadata": {
    "collapsed": false
   },
   "outputs": [],
   "source": [
    "del list1\n",
    "del brands"
   ]
  },
  {
   "cell_type": "code",
   "execution_count": 92,
   "metadata": {
    "collapsed": false
   },
   "outputs": [],
   "source": [
    "import re\n",
    "#' ','.',',','corp','communications','services','dg'\n",
    "rep = {\" \": \"%20\", \".\": \"\",\"%20corp\":\"\",\"%20communciations\":\"\",\"%20services\":\"\",\"%20company\":\"\",\\\n",
    "      \"%20co\":\"\",\"&\":\"%26\"}"
   ]
  },
  {
   "cell_type": "code",
   "execution_count": 35,
   "metadata": {
    "collapsed": false
   },
   "outputs": [],
   "source": [
    "rep = dict((re.escape(k), v) for k, v in rep.iteritems())\n",
    "pattern = re.compile(\"|\".join(rep.keys()))\n",
    "    "
   ]
  },
  {
   "cell_type": "code",
   "execution_count": 93,
   "metadata": {
    "collapsed": true
   },
   "outputs": [],
   "source": [
    "def replace_all(text, dic):\n",
    "    for i, j in dic.iteritems():\n",
    "        text = text.lower().replace(i, j)\n",
    "    return text"
   ]
  },
  {
   "cell_type": "code",
   "execution_count": 110,
   "metadata": {
    "collapsed": true
   },
   "outputs": [],
   "source": [
    "import re\n",
    "def replace_all_regex(text, dic):\n",
    "    for i, j in dic.iteritems():\n",
    "        return re.sub(i,j,text.lower())\n",
    "    "
   ]
  },
  {
   "cell_type": "code",
   "execution_count": 167,
   "metadata": {
    "collapsed": false
   },
   "outputs": [
    {
     "name": "stdout",
     "output_type": "stream",
     "text": [
      "j   penney    \n"
     ]
    }
   ],
   "source": [
    "target='j.c.penney co.'\n",
    "print re.sub(r'[.|co.]', ' ', target, flags=re.I)\n",
    "#print re.sub('/s+(co.)\\s*$', '', target, flags=re.M)\n",
    "#rep1 = {\" \": \"%20\",\"\\s+(.|%20corp|%20communciations)\\s*$\": \"\"}"
   ]
  },
  {
   "cell_type": "code",
   "execution_count": 148,
   "metadata": {
    "collapsed": false
   },
   "outputs": [
    {
     "name": "stdout",
     "output_type": "stream",
     "text": [
      "abbvie\n",
      "accenture\n",
      "agricultural%20bank%20of%20china\n",
      "aguila\n",
      "aldi\n",
      "alibaba\n",
      "allergan\n",
      "allianz\n",
      "amazon\n",
      "amgen\n",
      "anz\n",
      "applebee's\n",
      "astra%20zeneca\n",
      "asus\n",
      "axa\n",
      "azteca\n",
      "b&g%20foods\n",
      "baidu\n",
      "banana%20republic\n",
      "banco%20de%20bogotá\n",
      "banco%20de%20chile\n",
      "banco%20do%20brasil\n",
      "banco%20occidente\n",
      "bancolombia\n",
      "bank%20of%20america\n",
      "bank%20of%20china\n",
      "banorte\n",
      "barclays\n",
      "bayer\n",
      "bcp\n",
      "best%20buy\n",
      "best%20buy%20co.\n",
      "boeing\n",
      "boost\n",
      "boostmobile\n",
      "bose\n",
      "boston%20beer%20co.\n",
      "bradesco\n",
      "british%20telcom\n",
      "british%20telecom\n",
      "burberry\n",
      "burger%20king\n",
      "campbell%20soup\n",
      "capital%20one%20financial%20corp.\n",
      "capitol%20one\n",
      "catepillar\n",
      "celulosa%20arauco%20y%20constitución\n",
      "cemex\n",
      "cencosud\n",
      "chick-fil-a\n",
      "china%20construction%20bank\n",
      "china%20life\n",
      "china%20mobile\n",
      "china%20telecom\n",
      "cisco\n",
      "citibank%20citigroup\n",
      "claro\n",
      "clorox%20co.\n",
      "coffee%20brand\n",
      "colgate%20palmolive\n",
      "comcel\n",
      "costco\n",
      "credit%20suisse\n",
      "d.g.yuengling%20&%20son\n",
      "davivienda\n",
      "dell\n",
      "dhl\n",
      "diageo%20guinness\n",
      "discover%20financial%20services\n",
      "docomo\n",
      "dodge\n",
      "donone\n",
      "dunkin'%20donuts\n",
      "ebay\n",
      "ecopetrol\n",
      "eli%20lilly\n",
      "empresas%20copec\n",
      "ericsson\n",
      "espn\n",
      "exxonmobil\n",
      "facebook\n",
      "falabella\n",
      "farmers%20insurance\n",
      "fedex\n",
      "fidelity%20investments\n",
      "fox\n",
      "fuji\n",
      "fujitsu\n",
      "geico\n",
      "general%20electric\n",
      "general%20mills\n",
      "gillette\n",
      "goldman%20sachs\n",
      "google\n",
      "grupo%20banco%20popular\n",
      "grupo%20bimbo\n",
      "grupo%20financiero%20banamex\n",
      "grupo%20latam%20airlines\n",
      "grupo%20sanborns\n",
      "gucci\n",
      "h&m\n",
      "hanes\n",
      "harman%20kardon\n",
      "hdfc%20bank\n",
      "heineken\n",
      "heinz\n",
      "hermès\n",
      "hershey%20co.\n",
      "hewlett-packard\n",
      "home%20depot\n",
      "hsbc\n",
      "huawei\n",
      "ibm\n",
      "icbc\n",
      "ikea\n",
      "inbursa\n",
      "intel\n",
      "itaú\n",
      "j.c.penney%20co.\n",
      "j&j\n",
      "john%20deere\n",
      "kellog%20co.\n",
      "kfc\n",
      "kia\n",
      "kohls%20corp\n",
      "liberty%20mututal\n",
      "linkedin\n",
      "lojas%20americanas\n",
      "louis%20vitton\n",
      "lowes%20co.\n",
      "macys\n",
      "mall%20plaza\n",
      "marinela\n",
      "mark%20anthony%20group\n",
      "marlboro\n",
      "mars\n",
      "mastercard\n",
      "millercoors%20sab%20miller\n",
      "mitsubishi\n",
      "mondelez\n",
      "movistar\n",
      "mtv\n",
      "national%20herald\n",
      "nationwide\n",
      "natura\n",
      "nintendo\n",
      "north%20american%20breweries\n",
      "optifast\n",
      "oracle\n",
      "otsuka\n",
      "pabst%20brewing%20co.\n",
      "panasonic\n",
      "paypal\n",
      "pepsico\n",
      "petrobras\n",
      "petrochina\n",
      "peugeot\n",
      "pfizer\n",
      "philips\n",
      "pingan\n",
      "pizza%20hut\n",
      "polk%20audio\n",
      "prada\n",
      "progressive\n",
      "puma\n",
      "ralph%20lauren\n",
      "rbc\n",
      "red%20bull\n",
      "reebok\n",
      "renault\n",
      "revlon\n",
      "ripley\n",
      "sadia\n",
      "samsung\n",
      "santander\n",
      "sap\n",
      "scotiabank\n",
      "shell\n",
      "siemens\n",
      "sinodec\n",
      "softbank%20corp\n",
      "sony\n",
      "soriana\n",
      "sprint%20corp\n",
      "starbucks\n",
      "state%20farm\n",
      "subaru\n",
      "subway\n",
      "suzuki\n",
      "t-mobile%20usa\n",
      "taco%20bell\n",
      "target%20corp\n",
      "tata%20motors\n",
      "telmex\n",
      "telstra\n",
      "tencent\n",
      "tesla\n",
      "thomson%20reuters\n",
      "toshiba\n",
      "twitter\n",
      "u.s.%20bancorp\n",
      "ultra\n",
      "unilever\n",
      "unitedhealthcare\n",
      "ups\n",
      "us%20bank\n",
      "usaa\n",
      "vale\n",
      "verizon\n",
      "visa\n",
      "vodafone\n",
      "volkswagen\n",
      "walmart\n",
      "wells%20fargo%20&%20co.\n",
      "wendys\n",
      "westpac\n",
      "woolworths\n",
      "ypf\n",
      "zara\n"
     ]
    }
   ],
   "source": [
    "for x in list_brands:\n",
    "    print replace_all_regex(x,rep1)"
   ]
  },
  {
   "cell_type": "code",
   "execution_count": 105,
   "metadata": {
    "collapsed": false
   },
   "outputs": [
    {
     "name": "stdout",
     "output_type": "stream",
     "text": [
      "https://twitter.com/search?f=users&vertical=default&q=abbvie&src=typd\n",
      "https://twitter.com/search?f=users&vertical=default&q=accenture&src=typd\n",
      "https://twitter.com/search?f=users&vertical=default&q=agricultural%20bank%20of%20china&src=typd\n",
      "https://twitter.com/search?f=users&vertical=default&q=aguila&src=typd\n",
      "https://twitter.com/search?f=users&vertical=default&q=aldi&src=typd\n",
      "https://twitter.com/search?f=users&vertical=default&q=alibaba&src=typd\n",
      "https://twitter.com/search?f=users&vertical=default&q=allergan&src=typd\n",
      "https://twitter.com/search?f=users&vertical=default&q=allianz&src=typd\n",
      "https://twitter.com/search?f=users&vertical=default&q=amazon&src=typd\n",
      "https://twitter.com/search?f=users&vertical=default&q=amgen&src=typd\n",
      "https://twitter.com/search?f=users&vertical=default&q=anz&src=typd\n",
      "https://twitter.com/search?f=users&vertical=default&q=applebee's&src=typd\n",
      "https://twitter.com/search?f=users&vertical=default&q=astra%20zeneca&src=typd\n",
      "https://twitter.com/search?f=users&vertical=default&q=asus&src=typd\n",
      "https://twitter.com/search?f=users&vertical=default&q=axa&src=typd\n",
      "https://twitter.com/search?f=users&vertical=default&q=azteca&src=typd\n",
      "https://twitter.com/search?f=users&vertical=default&q=b%26g%20foods&src=typd\n",
      "https://twitter.com/search?f=users&vertical=default&q=baidu&src=typd\n",
      "https://twitter.com/search?f=users&vertical=default&q=banana%20republic&src=typd\n",
      "https://twitter.com/search?f=users&vertical=default&q=banco%20de%20bogotá&src=typd\n",
      "https://twitter.com/search?f=users&vertical=default&q=banco%20de%20chile&src=typd\n",
      "https://twitter.com/search?f=users&vertical=default&q=banco%20do%20brasil&src=typd\n",
      "https://twitter.com/search?f=users&vertical=default&q=banco%20occidente&src=typd\n",
      "https://twitter.com/search?f=users&vertical=default&q=bancolombia&src=typd\n",
      "https://twitter.com/search?f=users&vertical=default&q=bank%20of%20america&src=typd\n",
      "https://twitter.com/search?f=users&vertical=default&q=bank%20of%20china&src=typd\n",
      "https://twitter.com/search?f=users&vertical=default&q=banorte&src=typd\n",
      "https://twitter.com/search?f=users&vertical=default&q=barclays&src=typd\n",
      "https://twitter.com/search?f=users&vertical=default&q=bayer&src=typd\n",
      "https://twitter.com/search?f=users&vertical=default&q=bcp&src=typd\n",
      "https://twitter.com/search?f=users&vertical=default&q=best%20buy&src=typd\n",
      "https://twitter.com/search?f=users&vertical=default&q=best%20buy&src=typd\n",
      "https://twitter.com/search?f=users&vertical=default&q=boeing&src=typd\n",
      "https://twitter.com/search?f=users&vertical=default&q=boost&src=typd\n",
      "https://twitter.com/search?f=users&vertical=default&q=boostmobile&src=typd\n",
      "https://twitter.com/search?f=users&vertical=default&q=bose&src=typd\n",
      "https://twitter.com/search?f=users&vertical=default&q=boston%20beer&src=typd\n",
      "https://twitter.com/search?f=users&vertical=default&q=bradesco&src=typd\n",
      "https://twitter.com/search?f=users&vertical=default&q=british%20telcom&src=typd\n",
      "https://twitter.com/search?f=users&vertical=default&q=british%20telecom&src=typd\n",
      "https://twitter.com/search?f=users&vertical=default&q=burberry&src=typd\n",
      "https://twitter.com/search?f=users&vertical=default&q=burger%20king&src=typd\n",
      "https://twitter.com/search?f=users&vertical=default&q=campbell%20soup&src=typd\n",
      "https://twitter.com/search?f=users&vertical=default&q=capital%20one%20financial&src=typd\n",
      "https://twitter.com/search?f=users&vertical=default&q=capitol%20one&src=typd\n",
      "https://twitter.com/search?f=users&vertical=default&q=catepillar&src=typd\n",
      "https://twitter.com/search?f=users&vertical=default&q=celulosa%20arauco%20ynstitución&src=typd\n",
      "https://twitter.com/search?f=users&vertical=default&q=cemex&src=typd\n",
      "https://twitter.com/search?f=users&vertical=default&q=cencosud&src=typd\n",
      "https://twitter.com/search?f=users&vertical=default&q=chick-fil-a&src=typd\n",
      "https://twitter.com/search?f=users&vertical=default&q=chinanstruction%20bank&src=typd\n",
      "https://twitter.com/search?f=users&vertical=default&q=china%20life&src=typd\n",
      "https://twitter.com/search?f=users&vertical=default&q=china%20mobile&src=typd\n",
      "https://twitter.com/search?f=users&vertical=default&q=china%20telecom&src=typd\n",
      "https://twitter.com/search?f=users&vertical=default&q=cisco&src=typd\n",
      "https://twitter.com/search?f=users&vertical=default&q=citibank%20citigroup&src=typd\n",
      "https://twitter.com/search?f=users&vertical=default&q=claro&src=typd\n",
      "https://twitter.com/search?f=users&vertical=default&q=clorox&src=typd\n",
      "https://twitter.com/search?f=users&vertical=default&q=coffee%20brand&src=typd\n",
      "https://twitter.com/search?f=users&vertical=default&q=colgate%20palmolive&src=typd\n",
      "https://twitter.com/search?f=users&vertical=default&q=comcel&src=typd\n",
      "https://twitter.com/search?f=users&vertical=default&q=costco&src=typd\n",
      "https://twitter.com/search?f=users&vertical=default&q=credit%20suisse&src=typd\n",
      "https://twitter.com/search?f=users&vertical=default&q=dgyuengling%20%26%20son&src=typd\n",
      "https://twitter.com/search?f=users&vertical=default&q=davivienda&src=typd\n",
      "https://twitter.com/search?f=users&vertical=default&q=dell&src=typd\n",
      "https://twitter.com/search?f=users&vertical=default&q=dhl&src=typd\n",
      "https://twitter.com/search?f=users&vertical=default&q=diageo%20guinness&src=typd\n",
      "https://twitter.com/search?f=users&vertical=default&q=discover%20financial&src=typd\n",
      "https://twitter.com/search?f=users&vertical=default&q=docomo&src=typd\n",
      "https://twitter.com/search?f=users&vertical=default&q=dodge&src=typd\n",
      "https://twitter.com/search?f=users&vertical=default&q=donone&src=typd\n",
      "https://twitter.com/search?f=users&vertical=default&q=dunkin'%20donuts&src=typd\n",
      "https://twitter.com/search?f=users&vertical=default&q=ebay&src=typd\n",
      "https://twitter.com/search?f=users&vertical=default&q=ecopetrol&src=typd\n",
      "https://twitter.com/search?f=users&vertical=default&q=eli%20lilly&src=typd\n",
      "https://twitter.com/search?f=users&vertical=default&q=empresaspec&src=typd\n",
      "https://twitter.com/search?f=users&vertical=default&q=ericsson&src=typd\n",
      "https://twitter.com/search?f=users&vertical=default&q=espn&src=typd\n",
      "https://twitter.com/search?f=users&vertical=default&q=exxonmobil&src=typd\n",
      "https://twitter.com/search?f=users&vertical=default&q=facebook&src=typd\n",
      "https://twitter.com/search?f=users&vertical=default&q=falabella&src=typd\n",
      "https://twitter.com/search?f=users&vertical=default&q=farmers%20insurance&src=typd\n",
      "https://twitter.com/search?f=users&vertical=default&q=fedex&src=typd\n",
      "https://twitter.com/search?f=users&vertical=default&q=fidelity%20investments&src=typd\n",
      "https://twitter.com/search?f=users&vertical=default&q=fox&src=typd\n",
      "https://twitter.com/search?f=users&vertical=default&q=fuji&src=typd\n",
      "https://twitter.com/search?f=users&vertical=default&q=fujitsu&src=typd\n",
      "https://twitter.com/search?f=users&vertical=default&q=geico&src=typd\n",
      "https://twitter.com/search?f=users&vertical=default&q=general%20electric&src=typd\n",
      "https://twitter.com/search?f=users&vertical=default&q=general%20mills&src=typd\n",
      "https://twitter.com/search?f=users&vertical=default&q=gillette&src=typd\n",
      "https://twitter.com/search?f=users&vertical=default&q=goldman%20sachs&src=typd\n",
      "https://twitter.com/search?f=users&vertical=default&q=google&src=typd\n",
      "https://twitter.com/search?f=users&vertical=default&q=grupo%20banco%20popular&src=typd\n",
      "https://twitter.com/search?f=users&vertical=default&q=grupo%20bimbo&src=typd\n",
      "https://twitter.com/search?f=users&vertical=default&q=grupo%20financiero%20banamex&src=typd\n",
      "https://twitter.com/search?f=users&vertical=default&q=grupo%20latam%20airlines&src=typd\n",
      "https://twitter.com/search?f=users&vertical=default&q=grupo%20sanborns&src=typd\n",
      "https://twitter.com/search?f=users&vertical=default&q=gucci&src=typd\n",
      "https://twitter.com/search?f=users&vertical=default&q=h%26m&src=typd\n",
      "https://twitter.com/search?f=users&vertical=default&q=hanes&src=typd\n",
      "https://twitter.com/search?f=users&vertical=default&q=harman%20kardon&src=typd\n",
      "https://twitter.com/search?f=users&vertical=default&q=hdfc%20bank&src=typd\n",
      "https://twitter.com/search?f=users&vertical=default&q=heineken&src=typd\n",
      "https://twitter.com/search?f=users&vertical=default&q=heinz&src=typd\n",
      "https://twitter.com/search?f=users&vertical=default&q=hermès&src=typd\n",
      "https://twitter.com/search?f=users&vertical=default&q=hershey&src=typd\n",
      "https://twitter.com/search?f=users&vertical=default&q=hewlett-packard&src=typd\n",
      "https://twitter.com/search?f=users&vertical=default&q=home%20depot&src=typd\n",
      "https://twitter.com/search?f=users&vertical=default&q=hsbc&src=typd\n",
      "https://twitter.com/search?f=users&vertical=default&q=huawei&src=typd\n",
      "https://twitter.com/search?f=users&vertical=default&q=ibm&src=typd\n",
      "https://twitter.com/search?f=users&vertical=default&q=icbc&src=typd\n",
      "https://twitter.com/search?f=users&vertical=default&q=ikea&src=typd\n",
      "https://twitter.com/search?f=users&vertical=default&q=inbursa&src=typd\n",
      "https://twitter.com/search?f=users&vertical=default&q=intel&src=typd\n",
      "https://twitter.com/search?f=users&vertical=default&q=itaú&src=typd\n",
      "https://twitter.com/search?f=users&vertical=default&q=jcpenney&src=typd\n",
      "https://twitter.com/search?f=users&vertical=default&q=j%26j&src=typd\n",
      "https://twitter.com/search?f=users&vertical=default&q=john%20deere&src=typd\n",
      "https://twitter.com/search?f=users&vertical=default&q=kellog&src=typd\n",
      "https://twitter.com/search?f=users&vertical=default&q=kfc&src=typd\n",
      "https://twitter.com/search?f=users&vertical=default&q=kia&src=typd\n",
      "https://twitter.com/search?f=users&vertical=default&q=kohls&src=typd\n",
      "https://twitter.com/search?f=users&vertical=default&q=liberty%20mututal&src=typd\n",
      "https://twitter.com/search?f=users&vertical=default&q=linkedin&src=typd\n",
      "https://twitter.com/search?f=users&vertical=default&q=lojas%20americanas&src=typd\n",
      "https://twitter.com/search?f=users&vertical=default&q=louis%20vitton&src=typd\n",
      "https://twitter.com/search?f=users&vertical=default&q=lowes&src=typd\n",
      "https://twitter.com/search?f=users&vertical=default&q=macys&src=typd\n",
      "https://twitter.com/search?f=users&vertical=default&q=mall%20plaza&src=typd\n",
      "https://twitter.com/search?f=users&vertical=default&q=marinela&src=typd\n",
      "https://twitter.com/search?f=users&vertical=default&q=mark%20anthony%20group&src=typd\n",
      "https://twitter.com/search?f=users&vertical=default&q=marlboro&src=typd\n",
      "https://twitter.com/search?f=users&vertical=default&q=mars&src=typd\n",
      "https://twitter.com/search?f=users&vertical=default&q=mastercard&src=typd\n",
      "https://twitter.com/search?f=users&vertical=default&q=millercoors%20sab%20miller&src=typd\n",
      "https://twitter.com/search?f=users&vertical=default&q=mitsubishi&src=typd\n",
      "https://twitter.com/search?f=users&vertical=default&q=mondelez&src=typd\n",
      "https://twitter.com/search?f=users&vertical=default&q=movistar&src=typd\n",
      "https://twitter.com/search?f=users&vertical=default&q=mtv&src=typd\n",
      "https://twitter.com/search?f=users&vertical=default&q=national%20herald&src=typd\n",
      "https://twitter.com/search?f=users&vertical=default&q=nationwide&src=typd\n",
      "https://twitter.com/search?f=users&vertical=default&q=natura&src=typd\n",
      "https://twitter.com/search?f=users&vertical=default&q=nintendo&src=typd\n",
      "https://twitter.com/search?f=users&vertical=default&q=north%20american%20breweries&src=typd\n",
      "https://twitter.com/search?f=users&vertical=default&q=optifast&src=typd\n",
      "https://twitter.com/search?f=users&vertical=default&q=oracle&src=typd\n",
      "https://twitter.com/search?f=users&vertical=default&q=otsuka&src=typd\n",
      "https://twitter.com/search?f=users&vertical=default&q=pabst%20brewing&src=typd\n",
      "https://twitter.com/search?f=users&vertical=default&q=panasonic&src=typd\n",
      "https://twitter.com/search?f=users&vertical=default&q=paypal&src=typd\n",
      "https://twitter.com/search?f=users&vertical=default&q=pepsico&src=typd\n",
      "https://twitter.com/search?f=users&vertical=default&q=petrobras&src=typd\n",
      "https://twitter.com/search?f=users&vertical=default&q=petrochina&src=typd\n",
      "https://twitter.com/search?f=users&vertical=default&q=peugeot&src=typd\n",
      "https://twitter.com/search?f=users&vertical=default&q=pfizer&src=typd\n",
      "https://twitter.com/search?f=users&vertical=default&q=philips&src=typd\n",
      "https://twitter.com/search?f=users&vertical=default&q=pingan&src=typd\n",
      "https://twitter.com/search?f=users&vertical=default&q=pizza%20hut&src=typd\n",
      "https://twitter.com/search?f=users&vertical=default&q=polk%20audio&src=typd\n",
      "https://twitter.com/search?f=users&vertical=default&q=prada&src=typd\n",
      "https://twitter.com/search?f=users&vertical=default&q=progressive&src=typd\n",
      "https://twitter.com/search?f=users&vertical=default&q=puma&src=typd\n",
      "https://twitter.com/search?f=users&vertical=default&q=ralph%20lauren&src=typd\n",
      "https://twitter.com/search?f=users&vertical=default&q=rbc&src=typd\n",
      "https://twitter.com/search?f=users&vertical=default&q=red%20bull&src=typd\n",
      "https://twitter.com/search?f=users&vertical=default&q=reebok&src=typd\n",
      "https://twitter.com/search?f=users&vertical=default&q=renault&src=typd\n",
      "https://twitter.com/search?f=users&vertical=default&q=revlon&src=typd\n",
      "https://twitter.com/search?f=users&vertical=default&q=ripley&src=typd\n",
      "https://twitter.com/search?f=users&vertical=default&q=sadia&src=typd\n",
      "https://twitter.com/search?f=users&vertical=default&q=samsung&src=typd\n",
      "https://twitter.com/search?f=users&vertical=default&q=santander&src=typd\n",
      "https://twitter.com/search?f=users&vertical=default&q=sap&src=typd\n",
      "https://twitter.com/search?f=users&vertical=default&q=scotiabank&src=typd\n",
      "https://twitter.com/search?f=users&vertical=default&q=shell&src=typd\n",
      "https://twitter.com/search?f=users&vertical=default&q=siemens&src=typd\n",
      "https://twitter.com/search?f=users&vertical=default&q=sinodec&src=typd\n",
      "https://twitter.com/search?f=users&vertical=default&q=softbank&src=typd\n",
      "https://twitter.com/search?f=users&vertical=default&q=sony&src=typd\n",
      "https://twitter.com/search?f=users&vertical=default&q=soriana&src=typd\n",
      "https://twitter.com/search?f=users&vertical=default&q=sprint&src=typd\n",
      "https://twitter.com/search?f=users&vertical=default&q=starbucks&src=typd\n",
      "https://twitter.com/search?f=users&vertical=default&q=state%20farm&src=typd\n",
      "https://twitter.com/search?f=users&vertical=default&q=subaru&src=typd\n",
      "https://twitter.com/search?f=users&vertical=default&q=subway&src=typd\n",
      "https://twitter.com/search?f=users&vertical=default&q=suzuki&src=typd\n",
      "https://twitter.com/search?f=users&vertical=default&q=t-mobile%20usa&src=typd\n",
      "https://twitter.com/search?f=users&vertical=default&q=taco%20bell&src=typd\n",
      "https://twitter.com/search?f=users&vertical=default&q=target&src=typd\n",
      "https://twitter.com/search?f=users&vertical=default&q=tata%20motors&src=typd\n",
      "https://twitter.com/search?f=users&vertical=default&q=telmex&src=typd\n",
      "https://twitter.com/search?f=users&vertical=default&q=telstra&src=typd\n",
      "https://twitter.com/search?f=users&vertical=default&q=tencent&src=typd\n",
      "https://twitter.com/search?f=users&vertical=default&q=tesla&src=typd\n",
      "https://twitter.com/search?f=users&vertical=default&q=thomson%20reuters&src=typd\n",
      "https://twitter.com/search?f=users&vertical=default&q=toshiba&src=typd\n",
      "https://twitter.com/search?f=users&vertical=default&q=twitter&src=typd\n",
      "https://twitter.com/search?f=users&vertical=default&q=us%20bancorp&src=typd\n",
      "https://twitter.com/search?f=users&vertical=default&q=ultra&src=typd\n",
      "https://twitter.com/search?f=users&vertical=default&q=unilever&src=typd\n",
      "https://twitter.com/search?f=users&vertical=default&q=unitedhealthcare&src=typd\n",
      "https://twitter.com/search?f=users&vertical=default&q=ups&src=typd\n",
      "https://twitter.com/search?f=users&vertical=default&q=us%20bank&src=typd\n",
      "https://twitter.com/search?f=users&vertical=default&q=usaa&src=typd\n",
      "https://twitter.com/search?f=users&vertical=default&q=vale&src=typd\n",
      "https://twitter.com/search?f=users&vertical=default&q=verizon&src=typd\n",
      "https://twitter.com/search?f=users&vertical=default&q=visa&src=typd\n",
      "https://twitter.com/search?f=users&vertical=default&q=vodafone&src=typd\n",
      "https://twitter.com/search?f=users&vertical=default&q=volkswagen&src=typd\n",
      "https://twitter.com/search?f=users&vertical=default&q=walmart&src=typd\n",
      "https://twitter.com/search?f=users&vertical=default&q=wells%20fargo%20%26&src=typd\n",
      "https://twitter.com/search?f=users&vertical=default&q=wendys&src=typd\n",
      "https://twitter.com/search?f=users&vertical=default&q=westpac&src=typd\n",
      "https://twitter.com/search?f=users&vertical=default&q=woolworths&src=typd\n",
      "https://twitter.com/search?f=users&vertical=default&q=ypf&src=typd\n",
      "https://twitter.com/search?f=users&vertical=default&q=zara&src=typd\n"
     ]
    }
   ],
   "source": [
    "for x in brands:\n",
    "    print x"
   ]
  },
  {
   "cell_type": "code",
   "execution_count": 1,
   "metadata": {
    "collapsed": true
   },
   "outputs": [],
   "source": [
    "import pandas as pd"
   ]
  },
  {
   "cell_type": "code",
   "execution_count": 2,
   "metadata": {
    "collapsed": true
   },
   "outputs": [],
   "source": [
    "import os"
   ]
  },
  {
   "cell_type": "code",
   "execution_count": 15,
   "metadata": {
    "collapsed": false
   },
   "outputs": [
    {
     "data": {
      "text/plain": [
       "['Training50_winedata.csv',\n",
       " 'train.csv',\n",
       " 'sample.csv',\n",
       " '.ipynb_checkpoints',\n",
       " 'retention.csv',\n",
       " 'twitterAccounts_officialbrands.csv',\n",
       " 'FLU_Challenge_vietnam.csv',\n",
       " 'superbowl.csv',\n",
       " 'officialbrands.csv',\n",
       " 'tweets.csv',\n",
       " 'twitterAccounts_2.csv',\n",
       " 'FLU_Challenge_HA_chicken.csv']"
      ]
     },
     "execution_count": 15,
     "metadata": {},
     "output_type": "execute_result"
    }
   ],
   "source": [
    "os.listdir('/home/ds/notebooks/Data')"
   ]
  },
  {
   "cell_type": "code",
   "execution_count": 2,
   "metadata": {
    "collapsed": false
   },
   "outputs": [],
   "source": [
    "columns=['searchName','userid','resultName', 'certified', 'description']\n",
    "df=pd.read_csv('/home/ds/notebooks/Data/twitterAccounts_2.csv',sep='\\t',error_bad_lines=False,names=columns)"
   ]
  },
  {
   "cell_type": "code",
   "execution_count": 3,
   "metadata": {
    "collapsed": true
   },
   "outputs": [],
   "source": [
    "import fuzzywuzzy"
   ]
  },
  {
   "cell_type": "code",
   "execution_count": 4,
   "metadata": {
    "collapsed": false
   },
   "outputs": [
    {
     "name": "stderr",
     "output_type": "stream",
     "text": [
      "/opt/ds/local/lib/python2.7/site-packages/fuzzywuzzy/fuzz.py:35: UserWarning: Using slow pure-python SequenceMatcher. Install python-Levenshtein to remove this warning\n",
      "  warnings.warn('Using slow pure-python SequenceMatcher. Install python-Levenshtein to remove this warning')\n"
     ]
    }
   ],
   "source": [
    "from fuzzywuzzy import fuzz"
   ]
  },
  {
   "cell_type": "code",
   "execution_count": 33,
   "metadata": {
    "collapsed": false
   },
   "outputs": [],
   "source": [
    "def fuzzy(text):\n",
    "    fuzz.ratio(df['searchName'][0],df['resultName'][0])"
   ]
  },
  {
   "cell_type": "code",
   "execution_count": 5,
   "metadata": {
    "collapsed": false
   },
   "outputs": [],
   "source": [
    "def fuzzy (row):\n",
    "    return fuzz.ratio(row['searchName'].lower(),row['resultName'].lower())\n",
    "\n",
    "df['distance'] = df.apply (lambda row: fuzzy (row),axis=1)"
   ]
  },
  {
   "cell_type": "code",
   "execution_count": 6,
   "metadata": {
    "collapsed": true
   },
   "outputs": [],
   "source": [
    "%matplotlib inline\n",
    "import pylab as pl"
   ]
  },
  {
   "cell_type": "code",
   "execution_count": 7,
   "metadata": {
    "collapsed": false
   },
   "outputs": [
    {
     "data": {
      "text/html": [
       "<div>\n",
       "<table border=\"1\" class=\"dataframe\">\n",
       "  <thead>\n",
       "    <tr style=\"text-align: right;\">\n",
       "      <th></th>\n",
       "      <th>searchName</th>\n",
       "      <th>userid</th>\n",
       "      <th>resultName</th>\n",
       "      <th>certified</th>\n",
       "      <th>description</th>\n",
       "      <th>distance</th>\n",
       "    </tr>\n",
       "  </thead>\n",
       "  <tbody>\n",
       "    <tr>\n",
       "      <th>NaN</th>\n",
       "      <td>abbvie</td>\n",
       "      <td>531892451</td>\n",
       "      <td>abbvie</td>\n",
       "      <td>True</td>\n",
       "      <td>AbbVie's global handle featuring biopharmaceut...</td>\n",
       "      <td>100</td>\n",
       "    </tr>\n",
       "    <tr>\n",
       "      <th>NaN</th>\n",
       "      <td>abbvie</td>\n",
       "      <td>4022225835</td>\n",
       "      <td>abbvie_de</td>\n",
       "      <td>False</td>\n",
       "      <td>Willkommen beim forschenden BioPharma-Unterneh...</td>\n",
       "      <td>80</td>\n",
       "    </tr>\n",
       "    <tr>\n",
       "      <th>NaN</th>\n",
       "      <td>abbvie</td>\n",
       "      <td>4826826895</td>\n",
       "      <td>abbviecanada</td>\n",
       "      <td>False</td>\n",
       "      <td>AbbVie Canada’s official Twitter feed / Site o...</td>\n",
       "      <td>67</td>\n",
       "    </tr>\n",
       "    <tr>\n",
       "      <th>NaN</th>\n",
       "      <td>abbvie</td>\n",
       "      <td>3316998297</td>\n",
       "      <td>AbbvieLauLec</td>\n",
       "      <td>False</td>\n",
       "      <td>Government Affairs Manager Belgium Luxembourg ...</td>\n",
       "      <td>67</td>\n",
       "    </tr>\n",
       "    <tr>\n",
       "      <th>NaN</th>\n",
       "      <td>abbvie</td>\n",
       "      <td>87399349</td>\n",
       "      <td>almartinsanchez</td>\n",
       "      <td>False</td>\n",
       "      <td>#Digital passionate &amp; worker. #geek. Digital M...</td>\n",
       "      <td>29</td>\n",
       "    </tr>\n",
       "  </tbody>\n",
       "</table>\n",
       "</div>"
      ],
      "text/plain": [
       "    searchName      userid       resultName certified  \\\n",
       "NaN     abbvie   531892451           abbvie      True   \n",
       "NaN     abbvie  4022225835        abbvie_de     False   \n",
       "NaN     abbvie  4826826895     abbviecanada     False   \n",
       "NaN     abbvie  3316998297     AbbvieLauLec     False   \n",
       "NaN     abbvie    87399349  almartinsanchez     False   \n",
       "\n",
       "                                           description  distance  \n",
       "NaN  AbbVie's global handle featuring biopharmaceut...       100  \n",
       "NaN  Willkommen beim forschenden BioPharma-Unterneh...        80  \n",
       "NaN  AbbVie Canada’s official Twitter feed / Site o...        67  \n",
       "NaN  Government Affairs Manager Belgium Luxembourg ...        67  \n",
       "NaN  #Digital passionate & worker. #geek. Digital M...        29  "
      ]
     },
     "execution_count": 7,
     "metadata": {},
     "output_type": "execute_result"
    }
   ],
   "source": [
    "df.head()"
   ]
  },
  {
   "cell_type": "code",
   "execution_count": 8,
   "metadata": {
    "collapsed": false
   },
   "outputs": [
    {
     "data": {
      "text/plain": [
       "Index([u'searchName', u'userid', u'resultName', u'certified', u'description',\n",
       "       u'distance'],\n",
       "      dtype='object')"
      ]
     },
     "execution_count": 8,
     "metadata": {},
     "output_type": "execute_result"
    }
   ],
   "source": [
    "df.columns"
   ]
  },
  {
   "cell_type": "code",
   "execution_count": 9,
   "metadata": {
    "collapsed": false
   },
   "outputs": [
    {
     "data": {
      "text/plain": [
       "searchName\n",
       "abbvie        37\n",
       "accenture    108\n",
       "aguila       108\n",
       "aldi         108\n",
       "alibaba      108\n",
       "dtype: int64"
      ]
     },
     "execution_count": 9,
     "metadata": {},
     "output_type": "execute_result"
    }
   ],
   "source": [
    "df.groupby('searchName').size().head()"
   ]
  },
  {
   "cell_type": "code",
   "execution_count": 10,
   "metadata": {
    "collapsed": false
   },
   "outputs": [
    {
     "data": {
      "image/png": "[encoded data removed]",
      "text/plain": [
       "<matplotlib.figure.Figure at 0x7ff1e08a7510>"
      ]
     },
     "metadata": {},
     "output_type": "display_data"
    }
   ],
   "source": [
    "df.hist(column='distance')\n",
    "pl.show()"
   ]
  },
  {
   "cell_type": "code",
   "execution_count": null,
   "metadata": {
    "collapsed": true
   },
   "outputs": [],
   "source": [
    "import matplotlib.pyplot as plt\n",
    "ax = df[['resultName','distance']].plot(kind='bar', title =\"V comp\",figsize=(15,10),legend=True, fontsize=12)\n",
    "#ax.set_xlabel(\"Hour\",fontsize=12)\n",
    "#ax.set_ylabel(\"V\",fontsize=12)\n",
    "plt.show()"
   ]
  },
  {
   "cell_type": "code",
   "execution_count": 11,
   "metadata": {
    "collapsed": false
   },
   "outputs": [
    {
     "data": {
      "text/plain": [
       "212"
      ]
     },
     "execution_count": 11,
     "metadata": {},
     "output_type": "execute_result"
    }
   ],
   "source": [
    "len(set(df['searchName']))"
   ]
  },
  {
   "cell_type": "code",
   "execution_count": 12,
   "metadata": {
    "collapsed": false
   },
   "outputs": [
    {
     "data": {
      "text/plain": [
       "4977"
      ]
     },
     "execution_count": 12,
     "metadata": {},
     "output_type": "execute_result"
    }
   ],
   "source": [
    "len(df[(df['distance']>=70)]['resultName'])"
   ]
  },
  {
   "cell_type": "code",
   "execution_count": 13,
   "metadata": {
    "collapsed": false
   },
   "outputs": [
    {
     "data": {
      "text/plain": [
       "17666"
      ]
     },
     "execution_count": 13,
     "metadata": {},
     "output_type": "execute_result"
    }
   ],
   "source": [
    "len(df)"
   ]
  },
  {
   "cell_type": "code",
   "execution_count": 20,
   "metadata": {
    "collapsed": false
   },
   "outputs": [],
   "source": [
    "pd.DataFrame(df[(df['distance']>=70)][['searchName','userid','resultName']]).to_csv('/home/ds/notebooks/Data/officialbrands.csv')"
   ]
  },
  {
   "cell_type": "code",
   "execution_count": 22,
   "metadata": {
    "collapsed": false
   },
   "outputs": [],
   "source": [
    "#df[df['searchName']=='zara']\n"
   ]
  },
  {
   "cell_type": "code",
   "execution_count": 19,
   "metadata": {
    "collapsed": false
   },
   "outputs": [
    {
     "name": "stdout",
     "output_type": "stream",
     "text": [
      "https://twitter.com/GuCcImIk3\n",
      "https://twitter.com/SocksFromKohls\n",
      "https://twitter.com/LollipopTheater\n",
      "https://twitter.com/panasonic_ru\n",
      "https://twitter.com/ritzbymaruti\n",
      "https://twitter.com/PepsiCoRomania\n",
      "https://twitter.com/CloroxRD\n",
      "https://twitter.com/TomZizkaFox26\n",
      "https://twitter.com/wsx446\n",
      "https://twitter.com/FoxHorror\n",
      "https://twitter.com/FujitsuOfficial\n",
      "https://twitter.com/AztecaGuate\n",
      "https://twitter.com/BANCADOBLUES\n",
      "https://twitter.com/PeugeotMex\n",
      "https://twitter.com/MondelezCanada\n",
      "https://twitter.com/Telstra\n",
      "https://twitter.com/FrankSubaru\n",
      "https://twitter.com/JJ_23Era\n",
      "https://twitter.com/TLSLaunceston\n",
      "https://twitter.com/mastercard4u\n"
     ]
    }
   ],
   "source": [
    "url2='https://twitter.com/{0}'\n",
    "for x in df['resultName'].sample(n=20):\n",
    "    print url2.format(x)"
   ]
  },
  {
   "cell_type": "code",
   "execution_count": 21,
   "metadata": {
    "collapsed": false
   },
   "outputs": [
    {
     "data": {
      "text/plain": [
       "0.8"
      ]
     },
     "execution_count": 21,
     "metadata": {},
     "output_type": "execute_result"
    }
   ],
   "source": [
    "16.0/20.0"
   ]
  },
  {
   "cell_type": "code",
   "execution_count": null,
   "metadata": {
    "collapsed": true
   },
   "outputs": [],
   "source": []
  }
 ],
 "metadata": {
  "kernelspec": {
   "display_name": "Python 2",
   "language": "python",
   "name": "python2"
  },
  "language_info": {
   "codemirror_mode": {
    "name": "ipython",
    "version": 2
   },
   "file_extension": ".py",
   "mimetype": "text/x-python",
   "name": "python",
   "nbconvert_exporter": "python",
   "pygments_lexer": "ipython2",
   "version": "2.7.6"
  }
 },
 "nbformat": 4,
 "nbformat_minor": 0
}
