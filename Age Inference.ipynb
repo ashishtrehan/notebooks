{
 "cells": [
  {
   "cell_type": "code",
   "execution_count": 10,
   "metadata": {
    "collapsed": true
   },
   "outputs": [],
   "source": [
    "from sklearn.feature_extraction.text import CountVectorizer\n",
    "from sklearn.preprocessing import binarize\n",
    "import sklearn\n",
    "from sklearn.svm import LinearSVC\n",
    "from sklearn.cross_validation import StratifiedShuffleSplit\n",
    "from sklearn import metrics\n",
    "from sklearn.ensemble import ExtraTreesClassifier\n",
    "from sklearn.pipeline import Pipeline\n",
    "from sklearn.pipeline import FeatureUnion\n",
    "import nltk\n",
    "import os\n",
    "import pandas as pd\n",
    "import numpy as np\n",
    "from sklearn.naive_bayes import MultinomialNB\n",
    "from sklearn.feature_extraction.text import TfidfTransformer"
   ]
  },
  {
   "cell_type": "code",
   "execution_count": 4,
   "metadata": {
    "collapsed": false
   },
   "outputs": [],
   "source": [
    "columns=['value','twitterhandle','userid','user_screen_name','retweets','favorites','tweet_id','timestamp','tweet']\n",
    "#df=pd.read_csv('/home/ds/notebooks/Data/twitterTweets.csv',sep='\\t',names=columns,encoding='utf-8')"
   ]
  },
  {
   "cell_type": "code",
   "execution_count": 2,
   "metadata": {
    "collapsed": false
   },
   "outputs": [],
   "source": [
    "def read_csv(name):\n",
    "    location='/home/ds/notebooks/Data/'\n",
    "    name=name+'.csv'\n",
    "    columns=['value','twitterhandle','userid','user_screen_name','retweets','favorites','tweet_id','timestamp','tweet']\n",
    "    for root,dirs,files in os.walk(location):\n",
    "        if name in files:\n",
    "            outfile=os.path.join(root,name)\n",
    "            return pd.read_csv(outfile,sep='\\t',names=columns,encoding='utf-8')#,usecols=['value', 'tweet'])\n",
    "            \n",
    "def training(df):\n",
    "    return np.random.rand(len(df)) < 0.8\n",
    "#df_train=df[msk]\n",
    "#df_test=df[~msk]\n",
    "#return df_train.shape,df_test.shape\n",
    "#def "
   ]
  },
  {
   "cell_type": "code",
   "execution_count": 3,
   "metadata": {
    "collapsed": false
   },
   "outputs": [
    {
     "name": "stderr",
     "output_type": "stream",
     "text": [
      "/opt/ds/local/lib/python2.7/site-packages/IPython/core/interactiveshell.py:3006: DtypeWarning: Columns (4) have mixed types. Specify dtype option on import or set low_memory=False.\n",
      "  if self.run_code(code, result):\n"
     ]
    }
   ],
   "source": [
    "df = read_csv('twitterTweets')"
   ]
  },
  {
   "cell_type": "code",
   "execution_count": 4,
   "metadata": {
    "collapsed": false
   },
   "outputs": [],
   "source": [
    "df_train=df[training(df)]\n",
    "df_test=df[~training(df)]"
   ]
  },
  {
   "cell_type": "code",
   "execution_count": 5,
   "metadata": {
    "collapsed": false
   },
   "outputs": [],
   "source": [
    "df2=pd.read_csv('/home/ds/notebooks/Data/twitterhandles.csv',encoding='utf-8')\n",
    "df2.rename(columns={'Handle': 'value'}, inplace=True)\n",
    "df_train=pd.merge(df_train, df2, on='value', how='inner')\n",
    "df_test=pd.merge(df_test, df2, on='value', how='inner')\n",
    "labels = ['0-9', '10-19', '20-29', '30-39', '40-49', '50-59', '60-69', '70-79']\n",
    "df_train['age_group'] = pd.cut(df_train.Age, range(0, 81, 10), right=False, labels=labels)\n",
    "df_test['age_group'] = pd.cut(df_test.Age, range(0, 81, 10), right=False, labels=labels)\n",
    "df_train=df_train.dropna()\n",
    "df_test=df_test.dropna()"
   ]
  },
  {
   "cell_type": "code",
   "execution_count": 6,
   "metadata": {
    "collapsed": false
   },
   "outputs": [
    {
     "ename": "NameError",
     "evalue": "name 'df3' is not defined",
     "output_type": "error",
     "traceback": [
      "\u001b[1;31m---------------------------------------------------------------------------\u001b[0m",
      "\u001b[1;31mNameError\u001b[0m                                 Traceback (most recent call last)",
      "\u001b[1;32m<ipython-input-6-a34ee909beed>\u001b[0m in \u001b[0;36m<module>\u001b[1;34m()\u001b[0m\n\u001b[0;32m      1\u001b[0m \u001b[0mget_ipython\u001b[0m\u001b[1;33m(\u001b[0m\u001b[1;33m)\u001b[0m\u001b[1;33m.\u001b[0m\u001b[0mmagic\u001b[0m\u001b[1;33m(\u001b[0m\u001b[1;34mu'timeit'\u001b[0m\u001b[1;33m)\u001b[0m\u001b[1;33m\u001b[0m\u001b[0m\n\u001b[1;32m----> 2\u001b[1;33m \u001b[0mdf3\u001b[0m\u001b[1;33m.\u001b[0m\u001b[0misnull\u001b[0m\u001b[1;33m(\u001b[0m\u001b[1;33m)\u001b[0m\u001b[1;33m.\u001b[0m\u001b[0msum\u001b[0m\u001b[1;33m(\u001b[0m\u001b[1;33m)\u001b[0m\u001b[1;33m\u001b[0m\u001b[0m\n\u001b[0m",
      "\u001b[1;31mNameError\u001b[0m: name 'df3' is not defined"
     ]
    }
   ],
   "source": [
    "%timeit \n",
    "df3.isnull().sum()"
   ]
  },
  {
   "cell_type": "code",
   "execution_count": 53,
   "metadata": {
    "collapsed": false
   },
   "outputs": [],
   "source": [
    "def vectorize(df):\n",
    "    bow_transformer = CountVectorizer(tokenizer=nltk.word_tokenize,token_pattern=\"[a-zA-Z]{2,15}\",stop_words=\"english\")\n",
    "    bow_transformer.fit(df)\n",
    "    messages_bow = bow_transformer.transform(df)\n",
    "    tfidf_transformer = TfidfTransformer().fit(messages_bow)\n",
    "    messages_tfidf = tfidf_transformer.transform(messages_bow)\n",
    "    return messages_tfidf    "
   ]
  },
  {
   "cell_type": "code",
   "execution_count": 29,
   "metadata": {
    "collapsed": false
   },
   "outputs": [
    {
     "name": "stdout",
     "output_type": "stream",
     "text": [
      "1 loops, best of 3: 2min 29s per loop\n"
     ]
    }
   ],
   "source": [
    "%timeit age_inference = MultinomialNB().fit(vectorize(df_train['tweet']), df_train['age_group'])"
   ]
  },
  {
   "cell_type": "code",
   "execution_count": 31,
   "metadata": {
    "collapsed": false
   },
   "outputs": [],
   "source": [
    "bow_transformer = CountVectorizer(tokenizer=nltk.word_tokenize,token_pattern=\"[a-zA-Z]{2,15}\",stop_words=\"english\"\n",
    "                                 ).fit(df_train['tweet'])"
   ]
  },
  {
   "cell_type": "code",
   "execution_count": 32,
   "metadata": {
    "collapsed": false
   },
   "outputs": [
    {
     "name": "stdout",
     "output_type": "stream",
     "text": [
      "@centrixe u good ruben\n",
      "  (0, 29594)\t1\n",
      "  (0, 43505)\t1\n",
      "  (0, 62416)\t1\n",
      "  (0, 107909)\t1\n",
      "  (0, 123541)\t1\n",
      "(1, 135066)\n",
      "wizkalifah\n",
      "stillness\n"
     ]
    }
   ],
   "source": [
    "message3 = df_train['tweet'][3]\n",
    "print message3\n",
    "bow4 = bow_transformer.transform([message3])\n",
    "print bow4\n",
    "print bow4.shape\n",
    "print bow_transformer.get_feature_names()[129168]\n",
    "print bow_transformer.get_feature_names()[115477]"
   ]
  },
  {
   "cell_type": "code",
   "execution_count": 34,
   "metadata": {
    "collapsed": false
   },
   "outputs": [
    {
     "name": "stdout",
     "output_type": "stream",
     "text": [
      "sparse matrix shape: (181758, 135066)\n",
      "number of non-zeros: 1485198\n",
      "sparsity: 0.01%\n"
     ]
    }
   ],
   "source": [
    "messages_bow = bow_transformer.transform(df_train['tweet'])\n",
    "print 'sparse matrix shape:', messages_bow.shape\n",
    "print 'number of non-zeros:', messages_bow.nnz\n",
    "print 'sparsity: %.2f%%' % (100.0 * messages_bow.nnz / (messages_bow.shape[0] * messages_bow.shape[1]))"
   ]
  },
  {
   "cell_type": "code",
   "execution_count": 35,
   "metadata": {
    "collapsed": false
   },
   "outputs": [
    {
     "name": "stdout",
     "output_type": "stream",
     "text": [
      "  (0, 123541)\t0.270434265522\n",
      "  (0, 107909)\t0.710601986685\n",
      "  (0, 62416)\t0.296011673885\n",
      "  (0, 43505)\t0.571041969021\n",
      "  (0, 29594)\t0.0905443708425\n"
     ]
    }
   ],
   "source": [
    "from sklearn.feature_extraction.text import TfidfTransformer\n",
    "tfidf_transformer = TfidfTransformer().fit(messages_bow)\n",
    "tfidf4 = tfidf_transformer.transform(bow4)\n",
    "print tfidf4"
   ]
  },
  {
   "cell_type": "code",
   "execution_count": 43,
   "metadata": {
    "collapsed": false
   },
   "outputs": [
    {
     "name": "stdout",
     "output_type": "stream",
     "text": [
      "(181758, 135066)\n"
     ]
    }
   ],
   "source": [
    "messages_tfidf = tfidf_transformer.transform(messages_bow)\n",
    "print messages_tfidf.shape"
   ]
  },
  {
   "cell_type": "code",
   "execution_count": 8,
   "metadata": {
    "collapsed": false
   },
   "outputs": [],
   "source": [
    "from sklearn.naive_bayes import MultinomialNB\n",
    "#%time age_inference = MultinomialNB().fit(messages_tfidf, df_train['age_group'])"
   ]
  },
  {
   "cell_type": "code",
   "execution_count": 36,
   "metadata": {
    "collapsed": false
   },
   "outputs": [
    {
     "name": "stdout",
     "output_type": "stream",
     "text": [
      "predicted: ['10-19']\n",
      "expected: 0    10-19\n",
      "Name: age_group, dtype: category\n",
      "Categories (8, object): [0-9 < 10-19 < 20-29 < 30-39 < 40-49 < 50-59 < 60-69 < 70-79]\n"
     ]
    }
   ],
   "source": [
    "print 'predicted:', age_inference.predict(tfidf4)[:1]\n",
    "print 'expected:', df_train['age_group'][:1]"
   ]
  },
  {
   "cell_type": "code",
   "execution_count": 15,
   "metadata": {
    "collapsed": false
   },
   "outputs": [
    {
     "name": "stdout",
     "output_type": "stream",
     "text": [
      "['10-19' '10-19' '10-19' '10-19' '10-19' '10-19' '10-19' '10-19' '10-19'\n",
      " '10-19']\n"
     ]
    }
   ],
   "source": [
    "all_predictions = age_inference.predict(messages_tfidf)\n",
    "print all_predictions[:10]"
   ]
  },
  {
   "cell_type": "code",
   "execution_count": 16,
   "metadata": {
    "collapsed": false
   },
   "outputs": [
    {
     "data": {
      "text/plain": [
       "0\n",
       "0-9         785\n",
       "10-19    135469\n",
       "20-29     10939\n",
       "30-39      8063\n",
       "40-49     25037\n",
       "50-59      1055\n",
       "60-69       324\n",
       "70-79         5\n",
       "dtype: int64"
      ]
     },
     "execution_count": 16,
     "metadata": {},
     "output_type": "execute_result"
    }
   ],
   "source": [
    "pd.DataFrame(all_predictions).groupby(0).size()"
   ]
  },
  {
   "cell_type": "code",
   "execution_count": 40,
   "metadata": {
    "collapsed": false
   },
   "outputs": [
    {
     "name": "stdout",
     "output_type": "stream",
     "text": [
      "\n"
     ]
    }
   ],
   "source": [
    "import sklearn.metrics as metrics\n",
    "from sklearn.metrics import accuracy_score,confusion_matrix"
   ]
  },
  {
   "cell_type": "code",
   "execution_count": 18,
   "metadata": {
    "collapsed": false
   },
   "outputs": [
    {
     "name": "stdout",
     "output_type": "stream",
     "text": [
      "accuracy 0.817731468485\n",
      "confusion matrix\n",
      "[[   785    548      8      1     63      0      0      0]\n",
      " [     0 103421      3      1     41      0      0      0]\n",
      " [     0  10081  10905      2     72      0      0      0]\n",
      " [     0   7554      4   8020    341      0      0      0]\n",
      " [     0   7179      3      3  24050      0      0      0]\n",
      " [     0   3690     12     10    186   1053      0      0]\n",
      " [     0   2399      3     17    223      2    324      0]\n",
      " [     0    597      1      9     61      0      0      5]]\n",
      "(row=expected, col=predicted)\n"
     ]
    }
   ],
   "source": [
    "print 'accuracy', accuracy_score(df_train['age_group'], all_predictions)\n",
    "print 'confusion matrix\\n', confusion_matrix(df_train['age_group'], all_predictions)\n",
    "print '(row=expected, col=predicted)'"
   ]
  },
  {
   "cell_type": "code",
   "execution_count": 37,
   "metadata": {
    "collapsed": false
   },
   "outputs": [],
   "source": [
    "messages_bow_test=bow_transformer.transform(df_test['tweet'])\n",
    "messages_tfidf_test=tfidf_transformer.transform(messages_bow_test)"
   ]
  },
  {
   "cell_type": "code",
   "execution_count": 38,
   "metadata": {
    "collapsed": true
   },
   "outputs": [],
   "source": [
    "all_predictions_test=age_inference.predict(messages_tfidf_test)"
   ]
  },
  {
   "cell_type": "code",
   "execution_count": 41,
   "metadata": {
    "collapsed": false
   },
   "outputs": [
    {
     "name": "stdout",
     "output_type": "stream",
     "text": [
      "accuracy 0.81137269584\n",
      "confusion matrix\n",
      "[[  183   171     2     0    13     0     0     0]\n",
      " [    0 25872     2     0    19     0     0     0]\n",
      " [    0  2586  2725     0    19     0     0     0]\n",
      " [    0  1958     0  1912    99     0     0     0]\n",
      " [    0  1911     0     1  5768     0     0     0]\n",
      " [    0   902     4     4    53   293     0     0]\n",
      " [    0   608     1     1    56     0    89     0]\n",
      " [    0   132     0     2    21     0     0     0]]\n"
     ]
    }
   ],
   "source": [
    "print 'accuracy', accuracy_score(df_test['age_group'], all_predictions_test)\n",
    "print 'confusion matrix\\n', confusion_matrix(df_test['age_group'], all_predictions_test)\n",
    "#print '(row=expected, col=predicted)'"
   ]
  },
  {
   "cell_type": "code",
   "execution_count": 25,
   "metadata": {
    "collapsed": false
   },
   "outputs": [
    {
     "data": {
      "text/html": [
       "<div>\n",
       "<table border=\"1\" class=\"dataframe\">\n",
       "  <thead>\n",
       "    <tr style=\"text-align: right;\">\n",
       "      <th></th>\n",
       "      <th>0-9 (predicted)</th>\n",
       "      <th>10-19 (predicted)</th>\n",
       "      <th>20-29 (predicted)</th>\n",
       "      <th>30-39 (predicted)</th>\n",
       "      <th>40-49 (predicted)</th>\n",
       "      <th>50-59 (predicted)</th>\n",
       "      <th>60-69 (predicted)</th>\n",
       "      <th>70-79 (predicted)</th>\n",
       "    </tr>\n",
       "  </thead>\n",
       "  <tbody>\n",
       "    <tr>\n",
       "      <th>0-9 (actual)</th>\n",
       "      <td>202</td>\n",
       "      <td>136</td>\n",
       "      <td>2</td>\n",
       "      <td>0</td>\n",
       "      <td>9</td>\n",
       "      <td>0</td>\n",
       "      <td>0</td>\n",
       "      <td>0</td>\n",
       "    </tr>\n",
       "    <tr>\n",
       "      <th>10-19 (actual)</th>\n",
       "      <td>0</td>\n",
       "      <td>25681</td>\n",
       "      <td>0</td>\n",
       "      <td>0</td>\n",
       "      <td>26</td>\n",
       "      <td>0</td>\n",
       "      <td>0</td>\n",
       "      <td>0</td>\n",
       "    </tr>\n",
       "    <tr>\n",
       "      <th>20-29 (actual)</th>\n",
       "      <td>0</td>\n",
       "      <td>2597</td>\n",
       "      <td>2658</td>\n",
       "      <td>0</td>\n",
       "      <td>19</td>\n",
       "      <td>0</td>\n",
       "      <td>0</td>\n",
       "      <td>0</td>\n",
       "    </tr>\n",
       "    <tr>\n",
       "      <th>30-39 (actual)</th>\n",
       "      <td>0</td>\n",
       "      <td>1954</td>\n",
       "      <td>0</td>\n",
       "      <td>1866</td>\n",
       "      <td>77</td>\n",
       "      <td>0</td>\n",
       "      <td>0</td>\n",
       "      <td>0</td>\n",
       "    </tr>\n",
       "    <tr>\n",
       "      <th>40-49 (actual)</th>\n",
       "      <td>0</td>\n",
       "      <td>2015</td>\n",
       "      <td>1</td>\n",
       "      <td>0</td>\n",
       "      <td>5828</td>\n",
       "      <td>0</td>\n",
       "      <td>0</td>\n",
       "      <td>0</td>\n",
       "    </tr>\n",
       "    <tr>\n",
       "      <th>50-59 (actual)</th>\n",
       "      <td>0</td>\n",
       "      <td>899</td>\n",
       "      <td>4</td>\n",
       "      <td>1</td>\n",
       "      <td>51</td>\n",
       "      <td>253</td>\n",
       "      <td>0</td>\n",
       "      <td>0</td>\n",
       "    </tr>\n",
       "    <tr>\n",
       "      <th>60-69 (actual)</th>\n",
       "      <td>0</td>\n",
       "      <td>628</td>\n",
       "      <td>0</td>\n",
       "      <td>7</td>\n",
       "      <td>58</td>\n",
       "      <td>0</td>\n",
       "      <td>65</td>\n",
       "      <td>0</td>\n",
       "    </tr>\n",
       "    <tr>\n",
       "      <th>70-79 (actual)</th>\n",
       "      <td>0</td>\n",
       "      <td>142</td>\n",
       "      <td>0</td>\n",
       "      <td>2</td>\n",
       "      <td>15</td>\n",
       "      <td>0</td>\n",
       "      <td>0</td>\n",
       "      <td>1</td>\n",
       "    </tr>\n",
       "  </tbody>\n",
       "</table>\n",
       "</div>"
      ],
      "text/plain": [
       "                0-9 (predicted)  10-19 (predicted)  20-29 (predicted)  \\\n",
       "0-9 (actual)                202                136                  2   \n",
       "10-19 (actual)                0              25681                  0   \n",
       "20-29 (actual)                0               2597               2658   \n",
       "30-39 (actual)                0               1954                  0   \n",
       "40-49 (actual)                0               2015                  1   \n",
       "50-59 (actual)                0                899                  4   \n",
       "60-69 (actual)                0                628                  0   \n",
       "70-79 (actual)                0                142                  0   \n",
       "\n",
       "                30-39 (predicted)  40-49 (predicted)  50-59 (predicted)  \\\n",
       "0-9 (actual)                    0                  9                  0   \n",
       "10-19 (actual)                  0                 26                  0   \n",
       "20-29 (actual)                  0                 19                  0   \n",
       "30-39 (actual)               1866                 77                  0   \n",
       "40-49 (actual)                  0               5828                  0   \n",
       "50-59 (actual)                  1                 51                253   \n",
       "60-69 (actual)                  7                 58                  0   \n",
       "70-79 (actual)                  2                 15                  0   \n",
       "\n",
       "                60-69 (predicted)  70-79 (predicted)  \n",
       "0-9 (actual)                    0                  0  \n",
       "10-19 (actual)                  0                  0  \n",
       "20-29 (actual)                  0                  0  \n",
       "30-39 (actual)                  0                  0  \n",
       "40-49 (actual)                  0                  0  \n",
       "50-59 (actual)                  0                  0  \n",
       "60-69 (actual)                 65                  0  \n",
       "70-79 (actual)                  0                  1  "
      ]
     },
     "execution_count": 25,
     "metadata": {},
     "output_type": "execute_result"
    }
   ],
   "source": [
    "confusion=pd.DataFrame(confusion_matrix(df_test['age_group'], all_predictions_test))\n",
    "confusion.index = [\"%s (actual)\" % x for x in labels]\n",
    "confusion.columns = [\"%s (predicted)\" % x for x in labels] \n",
    "confusion"
   ]
  },
  {
   "cell_type": "code",
   "execution_count": 60,
   "metadata": {
    "collapsed": false
   },
   "outputs": [
    {
     "data": {
      "text/plain": [
       "0\n",
       "0-9        127\n",
       "10-19    35828\n",
       "20-29     2212\n",
       "30-39     1530\n",
       "40-49     5423\n",
       "50-59      245\n",
       "60-69       55\n",
       "dtype: int64"
      ]
     },
     "execution_count": 60,
     "metadata": {},
     "output_type": "execute_result"
    }
   ],
   "source": [
    "pd.DataFrame(all_predictions_test).groupby(0).size()"
   ]
  },
  {
   "cell_type": "code",
   "execution_count": null,
   "metadata": {
    "collapsed": true
   },
   "outputs": [],
   "source": [
    "rf = RandomForestRegressor()\n",
    "rf.fit(X, Y)\n",
    "print \"Features sorted by their score:\"\n",
    "print sorted(zip(map(lambda x: round(x, 4), rf.feature_importances_), names), \n",
    "             reverse=True)"
   ]
  },
  {
   "cell_type": "code",
   "execution_count": 22,
   "metadata": {
    "collapsed": false
   },
   "outputs": [],
   "source": [
    "from sklearn.ensemble import RandomForestRegressor\n",
    "from sklearn.preprocessing import LabelEncoder\n",
    "df_train['Age_Encoded']=LabelEncoder().fit_transform(df_train['age_group']) \n",
    "#rf = RandomForestRegressor()\n",
    "#RF=rf.fit(messages_tfidf, df_train['Age_Encoded'])"
   ]
  },
  {
   "cell_type": "code",
   "execution_count": 24,
   "metadata": {
    "collapsed": false
   },
   "outputs": [
    {
     "data": {
      "text/plain": [
       "Age_Encoded\n",
       "0      1399\n",
       "1    103531\n",
       "2     20954\n",
       "3     15918\n",
       "4     31271\n",
       "5      4915\n",
       "6      2962\n",
       "7       642\n",
       "dtype: int64"
      ]
     },
     "execution_count": 24,
     "metadata": {},
     "output_type": "execute_result"
    }
   ],
   "source": [
    "df_train.groupby('Age_Encoded').size()"
   ]
  },
  {
   "cell_type": "code",
   "execution_count": null,
   "metadata": {
    "collapsed": false
   },
   "outputs": [
    {
     "name": "stdout",
     "output_type": "stream",
     "text": [
      "CPU times: user 43min 30s, sys: 192 ms, total: 43min 30s\n",
      "Wall time: 43min 36s\n"
     ]
    }
   ],
   "source": [
    "%time age_inference_features = RandomForestRegressor().fit(messages_tfidf, df_train['Age_Encoded'])"
   ]
  },
  {
   "cell_type": "code",
   "execution_count": null,
   "metadata": {
    "collapsed": true
   },
   "outputs": [],
   "source": [
    "print \"Features sorted by their score:\"\n",
    "print sorted(zip(map(lambda x: round(x, 4), age_inference_features.feature_importances_), names), \n",
    "             reverse=True)"
   ]
  },
  {
   "cell_type": "code",
   "execution_count": 50,
   "metadata": {
    "collapsed": false
   },
   "outputs": [],
   "source": [
    "from sklearn.ensemble import RandomForestClassifier\n",
    "rf = RandomForestClassifier(n_jobs=2)\n",
    "random_forest=rf.fit(messages_tfidf,df_train['age_group'])\n",
    "#.predict(messages_tfidf_test)"
   ]
  },
  {
   "cell_type": "code",
   "execution_count": 51,
   "metadata": {
    "collapsed": false
   },
   "outputs": [
    {
     "data": {
      "text/html": [
       "<div>\n",
       "<table border=\"1\" class=\"dataframe\">\n",
       "  <thead>\n",
       "    <tr style=\"text-align: right;\">\n",
       "      <th></th>\n",
       "      <th>0-9 (predicted)</th>\n",
       "      <th>10-19 (predicted)</th>\n",
       "      <th>20-29 (predicted)</th>\n",
       "      <th>30-39 (predicted)</th>\n",
       "      <th>40-49 (predicted)</th>\n",
       "      <th>50-59 (predicted)</th>\n",
       "      <th>60-69 (predicted)</th>\n",
       "      <th>70-79 (predicted)</th>\n",
       "    </tr>\n",
       "  </thead>\n",
       "  <tbody>\n",
       "    <tr>\n",
       "      <th>0-9 (actual)</th>\n",
       "      <td>365</td>\n",
       "      <td>4</td>\n",
       "      <td>0</td>\n",
       "      <td>0</td>\n",
       "      <td>0</td>\n",
       "      <td>0</td>\n",
       "      <td>0</td>\n",
       "      <td>0</td>\n",
       "    </tr>\n",
       "    <tr>\n",
       "      <th>10-19 (actual)</th>\n",
       "      <td>0</td>\n",
       "      <td>25835</td>\n",
       "      <td>18</td>\n",
       "      <td>9</td>\n",
       "      <td>31</td>\n",
       "      <td>0</td>\n",
       "      <td>0</td>\n",
       "      <td>0</td>\n",
       "    </tr>\n",
       "    <tr>\n",
       "      <th>20-29 (actual)</th>\n",
       "      <td>0</td>\n",
       "      <td>532</td>\n",
       "      <td>4782</td>\n",
       "      <td>4</td>\n",
       "      <td>12</td>\n",
       "      <td>0</td>\n",
       "      <td>0</td>\n",
       "      <td>0</td>\n",
       "    </tr>\n",
       "    <tr>\n",
       "      <th>30-39 (actual)</th>\n",
       "      <td>1</td>\n",
       "      <td>212</td>\n",
       "      <td>13</td>\n",
       "      <td>3705</td>\n",
       "      <td>38</td>\n",
       "      <td>0</td>\n",
       "      <td>0</td>\n",
       "      <td>0</td>\n",
       "    </tr>\n",
       "    <tr>\n",
       "      <th>40-49 (actual)</th>\n",
       "      <td>1</td>\n",
       "      <td>393</td>\n",
       "      <td>14</td>\n",
       "      <td>29</td>\n",
       "      <td>7243</td>\n",
       "      <td>0</td>\n",
       "      <td>0</td>\n",
       "      <td>0</td>\n",
       "    </tr>\n",
       "    <tr>\n",
       "      <th>50-59 (actual)</th>\n",
       "      <td>0</td>\n",
       "      <td>119</td>\n",
       "      <td>2</td>\n",
       "      <td>12</td>\n",
       "      <td>13</td>\n",
       "      <td>1109</td>\n",
       "      <td>1</td>\n",
       "      <td>0</td>\n",
       "    </tr>\n",
       "    <tr>\n",
       "      <th>60-69 (actual)</th>\n",
       "      <td>0</td>\n",
       "      <td>74</td>\n",
       "      <td>4</td>\n",
       "      <td>4</td>\n",
       "      <td>15</td>\n",
       "      <td>3</td>\n",
       "      <td>655</td>\n",
       "      <td>0</td>\n",
       "    </tr>\n",
       "    <tr>\n",
       "      <th>70-79 (actual)</th>\n",
       "      <td>0</td>\n",
       "      <td>16</td>\n",
       "      <td>1</td>\n",
       "      <td>2</td>\n",
       "      <td>2</td>\n",
       "      <td>0</td>\n",
       "      <td>1</td>\n",
       "      <td>133</td>\n",
       "    </tr>\n",
       "  </tbody>\n",
       "</table>\n",
       "</div>"
      ],
      "text/plain": [
       "                0-9 (predicted)  10-19 (predicted)  20-29 (predicted)  \\\n",
       "0-9 (actual)                365                  4                  0   \n",
       "10-19 (actual)                0              25835                 18   \n",
       "20-29 (actual)                0                532               4782   \n",
       "30-39 (actual)                1                212                 13   \n",
       "40-49 (actual)                1                393                 14   \n",
       "50-59 (actual)                0                119                  2   \n",
       "60-69 (actual)                0                 74                  4   \n",
       "70-79 (actual)                0                 16                  1   \n",
       "\n",
       "                30-39 (predicted)  40-49 (predicted)  50-59 (predicted)  \\\n",
       "0-9 (actual)                    0                  0                  0   \n",
       "10-19 (actual)                  9                 31                  0   \n",
       "20-29 (actual)                  4                 12                  0   \n",
       "30-39 (actual)               3705                 38                  0   \n",
       "40-49 (actual)                 29               7243                  0   \n",
       "50-59 (actual)                 12                 13               1109   \n",
       "60-69 (actual)                  4                 15                  3   \n",
       "70-79 (actual)                  2                  2                  0   \n",
       "\n",
       "                60-69 (predicted)  70-79 (predicted)  \n",
       "0-9 (actual)                    0                  0  \n",
       "10-19 (actual)                  0                  0  \n",
       "20-29 (actual)                  0                  0  \n",
       "30-39 (actual)                  0                  0  \n",
       "40-49 (actual)                  0                  0  \n",
       "50-59 (actual)                  1                  0  \n",
       "60-69 (actual)                655                  0  \n",
       "70-79 (actual)                  1                133  "
      ]
     },
     "execution_count": 51,
     "metadata": {},
     "output_type": "execute_result"
    }
   ],
   "source": [
    "confusion=pd.DataFrame(confusion_matrix(df_test['age_group'], random_forest.predict(messages_tfidf_test)))\n",
    "confusion.index = [\"%s (actual)\" % x for x in labels]\n",
    "confusion.columns = [\"%s (predicted)\" % x for x in labels] \n",
    "confusion"
   ]
  },
  {
   "cell_type": "code",
   "execution_count": 52,
   "metadata": {
    "collapsed": false
   },
   "outputs": [
    {
     "name": "stdout",
     "output_type": "stream",
     "text": [
      "accuracy 0.965203602969\n"
     ]
    }
   ],
   "source": [
    "print 'accuracy', accuracy_score(df_test['age_group'],random_forest.predict(messages_tfidf_test))"
   ]
  },
  {
   "cell_type": "code",
   "execution_count": 54,
   "metadata": {
    "collapsed": true
   },
   "outputs": [],
   "source": [
    "x='I am now 25 years old and my eyesight is worsening, at what point do I get adult supervision? :nerd_face:'"
   ]
  },
  {
   "cell_type": "code",
   "execution_count": 60,
   "metadata": {
    "collapsed": false
   },
   "outputs": [],
   "source": [
    "import codecs\n",
    "fo = codecs.open('/home/ds/notebooks/Data/tweet_test.txt', \"r\", \"utf-8\")\n",
    "lines = fo.readlines()\n",
    "fo.close()"
   ]
  },
  {
   "cell_type": "code",
   "execution_count": 67,
   "metadata": {
    "collapsed": false
   },
   "outputs": [],
   "source": [
    "for x in lines:\n",
    "    tweet_test= bow_transformer.transform(x.strip())"
   ]
  },
  {
   "cell_type": "code",
   "execution_count": 70,
   "metadata": {
    "collapsed": false
   },
   "outputs": [],
   "source": [
    "test=age_inference.predict(tweet_test)"
   ]
  },
  {
   "cell_type": "code",
   "execution_count": 86,
   "metadata": {
    "collapsed": false
   },
   "outputs": [
    {
     "name": "stdout",
     "output_type": "stream",
     "text": [
      "tweet My mom needs to chill.\n",
      "\n",
      "predicted: 10-19\n"
     ]
    }
   ],
   "source": [
    "print 'tweet', lines[]\n",
    "print 'predicted:', random_forest.predict(tweet_test)[3]"
   ]
  },
  {
   "cell_type": "code",
   "execution_count": 88,
   "metadata": {
    "collapsed": false
   },
   "outputs": [
    {
     "data": {
      "text/plain": [
       "array(['10-19', '10-19', '10-19', '10-19', '10-19', '10-19', '10-19',\n",
       "       '10-19', '10-19', '10-19', '10-19', '10-19', '10-19', '10-19',\n",
       "       '10-19', '10-19', '10-19', '10-19', '10-19', '10-19', '10-19',\n",
       "       '10-19', '10-19', '10-19', '10-19', '10-19', '10-19', '10-19',\n",
       "       '10-19', '10-19', '10-19', '10-19', '10-19', '10-19', '10-19',\n",
       "       '10-19', '10-19', '10-19', '10-19', '10-19', '10-19', '10-19',\n",
       "       '10-19', '10-19', '10-19', '10-19', '10-19', '10-19', '10-19',\n",
       "       '10-19', '10-19', '10-19', '10-19', '10-19', '10-19', '10-19',\n",
       "       '10-19', '10-19', '10-19', '10-19', '10-19', '10-19', '10-19',\n",
       "       '10-19', '10-19', '10-19', '10-19', '10-19', '10-19', '10-19',\n",
       "       '10-19', '10-19', '10-19', '10-19', '10-19', '10-19', '10-19',\n",
       "       '10-19', '10-19', '10-19', '10-19', '10-19', '10-19', '10-19',\n",
       "       '10-19', '10-19', '10-19', '10-19', '10-19', '10-19', '10-19',\n",
       "       '10-19', '10-19', '10-19', '10-19', '10-19', '10-19', '10-19',\n",
       "       '10-19', '10-19', '10-19', '10-19', '10-19', '10-19', '10-19',\n",
       "       '10-19', '10-19', '10-19', '10-19', '10-19', '10-19', '10-19',\n",
       "       '10-19', '10-19', '10-19', '10-19', '10-19', '10-19', '10-19',\n",
       "       '10-19', '10-19', '10-19', '10-19', '10-19', '10-19', '10-19',\n",
       "       '10-19', '10-19', '10-19', '10-19', '10-19', '10-19', '10-19',\n",
       "       '10-19', '10-19', '10-19'], \n",
       "      dtype='|S5')"
      ]
     },
     "execution_count": 88,
     "metadata": {},
     "output_type": "execute_result"
    }
   ],
   "source": [
    "test"
   ]
  },
  {
   "cell_type": "code",
   "execution_count": null,
   "metadata": {
    "collapsed": true
   },
   "outputs": [],
   "source": []
  }
 ],
 "metadata": {
  "kernelspec": {
   "display_name": "Python 2",
   "language": "python",
   "name": "python2"
  },
  "language_info": {
   "codemirror_mode": {
    "name": "ipython",
    "version": 2
   },
   "file_extension": ".py",
   "mimetype": "text/x-python",
   "name": "python",
   "nbconvert_exporter": "python",
   "pygments_lexer": "ipython2",
   "version": "2.7.6"
  }
 },
 "nbformat": 4,
 "nbformat_minor": 0
}
