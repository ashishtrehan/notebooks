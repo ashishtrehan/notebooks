{
 "cells": [
  {
   "cell_type": "markdown",
   "metadata": {},
   "source": [
    "## Big Data Analytics Team Challenge\n",
    "sponsers: CDC, Booz Allen Hamilton,Emory University’s Rollins School of Public Health,and Task\n",
    "Force for Global Health "
   ]
  },
  {
   "cell_type": "markdown",
   "metadata": {},
   "source": [
    "This challenge is about collaborating with expert and novice data scientists to develop an accurate, machine-learning algorithm for the rapid identification of unusual strains of Bird Flu. \n",
    "\n",
    "Influenza virus continues to be a major public health risk with new outbreaks and pandemics being identified and recorded every year. Among influenza strains, H5N1 Avian influenza (aka Bird flu) represents a major threat due to its high pathogenicity and mortality rates and lack of effective vaccines.\n",
    "\n",
    "With current approaches, isolation and characterization of H5N1 influenza strains using sequencing techniques can be performed rapidly, but risk assessment of these data using conventional approaches can be challenging. New technologies and analytical tools recently developed can now be tailored to provide risk assessment analysis of genomic data.\n",
    "\n",
    "In this challenge, your team will be given a large genomic data set.  Your team will be asked to devise machine-learning methods such as neural networks, clustering analysis, etc. to develop an algorithm that quickly identifies variations in H5N1 Avian Influenza strains that may be of interest for further, detailed investigation.  "
   ]
  },
  {
   "cell_type": "markdown",
   "metadata": {},
   "source": [
    "Scoring Criteria:\n",
    "\n",
    "In general, each team’s solution will be judged on its solution, design and innovation.  Specifically, each team’s solution will be judged based on the following criteria:\n",
    "\n",
    "•      Accuracy of solution to data set #1 = 30%\n",
    "\n",
    "•      Accuracy of solution to data set #2 = 30%\n",
    "\n",
    "•      Innovation of solution = 20%\n",
    "\n",
    "•      Providing an example of how your teams solutions could address a specific scenario (showing your work, process, and solution = 20%\n",
    "\n",
    "It is understood that instructions for implementation of algorithms and solutions will be provided to the team prior to receiving any award"
   ]
  },
  {
   "cell_type": "code",
   "execution_count": 1,
   "metadata": {
    "collapsed": true
   },
   "outputs": [],
   "source": [
    "import pandas as pd\n",
    "import numpy as np"
   ]
  },
  {
   "cell_type": "code",
   "execution_count": 2,
   "metadata": {
    "collapsed": false
   },
   "outputs": [
    {
     "data": {
      "text/html": [
       "<div>\n",
       "<table border=\"1\" class=\"dataframe\">\n",
       "  <thead>\n",
       "    <tr style=\"text-align: right;\">\n",
       "      <th></th>\n",
       "      <th>ID</th>\n",
       "      <th>seqs</th>\n",
       "    </tr>\n",
       "  </thead>\n",
       "  <tbody>\n",
       "    <tr>\n",
       "      <th>0</th>\n",
       "      <td>0</td>\n",
       "      <td>agcaaaagcaggggtccaatctgtcaaaatggaaaaaatagtgctt...</td>\n",
       "    </tr>\n",
       "    <tr>\n",
       "      <th>1</th>\n",
       "      <td>0</td>\n",
       "      <td>atggagaaaatagtgcttcttcttgcaatagttagccttgttaaaa...</td>\n",
       "    </tr>\n",
       "    <tr>\n",
       "      <th>2</th>\n",
       "      <td>0</td>\n",
       "      <td>atggagaaaatagtgcttcttcttgcaatggtcagccttgttaaaa...</td>\n",
       "    </tr>\n",
       "    <tr>\n",
       "      <th>3</th>\n",
       "      <td>0</td>\n",
       "      <td>atggagaaaatagtgcttcttcttgcaatagtcagccttgttaaaa...</td>\n",
       "    </tr>\n",
       "    <tr>\n",
       "      <th>4</th>\n",
       "      <td>0</td>\n",
       "      <td>atggagaaaatagtgcttcttcttgcaatagtcagccttgttaaaa...</td>\n",
       "    </tr>\n",
       "  </tbody>\n",
       "</table>\n",
       "</div>"
      ],
      "text/plain": [
       "   ID                                               seqs\n",
       "0   0  agcaaaagcaggggtccaatctgtcaaaatggaaaaaatagtgctt...\n",
       "1   0  atggagaaaatagtgcttcttcttgcaatagttagccttgttaaaa...\n",
       "2   0  atggagaaaatagtgcttcttcttgcaatggtcagccttgttaaaa...\n",
       "3   0  atggagaaaatagtgcttcttcttgcaatagtcagccttgttaaaa...\n",
       "4   0  atggagaaaatagtgcttcttcttgcaatagtcagccttgttaaaa..."
      ]
     },
     "execution_count": 2,
     "metadata": {},
     "output_type": "execute_result"
    }
   ],
   "source": [
    "location='/home/ds/notebooks/Data/FLU_Challenge_vietnam.csv'\n",
    "df=pd.read_csv(location)\n",
    "df.head()"
   ]
  },
  {
   "cell_type": "code",
   "execution_count": 3,
   "metadata": {
    "collapsed": false
   },
   "outputs": [
    {
     "name": "stdout",
     "output_type": "stream",
     "text": [
      "The Vietnam Data Sets has 630 observations and 2 features\n",
      "There are 115 nulls in the ID column.\n"
     ]
    }
   ],
   "source": [
    "x,y=df.shape\n",
    "#print '%s'%x\n",
    "print \"The Vietnam Data Sets has {0} observations and {1} features\".format(x,y)\n",
    "print \"There are {0} nulls in the ID column.\".format(df['ID'].isnull().values.ravel().sum())"
   ]
  },
  {
   "cell_type": "markdown",
   "metadata": {},
   "source": [
    "Genetics is not my domain, but I do realize there is a lot of information packed within that gene sequence. I do know the individual letters represent nucleotides. Might want to dust off the old biology book from high school. So what are all the different types of individual letters do we have as of now?"
   ]
  },
  {
   "cell_type": "code",
   "execution_count": 5,
   "metadata": {
    "collapsed": false
   },
   "outputs": [
    {
     "name": "stdout",
     "output_type": "stream",
     "text": [
      "A-ADENINE\n",
      "C-CYTOSINE\n",
      "T-THYMINE\n",
      "G-GUANINE\n"
     ]
    }
   ],
   "source": [
    "s=pd.Series(df['seqs'])[0]\n",
    "l2=['adenine','cytosine','thymine','guanine']\n",
    "for x,y in zip([ x for y,x in enumerate(iter(set(s))) ],l2):\n",
    "    print '{0}-{1}'.format(x.upper(),y.upper())"
   ]
  },
  {
   "cell_type": "markdown",
   "metadata": {},
   "source": [
    "# Nucleotides:\n",
    "A stands for Adenine, C for cytonsine, T for thymine, and G for guanine are the meaning of each letter. Looking at this problem from a more NLP background. I am building up an alphabet and now its time to construct a vocabulary. "
   ]
  },
  {
   "cell_type": "code",
   "execution_count": 6,
   "metadata": {
    "collapsed": false
   },
   "outputs": [],
   "source": [
    "sequences = df['seqs'].tolist()\n",
    "\n",
    "characters=[]\n",
    "for x in sequences:\n",
    "    characters.append(list(x))\n",
    "\n",
    "letters=[]\n",
    "for x in characters:\n",
    "    letters.append(set(x))"
   ]
  },
  {
   "cell_type": "code",
   "execution_count": 7,
   "metadata": {
    "collapsed": true
   },
   "outputs": [],
   "source": [
    "def sequence(row,n):\n",
    "    s=row['seqs']\n",
    "    k=len(s)-2*n\n",
    "    klist = []\n",
    "    for i in range(k):\n",
    "        kmer=s[i:i+n]\n",
    "        klist.append(kmer)\n",
    "        #if not(kmer in klist) and (kmer in s[i+n:]):\n",
    "        knmers = ' '.join(klist)   \n",
    "    return knmers"
   ]
  },
  {
   "cell_type": "code",
   "execution_count": 8,
   "metadata": {
    "collapsed": true
   },
   "outputs": [],
   "source": [
    "def length(row):\n",
    "    x = len(row['seqs'])\n",
    "    return x\n",
    "\n",
    "df['length']=df.apply (lambda row: length (row),axis=1)"
   ]
  },
  {
   "cell_type": "code",
   "execution_count": 9,
   "metadata": {
    "collapsed": true
   },
   "outputs": [],
   "source": [
    "df['sequence']=df.apply (lambda row: sequence(row,3),axis=1)"
   ]
  },
  {
   "cell_type": "code",
   "execution_count": 10,
   "metadata": {
    "collapsed": false
   },
   "outputs": [
    {
     "data": {
      "text/html": [
       "<div>\n",
       "<table border=\"1\" class=\"dataframe\">\n",
       "  <thead>\n",
       "    <tr style=\"text-align: right;\">\n",
       "      <th></th>\n",
       "      <th>ID</th>\n",
       "      <th>seqs</th>\n",
       "      <th>length</th>\n",
       "      <th>sequence</th>\n",
       "    </tr>\n",
       "  </thead>\n",
       "  <tbody>\n",
       "    <tr>\n",
       "      <th>0</th>\n",
       "      <td>0</td>\n",
       "      <td>agcaaaagcaggggtccaatctgtcaaaatggaaaaaatagtgctt...</td>\n",
       "      <td>1779</td>\n",
       "      <td>agc gca caa aaa aaa aag agc gca cag agg ggg gg...</td>\n",
       "    </tr>\n",
       "  </tbody>\n",
       "</table>\n",
       "</div>"
      ],
      "text/plain": [
       "   ID                                               seqs  length  \\\n",
       "0   0  agcaaaagcaggggtccaatctgtcaaaatggaaaaaatagtgctt...    1779   \n",
       "\n",
       "                                            sequence  \n",
       "0  agc gca caa aaa aaa aag agc gca cag agg ggg gg...  "
      ]
     },
     "execution_count": 10,
     "metadata": {},
     "output_type": "execute_result"
    }
   ],
   "source": [
    "df[:1]"
   ]
  },
  {
   "cell_type": "code",
   "execution_count": 159,
   "metadata": {
    "collapsed": false
   },
   "outputs": [
    {
     "name": "stdout",
     "output_type": "stream",
     "text": [
      "1772\n"
     ]
    }
   ],
   "source": [
    "import re\n",
    "print len(re.findall(r' ', df['sequence'][0]))"
   ]
  },
  {
   "cell_type": "code",
   "execution_count": 18,
   "metadata": {
    "collapsed": false
   },
   "outputs": [],
   "source": [
    "from collections import defaultdict\n",
    "d = defaultdict(int)\n",
    "for x in df['sequence'][0].split(' '):\n",
    "    d[x] += 1"
   ]
  },
  {
   "cell_type": "code",
   "execution_count": 19,
   "metadata": {
    "collapsed": false
   },
   "outputs": [
    {
     "data": {
      "text/plain": [
       "defaultdict(int,\n",
       "            {'aaa': 79,\n",
       "             'aac': 33,\n",
       "             'aag': 49,\n",
       "             'aat': 67,\n",
       "             'aca': 36,\n",
       "             'acc': 26,\n",
       "             'acg': 10,\n",
       "             'act': 26,\n",
       "             'aga': 66,\n",
       "             'agc': 24,\n",
       "             'agg': 27,\n",
       "             'agt': 29,\n",
       "             'ata': 36,\n",
       "             'atc': 24,\n",
       "             'atg': 55,\n",
       "             'att': 37,\n",
       "             'caa': 60,\n",
       "             'cac': 19,\n",
       "             'cag': 35,\n",
       "             'cat': 27,\n",
       "             'cca': 36,\n",
       "             'ccc': 11,\n",
       "             'ccg': 3,\n",
       "             'cct': 18,\n",
       "             'cga': 13,\n",
       "             'cgc': 2,\n",
       "             'cgg': 9,\n",
       "             'cgt': 3,\n",
       "             'cta': 18,\n",
       "             'ctc': 25,\n",
       "             'ctg': 19,\n",
       "             'ctt': 19,\n",
       "             'gaa': 59,\n",
       "             'gac': 22,\n",
       "             'gag': 36,\n",
       "             'gat': 33,\n",
       "             'gca': 31,\n",
       "             'gcc': 8,\n",
       "             'gcg': 6,\n",
       "             'gct': 16,\n",
       "             'gga': 42,\n",
       "             'ggc': 15,\n",
       "             'ggg': 30,\n",
       "             'ggt': 24,\n",
       "             'gta': 24,\n",
       "             'gtc': 18,\n",
       "             'gtg': 22,\n",
       "             'gtt': 21,\n",
       "             'taa': 30,\n",
       "             'tac': 24,\n",
       "             'tag': 25,\n",
       "             'tat': 25,\n",
       "             'tca': 38,\n",
       "             'tcc': 23,\n",
       "             'tcg': 8,\n",
       "             'tct': 21,\n",
       "             'tga': 29,\n",
       "             'tgc': 20,\n",
       "             'tgg': 45,\n",
       "             'tgt': 29,\n",
       "             'tta': 26,\n",
       "             'ttc': 24,\n",
       "             'ttg': 27,\n",
       "             'ttt': 31})"
      ]
     },
     "execution_count": 19,
     "metadata": {},
     "output_type": "execute_result"
    }
   ],
   "source": [
    "d"
   ]
  },
  {
   "cell_type": "code",
   "execution_count": null,
   "metadata": {
    "collapsed": true
   },
   "outputs": [],
   "source": [
    "df['sequence']=df.apply (lambda row: sequence(row,3),axis=1)"
   ]
  },
  {
   "cell_type": "code",
   "execution_count": 20,
   "metadata": {
    "collapsed": false
   },
   "outputs": [],
   "source": [
    "knmers=[]\n",
    "def sequence_unique(row,n):\n",
    "    s=row['seqs']\n",
    "    k=len(s)-2*n\n",
    "    klist = []\n",
    "    for i in range(k):\n",
    "        kmer=s[i:i+n]\n",
    "        if not(kmer in klist) and (kmer in s[i+n:]):\n",
    "            klist.append(kmer)\n",
    "            knmers = ','.join(klist)   \n",
    "    return knmers\n",
    "totalvocab_tokenized = []\n",
    "for index,row in df.iterrows():\n",
    "    #allwords_stemmed = sequence_unique(i) #for each item in 'synopses', tokenize/stem\n",
    "    #totalvocab_stemmed.extend(allwords_stemmed) #extend the 'totalvocab_stemmed' list\n",
    "    \n",
    "    allwords_tokenized = sequence_unique(row,3)\n",
    "    totalvocab_tokenized.extend(allwords_tokenized)"
   ]
  },
  {
   "cell_type": "code",
   "execution_count": 21,
   "metadata": {
    "collapsed": false
   },
   "outputs": [
    {
     "data": {
      "text/plain": [
       "'tct,ctg,tgt,gtc,tca,caa,aaa,aat,atg,tgg,gga,gag,aga,gaa,ata,tag,agt,gtg,tgc,gct,ctt,ttc,ttt,ttg,gcg,cga,gat,cag,gtt,tta,taa,aag,tga,atc,att,gca,cat,ggt,tac,acc,cca,aac,aca,act,ctc,tcg,gac,agc,agg,cac,acg,cgt,gcc,ccc,cgg,ggg,cta,cct,gta,ggc,tcc,ccg,tat,cgc'"
      ]
     },
     "execution_count": 21,
     "metadata": {},
     "output_type": "execute_result"
    }
   ],
   "source": [
    "allwords_tokenized\n",
    "#totalvocab_tokenized[:10]"
   ]
  },
  {
   "cell_type": "code",
   "execution_count": 22,
   "metadata": {
    "collapsed": false
   },
   "outputs": [
    {
     "name": "stdout",
     "output_type": "stream",
     "text": [
      "there are 630 items in vocab_frame\n"
     ]
    }
   ],
   "source": [
    "vocab_frame = pd.DataFrame({'sequence': allwords_tokenized}, index = df['length'])\n",
    "print 'there are ' + str(vocab_frame.shape[0]) + ' items in vocab_frame'"
   ]
  },
  {
   "cell_type": "code",
   "execution_count": 26,
   "metadata": {
    "collapsed": false
   },
   "outputs": [
    {
     "data": {
      "text/plain": [
       "'tct,ctg,tgt,gtc,tca,caa,aaa,aat,atg,tgg,gga,gag,aga,gaa,ata,tag,agt,gtg,tgc,gct,ctt,ttc,ttt,ttg,gcg,cga,gat,cag,gtt,tta,taa,aag,tga,atc,att,gca,cat,ggt,tac,acc,cca,aac,aca,act,ctc,tcg,gac,agc,agg,cac,acg,cgt,gcc,ccc,cgg,ggg,cta,cct,gta,ggc,tcc,ccg,tat,cgc'"
      ]
     },
     "execution_count": 26,
     "metadata": {},
     "output_type": "execute_result"
    }
   ],
   "source": [
    "allwords_tokenized"
   ]
  },
  {
   "cell_type": "code",
   "execution_count": 23,
   "metadata": {
    "collapsed": false
   },
   "outputs": [
    {
     "name": "stdout",
     "output_type": "stream",
     "text": [
      "CPU times: user 3.57 s, sys: 32.8 ms, total: 3.6 s\n",
      "Wall time: 3.61 s\n",
      "(630, 179)\n"
     ]
    }
   ],
   "source": [
    "from sklearn.feature_extraction.text import TfidfVectorizer\n",
    "\n",
    "#define vectorizer parameters\n",
    "tfidf_vectorizer = TfidfVectorizer(max_df=0.8, max_features=200000,\n",
    "                                 min_df=0.2,\n",
    "                                 use_idf=True, ngram_range=(1,3))\n",
    "\n",
    "%time tfidf_matrix = tfidf_vectorizer.fit_transform(df['sequence']) #fit the vectorizer to synopses\n",
    "\n",
    "print(tfidf_matrix.shape)"
   ]
  },
  {
   "cell_type": "code",
   "execution_count": 24,
   "metadata": {
    "collapsed": true
   },
   "outputs": [],
   "source": [
    "terms = tfidf_vectorizer.get_feature_names()"
   ]
  },
  {
   "cell_type": "code",
   "execution_count": 25,
   "metadata": {
    "collapsed": false
   },
   "outputs": [
    {
     "data": {
      "text/plain": [
       "179"
      ]
     },
     "execution_count": 25,
     "metadata": {},
     "output_type": "execute_result"
    }
   ],
   "source": [
    "len(terms)"
   ]
  },
  {
   "cell_type": "code",
   "execution_count": 26,
   "metadata": {
    "collapsed": false
   },
   "outputs": [
    {
     "name": "stdout",
     "output_type": "stream",
     "text": [
      "\n",
      "\n"
     ]
    }
   ],
   "source": [
    "from sklearn.metrics.pairwise import cosine_similarity\n",
    "dist = 1 - cosine_similarity(tfidf_matrix)\n",
    "print\n",
    "print"
   ]
  },
  {
   "cell_type": "code",
   "execution_count": 34,
   "metadata": {
    "collapsed": false
   },
   "outputs": [
    {
     "name": "stdout",
     "output_type": "stream",
     "text": [
      "CPU times: user 203 ms, sys: 0 ns, total: 203 ms\n",
      "Wall time: 203 ms\n"
     ]
    }
   ],
   "source": [
    "from sklearn.cluster import KMeans\n",
    "\n",
    "num_clusters = 2\n",
    "\n",
    "km = KMeans(n_clusters=num_clusters)\n",
    "\n",
    "%time km.fit(tfidf_matrix)\n",
    "\n",
    "clusters = km.labels_.tolist()"
   ]
  },
  {
   "cell_type": "code",
   "execution_count": 35,
   "metadata": {
    "collapsed": false
   },
   "outputs": [],
   "source": [
    "genes = { 'ID': df['ID'], 'sequence': df['sequence'],'length':df['length'] ,'cluster': clusters}\n",
    "\n",
    "frame = pd.DataFrame(genes, index = [clusters] , columns = ['ID', 'sequence', 'cluster','length'])"
   ]
  },
  {
   "cell_type": "code",
   "execution_count": 36,
   "metadata": {
    "collapsed": false
   },
   "outputs": [
    {
     "data": {
      "text/plain": [
       "1    481\n",
       "0    149\n",
       "Name: cluster, dtype: int64"
      ]
     },
     "execution_count": 36,
     "metadata": {},
     "output_type": "execute_result"
    }
   ],
   "source": [
    "frame['cluster'].value_counts()"
   ]
  },
  {
   "cell_type": "code",
   "execution_count": 37,
   "metadata": {
    "collapsed": false
   },
   "outputs": [
    {
     "data": {
      "text/plain": [
       "cluster\n",
       "0    1779\n",
       "1    1704\n",
       "Name: length, dtype: int64"
      ]
     },
     "execution_count": 37,
     "metadata": {},
     "output_type": "execute_result"
    }
   ],
   "source": [
    "grouped = frame['length'].groupby(frame['cluster']) #groupby cluster for aggregation purposes\n",
    "\n",
    "grouped.mean()"
   ]
  },
  {
   "cell_type": "code",
   "execution_count": 47,
   "metadata": {
    "collapsed": false
   },
   "outputs": [
    {
     "name": "stdout",
     "output_type": "stream",
     "text": [
      "Top terms per cluster:\n",
      "\n",
      "Cluster 0 words:"
     ]
    },
    {
     "ename": "AttributeError",
     "evalue": "'float' object has no attribute 'encode'",
     "output_type": "error",
     "traceback": [
      "\u001b[1;31m---------------------------------------------------------------------------\u001b[0m",
      "\u001b[1;31mAttributeError\u001b[0m                            Traceback (most recent call last)",
      "\u001b[1;32m<ipython-input-47-8ab2dd231f7b>\u001b[0m in \u001b[0;36m<module>\u001b[1;34m()\u001b[0m\n\u001b[0;32m     10\u001b[0m \u001b[1;33m\u001b[0m\u001b[0m\n\u001b[0;32m     11\u001b[0m     \u001b[1;32mfor\u001b[0m \u001b[0mind\u001b[0m \u001b[1;32min\u001b[0m \u001b[0morder_centroids\u001b[0m\u001b[1;33m[\u001b[0m\u001b[0mi\u001b[0m\u001b[1;33m,\u001b[0m \u001b[1;33m:\u001b[0m\u001b[1;36m6\u001b[0m\u001b[1;33m]\u001b[0m\u001b[1;33m:\u001b[0m \u001b[1;31m#replace 6 with n words per cluster\u001b[0m\u001b[1;33m\u001b[0m\u001b[0m\n\u001b[1;32m---> 12\u001b[1;33m         \u001b[1;32mprint\u001b[0m\u001b[1;33m(\u001b[0m\u001b[1;34m' %s'\u001b[0m \u001b[1;33m%\u001b[0m \u001b[0mvocab_frame\u001b[0m\u001b[1;33m.\u001b[0m\u001b[0mix\u001b[0m\u001b[1;33m[\u001b[0m\u001b[0mterms\u001b[0m\u001b[1;33m[\u001b[0m\u001b[0mind\u001b[0m\u001b[1;33m]\u001b[0m\u001b[1;33m.\u001b[0m\u001b[0msplit\u001b[0m\u001b[1;33m(\u001b[0m\u001b[1;34m' '\u001b[0m\u001b[1;33m)\u001b[0m\u001b[1;33m]\u001b[0m\u001b[1;33m.\u001b[0m\u001b[0mvalues\u001b[0m\u001b[1;33m.\u001b[0m\u001b[0mtolist\u001b[0m\u001b[1;33m(\u001b[0m\u001b[1;33m)\u001b[0m\u001b[1;33m[\u001b[0m\u001b[1;36m0\u001b[0m\u001b[1;33m]\u001b[0m\u001b[1;33m[\u001b[0m\u001b[1;36m0\u001b[0m\u001b[1;33m]\u001b[0m\u001b[1;33m.\u001b[0m\u001b[0mencode\u001b[0m\u001b[1;33m(\u001b[0m\u001b[1;34m'utf-8'\u001b[0m\u001b[1;33m,\u001b[0m \u001b[1;34m'ignore'\u001b[0m\u001b[1;33m)\u001b[0m\u001b[1;33m,\u001b[0m \u001b[0mend\u001b[0m\u001b[1;33m=\u001b[0m\u001b[1;34m','\u001b[0m\u001b[1;33m)\u001b[0m\u001b[1;33m\u001b[0m\u001b[0m\n\u001b[0m\u001b[0;32m     13\u001b[0m     \u001b[1;32mprint\u001b[0m\u001b[1;33m(\u001b[0m\u001b[1;33m)\u001b[0m \u001b[1;31m#add whitespace\u001b[0m\u001b[1;33m\u001b[0m\u001b[0m\n\u001b[0;32m     14\u001b[0m     \u001b[1;32mprint\u001b[0m\u001b[1;33m(\u001b[0m\u001b[1;33m)\u001b[0m \u001b[1;31m#add whitespace\u001b[0m\u001b[1;33m\u001b[0m\u001b[0m\n",
      "\u001b[1;31mAttributeError\u001b[0m: 'float' object has no attribute 'encode'"
     ]
    }
   ],
   "source": [
    "from __future__ import print_function\n",
    "\n",
    "print(\"Top terms per cluster:\")\n",
    "print()\n",
    "#sort cluster centers by proximity to centroid\n",
    "order_centroids = km.cluster_centers_.argsort()[:, ::-1] \n",
    "\n",
    "for i in range(num_clusters):\n",
    "    print(\"Cluster %d words:\" % i, end='')\n",
    "    \n",
    "    for ind in order_centroids[i, :6]: #replace 6 with n words per cluster\n",
    "        print(' %s' % vocab_frame.ix[terms[ind].split(' ')].values.tolist()[0][0].encode('utf-8', 'ignore'), end=',')\n",
    "    print() #add whitespace\n",
    "    print() #add whitespace\n",
    "    \n",
    "    print(\"Cluster %d titles:\" % i, end='')\n",
    "    for title in frame.ix[i]['title'].values.tolist():\n",
    "        print(' %s,' % title, end='')\n",
    "    print() #add whitespace\n",
    "    print() #add whitespace\n",
    "    \n",
    "print()\n",
    "print()"
   ]
  },
  {
   "cell_type": "code",
   "execution_count": 41,
   "metadata": {
    "collapsed": false
   },
   "outputs": [
    {
     "data": {
      "text/html": [
       "<div>\n",
       "<table border=\"1\" class=\"dataframe\">\n",
       "  <thead>\n",
       "    <tr style=\"text-align: right;\">\n",
       "      <th></th>\n",
       "      <th>ID</th>\n",
       "      <th>seqs</th>\n",
       "      <th>length</th>\n",
       "      <th>sequence</th>\n",
       "    </tr>\n",
       "  </thead>\n",
       "  <tbody>\n",
       "    <tr>\n",
       "      <th>467</th>\n",
       "      <td>1</td>\n",
       "      <td>aaatggagaaaatagtgcttctttttgcgatagtcagtcttgttaa...</td>\n",
       "      <td>1731</td>\n",
       "      <td>aaa aat atg tgg gga gag aga gaa aaa aaa aat at...</td>\n",
       "    </tr>\n",
       "    <tr>\n",
       "      <th>468</th>\n",
       "      <td>1</td>\n",
       "      <td>atggagaaaatagtgcttctttttgcgatagtcagtcttgttaaaa...</td>\n",
       "      <td>1732</td>\n",
       "      <td>atg tgg gga gag aga gaa aaa aaa aat ata tag ag...</td>\n",
       "    </tr>\n",
       "    <tr>\n",
       "      <th>469</th>\n",
       "      <td>1</td>\n",
       "      <td>atggagaaaatagtgcttctttttgcgatagtcagtcttgttaaaa...</td>\n",
       "      <td>1728</td>\n",
       "      <td>atg tgg gga gag aga gaa aaa aaa aat ata tag ag...</td>\n",
       "    </tr>\n",
       "    <tr>\n",
       "      <th>470</th>\n",
       "      <td>1</td>\n",
       "      <td>atggagaaaatagtgcttctttttgcgatagtcagtcttgttaaaa...</td>\n",
       "      <td>1728</td>\n",
       "      <td>atg tgg gga gag aga gaa aaa aaa aat ata tag ag...</td>\n",
       "    </tr>\n",
       "    <tr>\n",
       "      <th>471</th>\n",
       "      <td>1</td>\n",
       "      <td>atggagagaatagtgcttctttttgcaatagtcagtcttgttaaaa...</td>\n",
       "      <td>1707</td>\n",
       "      <td>atg tgg gga gag aga gag aga gaa aat ata tag ag...</td>\n",
       "    </tr>\n",
       "    <tr>\n",
       "      <th>472</th>\n",
       "      <td>1</td>\n",
       "      <td>atggagaaaatagtgcttctttttgcgatagtcagtcttgttaaaa...</td>\n",
       "      <td>1731</td>\n",
       "      <td>atg tgg gga gag aga gaa aaa aaa aat ata tag ag...</td>\n",
       "    </tr>\n",
       "    <tr>\n",
       "      <th>473</th>\n",
       "      <td>1</td>\n",
       "      <td>atggagaaaatagtgcttctttttgcgatagtcagtcttgttaaaa...</td>\n",
       "      <td>1731</td>\n",
       "      <td>atg tgg gga gag aga gaa aaa aaa aat ata tag ag...</td>\n",
       "    </tr>\n",
       "    <tr>\n",
       "      <th>474</th>\n",
       "      <td>1</td>\n",
       "      <td>atggagaaaatagtgcttctttttgcgatagtcagtcttgttaaaa...</td>\n",
       "      <td>1731</td>\n",
       "      <td>atg tgg gga gag aga gaa aaa aaa aat ata tag ag...</td>\n",
       "    </tr>\n",
       "    <tr>\n",
       "      <th>475</th>\n",
       "      <td>1</td>\n",
       "      <td>atggagaaaatagtgcttctttttgcgatagtcagtcttgttaaaa...</td>\n",
       "      <td>1728</td>\n",
       "      <td>atg tgg gga gag aga gaa aaa aaa aat ata tag ag...</td>\n",
       "    </tr>\n",
       "    <tr>\n",
       "      <th>476</th>\n",
       "      <td>1</td>\n",
       "      <td>tctgtcaaaatggagaaaatagtgcttcttcttgcaatagtcaacc...</td>\n",
       "      <td>1733</td>\n",
       "      <td>tct ctg tgt gtc tca caa aaa aaa aat atg tgg gg...</td>\n",
       "    </tr>\n",
       "    <tr>\n",
       "      <th>477</th>\n",
       "      <td>1</td>\n",
       "      <td>atctgtcaaaatggagaaaatagtgcttcttcttgcaatagtcaac...</td>\n",
       "      <td>1733</td>\n",
       "      <td>atc tct ctg tgt gtc tca caa aaa aaa aat atg tg...</td>\n",
       "    </tr>\n",
       "    <tr>\n",
       "      <th>478</th>\n",
       "      <td>1</td>\n",
       "      <td>gatctgtcaaaatggagaaaatagtgcttcttcttgcaatagtcaa...</td>\n",
       "      <td>1734</td>\n",
       "      <td>gat atc tct ctg tgt gtc tca caa aaa aaa aat at...</td>\n",
       "    </tr>\n",
       "    <tr>\n",
       "      <th>479</th>\n",
       "      <td>1</td>\n",
       "      <td>tcaatctgtcaaaatggagaaaatagtgcttcttcttgcaatagtc...</td>\n",
       "      <td>1736</td>\n",
       "      <td>tca caa aat atc tct ctg tgt gtc tca caa aaa aa...</td>\n",
       "    </tr>\n",
       "    <tr>\n",
       "      <th>480</th>\n",
       "      <td>1</td>\n",
       "      <td>tctgtcaaaatggagaaaatagtgcttcttcttgcaatagtcaacc...</td>\n",
       "      <td>1733</td>\n",
       "      <td>tct ctg tgt gtc tca caa aaa aaa aat atg tgg gg...</td>\n",
       "    </tr>\n",
       "    <tr>\n",
       "      <th>481</th>\n",
       "      <td>1</td>\n",
       "      <td>gatctgtcaaaatggagaaaatagtgcttcttcttgcaatagtcag...</td>\n",
       "      <td>1734</td>\n",
       "      <td>gat atc tct ctg tgt gtc tca caa aaa aaa aat at...</td>\n",
       "    </tr>\n",
       "    <tr>\n",
       "      <th>482</th>\n",
       "      <td>1</td>\n",
       "      <td>tctgtcaaaatggagaaaatagtgcttcttcttgcaatagtcagcc...</td>\n",
       "      <td>1741</td>\n",
       "      <td>tct ctg tgt gtc tca caa aaa aaa aat atg tgg gg...</td>\n",
       "    </tr>\n",
       "    <tr>\n",
       "      <th>483</th>\n",
       "      <td>1</td>\n",
       "      <td>tcaatctgtcaaaatggagaaaatagtgcttcttcttgcaatagtc...</td>\n",
       "      <td>1737</td>\n",
       "      <td>tca caa aat atc tct ctg tgt gtc tca caa aaa aa...</td>\n",
       "    </tr>\n",
       "    <tr>\n",
       "      <th>484</th>\n",
       "      <td>1</td>\n",
       "      <td>tctgtcaaaatggagaaaatagtgcttcttcttgcaatagtcagcc...</td>\n",
       "      <td>1732</td>\n",
       "      <td>tct ctg tgt gtc tca caa aaa aaa aat atg tgg gg...</td>\n",
       "    </tr>\n",
       "    <tr>\n",
       "      <th>485</th>\n",
       "      <td>1</td>\n",
       "      <td>tgtcaaaatggagaaaatagtgcttcttcttgcaatagtcagcctt...</td>\n",
       "      <td>1737</td>\n",
       "      <td>tgt gtc tca caa aaa aaa aat atg tgg gga gag ag...</td>\n",
       "    </tr>\n",
       "    <tr>\n",
       "      <th>486</th>\n",
       "      <td>1</td>\n",
       "      <td>tgtcaaaatggagaaaatagtgcttcttcttgcaatagtcagcctt...</td>\n",
       "      <td>1737</td>\n",
       "      <td>tgt gtc tca caa aaa aaa aat atg tgg gga gag ag...</td>\n",
       "    </tr>\n",
       "    <tr>\n",
       "      <th>487</th>\n",
       "      <td>1</td>\n",
       "      <td>agcaaaagcaggggtatgatctgtcaaaatggagaaaatagtgctt...</td>\n",
       "      <td>1779</td>\n",
       "      <td>agc gca caa aaa aaa aag agc gca cag agg ggg gg...</td>\n",
       "    </tr>\n",
       "    <tr>\n",
       "      <th>488</th>\n",
       "      <td>1</td>\n",
       "      <td>tctgtcaaaatggagaaaatagtgcttctttttgcaatagtcagtc...</td>\n",
       "      <td>1737</td>\n",
       "      <td>tct ctg tgt gtc tca caa aaa aaa aat atg tgg gg...</td>\n",
       "    </tr>\n",
       "    <tr>\n",
       "      <th>489</th>\n",
       "      <td>1</td>\n",
       "      <td>ttcaatctgtcaaaatggagaaaatagtgcttcttcttgcaataat...</td>\n",
       "      <td>1742</td>\n",
       "      <td>ttc tca caa aat atc tct ctg tgt gtc tca caa aa...</td>\n",
       "    </tr>\n",
       "    <tr>\n",
       "      <th>490</th>\n",
       "      <td>1</td>\n",
       "      <td>ttcactctgtcaaaatggagaaaatagtgcttctttttgcaacaat...</td>\n",
       "      <td>1742</td>\n",
       "      <td>ttc tca cac act ctc tct ctg tgt gtc tca caa aa...</td>\n",
       "    </tr>\n",
       "    <tr>\n",
       "      <th>491</th>\n",
       "      <td>1</td>\n",
       "      <td>aaatggagaaaatagtgcttctttttgcaacaattagccttgtcaa...</td>\n",
       "      <td>1729</td>\n",
       "      <td>aaa aat atg tgg gga gag aga gaa aaa aaa aat at...</td>\n",
       "    </tr>\n",
       "    <tr>\n",
       "      <th>492</th>\n",
       "      <td>1</td>\n",
       "      <td>atggagaaaatagtgcttctttttgcaacaattagccttgtcaaaa...</td>\n",
       "      <td>1728</td>\n",
       "      <td>atg tgg gga gag aga gaa aaa aaa aat ata tag ag...</td>\n",
       "    </tr>\n",
       "    <tr>\n",
       "      <th>493</th>\n",
       "      <td>1</td>\n",
       "      <td>ttcactctgtcaaaatggagaaaatagtgcttctttttgcaacaat...</td>\n",
       "      <td>1742</td>\n",
       "      <td>ttc tca cac act ctc tct ctg tgt gtc tca caa aa...</td>\n",
       "    </tr>\n",
       "    <tr>\n",
       "      <th>494</th>\n",
       "      <td>1</td>\n",
       "      <td>ttcactctgtcaaaatggagaaaatagtgcttctctttgcaacaat...</td>\n",
       "      <td>1742</td>\n",
       "      <td>ttc tca cac act ctc tct ctg tgt gtc tca caa aa...</td>\n",
       "    </tr>\n",
       "    <tr>\n",
       "      <th>495</th>\n",
       "      <td>1</td>\n",
       "      <td>gatcagatttgcattggttaccatgcaaacaactcgacagagcagg...</td>\n",
       "      <td>1656</td>\n",
       "      <td>gat atc tca cag aga gat att ttt ttg tgc gca ca...</td>\n",
       "    </tr>\n",
       "    <tr>\n",
       "      <th>496</th>\n",
       "      <td>1</td>\n",
       "      <td>agcgaaagcaggggttcaatctgtcaaaatggagaaaatagtgctt...</td>\n",
       "      <td>1779</td>\n",
       "      <td>agc gcg cga gaa aaa aag agc gca cag agg ggg gg...</td>\n",
       "    </tr>\n",
       "    <tr>\n",
       "      <th>497</th>\n",
       "      <td>1</td>\n",
       "      <td>atggagaaaatagtgcttctttttgcaatagtcagtcttgttaaaa...</td>\n",
       "      <td>1704</td>\n",
       "      <td>atg tgg gga gag aga gaa aaa aaa aat ata tag ag...</td>\n",
       "    </tr>\n",
       "    <tr>\n",
       "      <th>498</th>\n",
       "      <td>1</td>\n",
       "      <td>atggagaaaatagtgcttctttttgcaatagtcagtcttgttaaaa...</td>\n",
       "      <td>1728</td>\n",
       "      <td>atg tgg gga gag aga gaa aaa aaa aat ata tag ag...</td>\n",
       "    </tr>\n",
       "    <tr>\n",
       "      <th>499</th>\n",
       "      <td>1</td>\n",
       "      <td>atggagaaaatagtgcttctttttgcaatagtcagtcttgttaaaa...</td>\n",
       "      <td>1728</td>\n",
       "      <td>atg tgg gga gag aga gaa aaa aaa aat ata tag ag...</td>\n",
       "    </tr>\n",
       "    <tr>\n",
       "      <th>500</th>\n",
       "      <td>1</td>\n",
       "      <td>atggagaaaatagtgcttcttcttgcaataatcagccttgctaaaa...</td>\n",
       "      <td>1704</td>\n",
       "      <td>atg tgg gga gag aga gaa aaa aaa aat ata tag ag...</td>\n",
       "    </tr>\n",
       "    <tr>\n",
       "      <th>501</th>\n",
       "      <td>1</td>\n",
       "      <td>agcaaaagcaggggtatgatctgtcaaaatggagaaaatagtgctt...</td>\n",
       "      <td>1779</td>\n",
       "      <td>agc gca caa aaa aaa aag agc gca cag agg ggg gg...</td>\n",
       "    </tr>\n",
       "    <tr>\n",
       "      <th>502</th>\n",
       "      <td>1</td>\n",
       "      <td>ttcactctgtcaaaatggagaaaatagttcttctctttgcaacaat...</td>\n",
       "      <td>1742</td>\n",
       "      <td>ttc tca cac act ctc tct ctg tgt gtc tca caa aa...</td>\n",
       "    </tr>\n",
       "    <tr>\n",
       "      <th>503</th>\n",
       "      <td>1</td>\n",
       "      <td>ttcactctgtcaaaatggagaaaatagttcttctctttgcaacaat...</td>\n",
       "      <td>1742</td>\n",
       "      <td>ttc tca cac act ctc tct ctg tgt gtc tca caa aa...</td>\n",
       "    </tr>\n",
       "    <tr>\n",
       "      <th>504</th>\n",
       "      <td>1</td>\n",
       "      <td>ttcactctgtcaaaatggagaaaatagttcttctctttgcaacaat...</td>\n",
       "      <td>1742</td>\n",
       "      <td>ttc tca cac act ctc tct ctg tgt gtc tca caa aa...</td>\n",
       "    </tr>\n",
       "    <tr>\n",
       "      <th>505</th>\n",
       "      <td>1</td>\n",
       "      <td>ttcactctgtcaaaatggagaaaatagttcttctctttgcaacaat...</td>\n",
       "      <td>1742</td>\n",
       "      <td>ttc tca cac act ctc tct ctg tgt gtc tca caa aa...</td>\n",
       "    </tr>\n",
       "    <tr>\n",
       "      <th>506</th>\n",
       "      <td>1</td>\n",
       "      <td>ttcactctgtcaaaatggagaaaatagtgcttctttttgcaacaat...</td>\n",
       "      <td>1742</td>\n",
       "      <td>ttc tca cac act ctc tct ctg tgt gtc tca caa aa...</td>\n",
       "    </tr>\n",
       "    <tr>\n",
       "      <th>507</th>\n",
       "      <td>1</td>\n",
       "      <td>ttcactctgtcaaaatggagaaaatagtgcttctttttgcaacaat...</td>\n",
       "      <td>1742</td>\n",
       "      <td>ttc tca cac act ctc tct ctg tgt gtc tca caa aa...</td>\n",
       "    </tr>\n",
       "    <tr>\n",
       "      <th>508</th>\n",
       "      <td>1</td>\n",
       "      <td>ttcactctgtcaaaatggagaaaatagttcttctctttgcaacaat...</td>\n",
       "      <td>1742</td>\n",
       "      <td>ttc tca cac act ctc tct ctg tgt gtc tca caa aa...</td>\n",
       "    </tr>\n",
       "    <tr>\n",
       "      <th>509</th>\n",
       "      <td>1</td>\n",
       "      <td>ttcactctgtcaaaatggagaaaatagttcttctctttgcaacaat...</td>\n",
       "      <td>1742</td>\n",
       "      <td>ttc tca cac act ctc tct ctg tgt gtc tca caa aa...</td>\n",
       "    </tr>\n",
       "    <tr>\n",
       "      <th>510</th>\n",
       "      <td>1</td>\n",
       "      <td>ttcactctatcaaaatggagaaaatagtgcttctttttgcaacaat...</td>\n",
       "      <td>1742</td>\n",
       "      <td>ttc tca cac act ctc tct cta tat atc tca caa aa...</td>\n",
       "    </tr>\n",
       "    <tr>\n",
       "      <th>511</th>\n",
       "      <td>1</td>\n",
       "      <td>tccaatctgtcaaaatggaaaaaatagtgctactttttgcaatagt...</td>\n",
       "      <td>1745</td>\n",
       "      <td>tcc cca caa aat atc tct ctg tgt gtc tca caa aa...</td>\n",
       "    </tr>\n",
       "    <tr>\n",
       "      <th>512</th>\n",
       "      <td>1</td>\n",
       "      <td>atggagaaaatagtgcttctttttgcgatagtcagtcttgttaaaa...</td>\n",
       "      <td>1731</td>\n",
       "      <td>atg tgg gga gag aga gaa aaa aaa aat ata tag ag...</td>\n",
       "    </tr>\n",
       "    <tr>\n",
       "      <th>513</th>\n",
       "      <td>1</td>\n",
       "      <td>aatctgtcaaaatggagaaaatagtgcttctttttgcgatagtcaa...</td>\n",
       "      <td>1749</td>\n",
       "      <td>aat atc tct ctg tgt gtc tca caa aaa aaa aat at...</td>\n",
       "    </tr>\n",
       "    <tr>\n",
       "      <th>514</th>\n",
       "      <td>1</td>\n",
       "      <td>atggagaaaatagtgcttctttttgcgatagtcagtcttgttaaaa...</td>\n",
       "      <td>1707</td>\n",
       "      <td>atg tgg gga gag aga gaa aaa aaa aat ata tag ag...</td>\n",
       "    </tr>\n",
       "  </tbody>\n",
       "</table>\n",
       "</div>"
      ],
      "text/plain": [
       "     ID                                               seqs  length  \\\n",
       "467   1  aaatggagaaaatagtgcttctttttgcgatagtcagtcttgttaa...    1731   \n",
       "468   1  atggagaaaatagtgcttctttttgcgatagtcagtcttgttaaaa...    1732   \n",
       "469   1  atggagaaaatagtgcttctttttgcgatagtcagtcttgttaaaa...    1728   \n",
       "470   1  atggagaaaatagtgcttctttttgcgatagtcagtcttgttaaaa...    1728   \n",
       "471   1  atggagagaatagtgcttctttttgcaatagtcagtcttgttaaaa...    1707   \n",
       "472   1  atggagaaaatagtgcttctttttgcgatagtcagtcttgttaaaa...    1731   \n",
       "473   1  atggagaaaatagtgcttctttttgcgatagtcagtcttgttaaaa...    1731   \n",
       "474   1  atggagaaaatagtgcttctttttgcgatagtcagtcttgttaaaa...    1731   \n",
       "475   1  atggagaaaatagtgcttctttttgcgatagtcagtcttgttaaaa...    1728   \n",
       "476   1  tctgtcaaaatggagaaaatagtgcttcttcttgcaatagtcaacc...    1733   \n",
       "477   1  atctgtcaaaatggagaaaatagtgcttcttcttgcaatagtcaac...    1733   \n",
       "478   1  gatctgtcaaaatggagaaaatagtgcttcttcttgcaatagtcaa...    1734   \n",
       "479   1  tcaatctgtcaaaatggagaaaatagtgcttcttcttgcaatagtc...    1736   \n",
       "480   1  tctgtcaaaatggagaaaatagtgcttcttcttgcaatagtcaacc...    1733   \n",
       "481   1  gatctgtcaaaatggagaaaatagtgcttcttcttgcaatagtcag...    1734   \n",
       "482   1  tctgtcaaaatggagaaaatagtgcttcttcttgcaatagtcagcc...    1741   \n",
       "483   1  tcaatctgtcaaaatggagaaaatagtgcttcttcttgcaatagtc...    1737   \n",
       "484   1  tctgtcaaaatggagaaaatagtgcttcttcttgcaatagtcagcc...    1732   \n",
       "485   1  tgtcaaaatggagaaaatagtgcttcttcttgcaatagtcagcctt...    1737   \n",
       "486   1  tgtcaaaatggagaaaatagtgcttcttcttgcaatagtcagcctt...    1737   \n",
       "487   1  agcaaaagcaggggtatgatctgtcaaaatggagaaaatagtgctt...    1779   \n",
       "488   1  tctgtcaaaatggagaaaatagtgcttctttttgcaatagtcagtc...    1737   \n",
       "489   1  ttcaatctgtcaaaatggagaaaatagtgcttcttcttgcaataat...    1742   \n",
       "490   1  ttcactctgtcaaaatggagaaaatagtgcttctttttgcaacaat...    1742   \n",
       "491   1  aaatggagaaaatagtgcttctttttgcaacaattagccttgtcaa...    1729   \n",
       "492   1  atggagaaaatagtgcttctttttgcaacaattagccttgtcaaaa...    1728   \n",
       "493   1  ttcactctgtcaaaatggagaaaatagtgcttctttttgcaacaat...    1742   \n",
       "494   1  ttcactctgtcaaaatggagaaaatagtgcttctctttgcaacaat...    1742   \n",
       "495   1  gatcagatttgcattggttaccatgcaaacaactcgacagagcagg...    1656   \n",
       "496   1  agcgaaagcaggggttcaatctgtcaaaatggagaaaatagtgctt...    1779   \n",
       "497   1  atggagaaaatagtgcttctttttgcaatagtcagtcttgttaaaa...    1704   \n",
       "498   1  atggagaaaatagtgcttctttttgcaatagtcagtcttgttaaaa...    1728   \n",
       "499   1  atggagaaaatagtgcttctttttgcaatagtcagtcttgttaaaa...    1728   \n",
       "500   1  atggagaaaatagtgcttcttcttgcaataatcagccttgctaaaa...    1704   \n",
       "501   1  agcaaaagcaggggtatgatctgtcaaaatggagaaaatagtgctt...    1779   \n",
       "502   1  ttcactctgtcaaaatggagaaaatagttcttctctttgcaacaat...    1742   \n",
       "503   1  ttcactctgtcaaaatggagaaaatagttcttctctttgcaacaat...    1742   \n",
       "504   1  ttcactctgtcaaaatggagaaaatagttcttctctttgcaacaat...    1742   \n",
       "505   1  ttcactctgtcaaaatggagaaaatagttcttctctttgcaacaat...    1742   \n",
       "506   1  ttcactctgtcaaaatggagaaaatagtgcttctttttgcaacaat...    1742   \n",
       "507   1  ttcactctgtcaaaatggagaaaatagtgcttctttttgcaacaat...    1742   \n",
       "508   1  ttcactctgtcaaaatggagaaaatagttcttctctttgcaacaat...    1742   \n",
       "509   1  ttcactctgtcaaaatggagaaaatagttcttctctttgcaacaat...    1742   \n",
       "510   1  ttcactctatcaaaatggagaaaatagtgcttctttttgcaacaat...    1742   \n",
       "511   1  tccaatctgtcaaaatggaaaaaatagtgctactttttgcaatagt...    1745   \n",
       "512   1  atggagaaaatagtgcttctttttgcgatagtcagtcttgttaaaa...    1731   \n",
       "513   1  aatctgtcaaaatggagaaaatagtgcttctttttgcgatagtcaa...    1749   \n",
       "514   1  atggagaaaatagtgcttctttttgcgatagtcagtcttgttaaaa...    1707   \n",
       "\n",
       "                                              sequence  \n",
       "467  aaa aat atg tgg gga gag aga gaa aaa aaa aat at...  \n",
       "468  atg tgg gga gag aga gaa aaa aaa aat ata tag ag...  \n",
       "469  atg tgg gga gag aga gaa aaa aaa aat ata tag ag...  \n",
       "470  atg tgg gga gag aga gaa aaa aaa aat ata tag ag...  \n",
       "471  atg tgg gga gag aga gag aga gaa aat ata tag ag...  \n",
       "472  atg tgg gga gag aga gaa aaa aaa aat ata tag ag...  \n",
       "473  atg tgg gga gag aga gaa aaa aaa aat ata tag ag...  \n",
       "474  atg tgg gga gag aga gaa aaa aaa aat ata tag ag...  \n",
       "475  atg tgg gga gag aga gaa aaa aaa aat ata tag ag...  \n",
       "476  tct ctg tgt gtc tca caa aaa aaa aat atg tgg gg...  \n",
       "477  atc tct ctg tgt gtc tca caa aaa aaa aat atg tg...  \n",
       "478  gat atc tct ctg tgt gtc tca caa aaa aaa aat at...  \n",
       "479  tca caa aat atc tct ctg tgt gtc tca caa aaa aa...  \n",
       "480  tct ctg tgt gtc tca caa aaa aaa aat atg tgg gg...  \n",
       "481  gat atc tct ctg tgt gtc tca caa aaa aaa aat at...  \n",
       "482  tct ctg tgt gtc tca caa aaa aaa aat atg tgg gg...  \n",
       "483  tca caa aat atc tct ctg tgt gtc tca caa aaa aa...  \n",
       "484  tct ctg tgt gtc tca caa aaa aaa aat atg tgg gg...  \n",
       "485  tgt gtc tca caa aaa aaa aat atg tgg gga gag ag...  \n",
       "486  tgt gtc tca caa aaa aaa aat atg tgg gga gag ag...  \n",
       "487  agc gca caa aaa aaa aag agc gca cag agg ggg gg...  \n",
       "488  tct ctg tgt gtc tca caa aaa aaa aat atg tgg gg...  \n",
       "489  ttc tca caa aat atc tct ctg tgt gtc tca caa aa...  \n",
       "490  ttc tca cac act ctc tct ctg tgt gtc tca caa aa...  \n",
       "491  aaa aat atg tgg gga gag aga gaa aaa aaa aat at...  \n",
       "492  atg tgg gga gag aga gaa aaa aaa aat ata tag ag...  \n",
       "493  ttc tca cac act ctc tct ctg tgt gtc tca caa aa...  \n",
       "494  ttc tca cac act ctc tct ctg tgt gtc tca caa aa...  \n",
       "495  gat atc tca cag aga gat att ttt ttg tgc gca ca...  \n",
       "496  agc gcg cga gaa aaa aag agc gca cag agg ggg gg...  \n",
       "497  atg tgg gga gag aga gaa aaa aaa aat ata tag ag...  \n",
       "498  atg tgg gga gag aga gaa aaa aaa aat ata tag ag...  \n",
       "499  atg tgg gga gag aga gaa aaa aaa aat ata tag ag...  \n",
       "500  atg tgg gga gag aga gaa aaa aaa aat ata tag ag...  \n",
       "501  agc gca caa aaa aaa aag agc gca cag agg ggg gg...  \n",
       "502  ttc tca cac act ctc tct ctg tgt gtc tca caa aa...  \n",
       "503  ttc tca cac act ctc tct ctg tgt gtc tca caa aa...  \n",
       "504  ttc tca cac act ctc tct ctg tgt gtc tca caa aa...  \n",
       "505  ttc tca cac act ctc tct ctg tgt gtc tca caa aa...  \n",
       "506  ttc tca cac act ctc tct ctg tgt gtc tca caa aa...  \n",
       "507  ttc tca cac act ctc tct ctg tgt gtc tca caa aa...  \n",
       "508  ttc tca cac act ctc tct ctg tgt gtc tca caa aa...  \n",
       "509  ttc tca cac act ctc tct ctg tgt gtc tca caa aa...  \n",
       "510  ttc tca cac act ctc tct cta tat atc tca caa aa...  \n",
       "511  tcc cca caa aat atc tct ctg tgt gtc tca caa aa...  \n",
       "512  atg tgg gga gag aga gaa aaa aaa aat ata tag ag...  \n",
       "513  aat atc tct ctg tgt gtc tca caa aaa aaa aat at...  \n",
       "514  atg tgg gga gag aga gaa aaa aaa aat ata tag ag...  "
      ]
     },
     "execution_count": 41,
     "metadata": {},
     "output_type": "execute_result"
    }
   ],
   "source": [
    "df[(df['ID']==1)]"
   ]
  },
  {
   "cell_type": "code",
   "execution_count": null,
   "metadata": {
    "collapsed": true
   },
   "outputs": [],
   "source": []
  }
 ],
 "metadata": {
  "kernelspec": {
   "display_name": "Python 2",
   "language": "python",
   "name": "python2"
  },
  "language_info": {
   "codemirror_mode": {
    "name": "ipython",
    "version": 2
   },
   "file_extension": ".py",
   "mimetype": "text/x-python",
   "name": "python",
   "nbconvert_exporter": "python",
   "pygments_lexer": "ipython2",
   "version": "2.7.6"
  }
 },
 "nbformat": 4,
 "nbformat_minor": 0
}
